{
 "cells": [
  {
   "cell_type": "markdown",
   "metadata": {},
   "source": [
    "# Lab4: Using eigen decomposition to learn Markov chain\n",
    "\n",
    "## (Modified from Dr Steve Klee's Linear algebra lab in Matlab). \n",
    "\n",
    "### Complete the lab, by runnig this notebook, or adding your own code\n"
   ]
  },
  {
   "cell_type": "markdown",
   "metadata": {},
   "source": [
    "The people of the north are divided between those who are pro-Jon Snow and those who are pro-Daenerys Targaryen. As things change down in King's landing, their alliance may change over time. In a given year, \n",
    "\n",
    " There is a 90% chance that a pro-Jon Snow citizen will remain pro-Jon snow\n",
    " \n",
    " There is a 10% chance that a pro-Jon Snow citizen will become pro-Daenerys Targaryen\n",
    " \n",
    " There is a 82% chance that a pro-Daenerys Targaryen citizen will remain pro-Daenerys Targaryen\n",
    " \n",
    " There is a 18% chance that a pro-Daenerys Targaryen citizen will become pro-Jon Snow\n",
    "\n",
    "There are currently 15000 pro-Jon Snow citizens and only 800 pro- Daenerys Targaryen citizens.\n",
    "\n",
    "We define $M=\\begin{pmatrix}0.9 & 0.18\\\\0.1&0.82\\end{pmatrix}$ and $v_0=\\begin{pmatrix}15000\\\\ 800\\end{pmatrix}$."
   ]
  },
  {
   "cell_type": "markdown",
   "metadata": {},
   "source": [
    "1. Use Python to find the products $Mv_0$, $M^{2}v_0$, $M^{3}v_0$..., $M^{50}v_0$. Run the following code. What do these vectors represent?"
   ]
  },
  {
   "cell_type": "code",
   "execution_count": 32,
   "metadata": {},
   "outputs": [],
   "source": [
    "# import packages\n",
    "import numpy as np\n",
    "import sympy"
   ]
  },
  {
   "cell_type": "code",
   "execution_count": 33,
   "metadata": {},
   "outputs": [
    {
     "name": "stdout",
     "output_type": "stream",
     "text": [
      "M = [[0.9  0.18]\n",
      " [0.1  0.82]]\n",
      "v0 = [[15000]\n",
      " [  800]]\n"
     ]
    }
   ],
   "source": [
    "# define matrix and vector\n",
    "M = np.array([[0.9, 0.18],[0.1,0.82]])\n",
    "v0 = np.array([[15000],[800]])\n",
    "\n",
    "# print M and v0\n",
    "\n",
    "print(\"M =\", M)\n",
    "print (\"v0 =\",v0)"
   ]
  },
  {
   "cell_type": "code",
   "execution_count": 34,
   "metadata": {},
   "outputs": [
    {
     "name": "stdout",
     "output_type": "stream",
     "text": [
      "The product M^ 1  * v0 is  [[13644.]\n",
      " [ 2156.]]\n",
      "The product M^ 2  * v0 is  [[12667.68]\n",
      " [ 3132.32]]\n",
      "The product M^ 3  * v0 is  [[11964.7296]\n",
      " [ 3835.2704]]\n",
      "The product M^ 4  * v0 is  [[11458.605312]\n",
      " [ 4341.394688]]\n",
      "The product M^ 5  * v0 is  [[11094.19582464]\n",
      " [ 4705.80417536]]\n",
      "The product M^ 6  * v0 is  [[10831.82099374]\n",
      " [ 4968.17900626]]\n",
      "The product M^ 7  * v0 is  [[10642.91111549]\n",
      " [ 5157.08888451]]\n",
      "The product M^ 8  * v0 is  [[10506.89600316]\n",
      " [ 5293.10399684]]\n",
      "The product M^ 9  * v0 is  [[10408.96512227]\n",
      " [ 5391.03487773]]\n",
      "The product M^ 10  * v0 is  [[10338.45488804]\n",
      " [ 5461.54511196]]\n",
      "The product M^ 11  * v0 is  [[10287.68751939]\n",
      " [ 5512.31248061]]\n",
      "The product M^ 12  * v0 is  [[10251.13501396]\n",
      " [ 5548.86498604]]\n",
      "The product M^ 13  * v0 is  [[10224.81721005]\n",
      " [ 5575.18278995]]\n",
      "The product M^ 14  * v0 is  [[10205.86839124]\n",
      " [ 5594.13160876]]\n",
      "The product M^ 15  * v0 is  [[10192.22524169]\n",
      " [ 5607.77475831]]\n",
      "The product M^ 16  * v0 is  [[10182.40217402]\n",
      " [ 5617.59782598]]\n",
      "The product M^ 17  * v0 is  [[10175.32956529]\n",
      " [ 5624.67043471]]\n",
      "The product M^ 18  * v0 is  [[10170.23728701]\n",
      " [ 5629.76271299]]\n",
      "The product M^ 19  * v0 is  [[10166.57084665]\n",
      " [ 5633.42915335]]\n",
      "The product M^ 20  * v0 is  [[10163.93100959]\n",
      " [ 5636.06899041]]\n",
      "The product M^ 21  * v0 is  [[10162.0303269]\n",
      " [ 5637.9696731]]\n",
      "The product M^ 22  * v0 is  [[10160.66183537]\n",
      " [ 5639.33816463]]\n",
      "The product M^ 23  * v0 is  [[10159.67652147]\n",
      " [ 5640.32347853]]\n",
      "The product M^ 24  * v0 is  [[10158.96709546]\n",
      " [ 5641.03290454]]\n",
      "The product M^ 25  * v0 is  [[10158.45630873]\n",
      " [ 5641.54369127]]\n",
      "The product M^ 26  * v0 is  [[10158.08854228]\n",
      " [ 5641.91145772]]\n",
      "The product M^ 27  * v0 is  [[10157.82375044]\n",
      " [ 5642.17624956]]\n",
      "The product M^ 28  * v0 is  [[10157.63310032]\n",
      " [ 5642.36689968]]\n",
      "The product M^ 29  * v0 is  [[10157.49583223]\n",
      " [ 5642.50416777]]\n",
      "The product M^ 30  * v0 is  [[10157.39699921]\n",
      " [ 5642.60300079]]\n",
      "The product M^ 31  * v0 is  [[10157.32583943]\n",
      " [ 5642.67416057]]\n",
      "The product M^ 32  * v0 is  [[10157.27460439]\n",
      " [ 5642.72539561]]\n",
      "The product M^ 33  * v0 is  [[10157.23771516]\n",
      " [ 5642.76228484]]\n",
      "The product M^ 34  * v0 is  [[10157.21115491]\n",
      " [ 5642.78884509]]\n",
      "The product M^ 35  * v0 is  [[10157.19203154]\n",
      " [ 5642.80796846]]\n",
      "The product M^ 36  * v0 is  [[10157.17826271]\n",
      " [ 5642.82173729]]\n",
      "The product M^ 37  * v0 is  [[10157.16834915]\n",
      " [ 5642.83165085]]\n",
      "The product M^ 38  * v0 is  [[10157.16121139]\n",
      " [ 5642.83878861]]\n",
      "The product M^ 39  * v0 is  [[10157.1560722]\n",
      " [ 5642.8439278]]\n",
      "The product M^ 40  * v0 is  [[10157.15237198]\n",
      " [ 5642.84762802]]\n",
      "The product M^ 41  * v0 is  [[10157.14970783]\n",
      " [ 5642.85029217]]\n",
      "The product M^ 42  * v0 is  [[10157.14778964]\n",
      " [ 5642.85221036]]\n",
      "The product M^ 43  * v0 is  [[10157.14640854]\n",
      " [ 5642.85359146]]\n",
      "The product M^ 44  * v0 is  [[10157.14541415]\n",
      " [ 5642.85458585]]\n",
      "The product M^ 45  * v0 is  [[10157.14469819]\n",
      " [ 5642.85530181]]\n",
      "The product M^ 46  * v0 is  [[10157.14418269]\n",
      " [ 5642.85581731]]\n",
      "The product M^ 47  * v0 is  [[10157.14381154]\n",
      " [ 5642.85618846]]\n",
      "The product M^ 48  * v0 is  [[10157.14354431]\n",
      " [ 5642.85645569]]\n",
      "The product M^ 49  * v0 is  [[10157.1433519]\n",
      " [ 5642.8566481]]\n"
     ]
    }
   ],
   "source": [
    "# compute vectors\n",
    "product = [v0]\n",
    "for n in range(1, 50):\n",
    "    temp = M.dot(product[n-1])\n",
    "    product.append(temp)\n",
    "    print(\"The product M^\", n, \" * v0 is \", temp)\n",
    "    "
   ]
  },
  {
   "cell_type": "markdown",
   "metadata": {},
   "source": [
    "2. What do you notice about the population of pro-Jon Snow and pro-Daenerys Targaryen as time goes by? Make a guess: if we let the number of years $n\\to\\infty$, how many people do you expect to be pro-Jon Snow? How about pro-Daenerys Targaryen?\n",
    "\n",
    "3. If we let the number of years $n\\to\\infty$, what percentage of the population do you expect to be pro-Jon Snow? How about pro-Daenerys Targaryen?"
   ]
  },
  {
   "cell_type": "code",
   "execution_count": 35,
   "metadata": {},
   "outputs": [],
   "source": [
    "# Your answer for 2:\n",
    "\n",
    "# Your answer for 3:"
   ]
  },
  {
   "cell_type": "markdown",
   "metadata": {},
   "source": [
    "4. Find the eigenvalues of $M$. The command in Numpy to find the eigen decomposition is np.linalg.eig()"
   ]
  },
  {
   "cell_type": "code",
   "execution_count": 36,
   "metadata": {},
   "outputs": [
    {
     "name": "stdout",
     "output_type": "stream",
     "text": [
      "The eigenvalues are  [1.   0.72] ; the eigenvectors are  [[ 0.87415728 -0.70710678]\n",
      " [ 0.48564293  0.70710678]]\n"
     ]
    }
   ],
   "source": [
    "# Run the code to see the eigen decomposition of M.\n",
    "\n",
    "D, X = np.linalg.eig(M)\n",
    "print(\"The eigenvalues are \", D, \"; the eigenvectors are \", X)"
   ]
  },
  {
   "cell_type": "markdown",
   "metadata": {},
   "source": [
    "5. Find a basis for each of the corresponding eigenspaces. Recall you are solving $(M-\\lambda I)\\mathbf{x}=\\mathbf{0}$"
   ]
  },
  {
   "cell_type": "code",
   "execution_count": 38,
   "metadata": {},
   "outputs": [],
   "source": [
    "# You can solve it by hand; or use the sympy library by import it, and do echelon_form()\n",
    "\n",
    "# M_lambdaI_rref =sympy.Matrix(M - D[0] * np.eye(2)).echelon_form()\n",
    "\n",
    "# print(M_lambdaI_rref)"
   ]
  },
  {
   "cell_type": "markdown",
   "metadata": {},
   "source": [
    "6. Find a matrix $P$ whose columns are the basis eigenvectors you just found."
   ]
  },
  {
   "cell_type": "code",
   "execution_count": null,
   "metadata": {},
   "outputs": [],
   "source": [
    "# define a matrix from several column vectors.\n",
    "\n"
   ]
  },
  {
   "cell_type": "markdown",
   "metadata": {},
   "source": [
    "7. We saw that it is possible to write $M^n=PD^nP^{-1}$. What is $D^n$ in this case? Compute it. \n",
    "8. What happens to $D^n$ as $n\\to\\infty$? We call the limit $E$, then find the product $PEP^{-1}$."
   ]
  },
  {
   "cell_type": "code",
   "execution_count": null,
   "metadata": {},
   "outputs": [],
   "source": [
    "# Construct the diagonal matrix D, then compute its n-th power, for n = 1:50; \n",
    "# the compute PEP^{-1}\n",
    "\n"
   ]
  },
  {
   "cell_type": "markdown",
   "metadata": {},
   "source": [
    "9. We can say $\\lim_{n\\to\\infty}M^nv_0=\\lim_{n\\to\\infty}PD^nP^{-1}v0=PEP^{-1}v0$. What is $PEP^{-1}v0$? How is this related to your guess in a previous problem?"
   ]
  },
  {
   "cell_type": "markdown",
   "metadata": {},
   "source": [
    "10. In part 5, you found a basis vector for the $\\lambda=1$ eigenspace of $M$. Find another vector in this eigenspace, call it $q=(q_1,q_2)$, with the property that $q_1+q_2=1$."
   ]
  },
  {
   "cell_type": "code",
   "execution_count": 6,
   "metadata": {},
   "outputs": [],
   "source": [
    "# find another basis vector\n",
    "\n"
   ]
  }
 ],
 "metadata": {
  "kernelspec": {
   "display_name": "Python 3 (ipykernel)",
   "language": "python",
   "name": "python3"
  },
  "language_info": {
   "codemirror_mode": {
    "name": "ipython",
    "version": 3
   },
   "file_extension": ".py",
   "mimetype": "text/x-python",
   "name": "python",
   "nbconvert_exporter": "python",
   "pygments_lexer": "ipython3",
   "version": "3.8.10"
  }
 },
 "nbformat": 4,
 "nbformat_minor": 2
}
