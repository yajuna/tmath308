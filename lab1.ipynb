{
 "cells": [
  {
   "cell_type": "markdown",
   "metadata": {},
   "source": [
    "# Lab 1: RREF form and matrix arithmetics-application in image processing\n",
    "## Complete the lab, by running the code, some times adding your own code or writing documentations to explain the code"
   ]
  },
  {
   "cell_type": "markdown",
   "metadata": {},
   "source": [
    "The Python library sympy computes REF and RREF. We will try a couple of matrices here. In general though, the operation is not very accurate. "
   ]
  },
  {
   "cell_type": "code",
   "execution_count": 46,
   "metadata": {},
   "outputs": [],
   "source": [
    "# import libraries\n",
    "import numpy as np\n",
    "import scipy as sp\n",
    "import sympy\n",
    "from PIL import Image\n",
    "\n",
    "# generate a random matrix of size 4 by 4\n",
    "A = np.random.random((4,4))\n",
    "\n",
    "# find the rref form of A\n",
    "\n",
    "rA = sympy.Matrix(A).rref()\n",
    "\n",
    "# type rA to print rref of A\n",
    "\n"
   ]
  },
  {
   "cell_type": "markdown",
   "metadata": {},
   "source": [
    "## In this part, we make our own knock off of photoshop. \n",
    "Digital photos are represented by arrays of numbers. We handle them as arrays (therefore matrices) and play with the matrix operations. "
   ]
  },
  {
   "cell_type": "markdown",
   "metadata": {},
   "source": [
    "We will pre process the images from the raw import format to arrays."
   ]
  },
  {
   "cell_type": "code",
   "execution_count": 47,
   "metadata": {},
   "outputs": [
    {
     "name": "stdout",
     "output_type": "stream",
     "text": [
      "(694, 500, 3) (720, 500, 3)\n",
      "(694, 500, 3) (694, 500, 3)\n"
     ]
    }
   ],
   "source": [
    "# import images Pillow\n",
    "person = Image.open(\"pexels_person.jpeg\")\n",
    "moon = Image.open(\"pexels_moon.jpeg\")\n",
    "# uncomment to show images \n",
    "# person.show()\n",
    "# moon.show()\n",
    "\n",
    "type(person)\n",
    "type(moon)\n",
    "\n",
    "# convert image file to array\n",
    "\n",
    "personArray = np.asarray(person)\n",
    "moonArray = np.asarray(moon)\n",
    "\n",
    "# check data size\n",
    "\n",
    "\n",
    "x = np.shape(personArray)\n",
    "y = np.shape(personArray)\n",
    "\n",
    "print(x,y)\n",
    "\n",
    "m = np.minimum(x[0],y[0])\n",
    "n = np.minimum(x[1],y[1])\n",
    "\n",
    "\n"
   ]
  },
  {
   "cell_type": "markdown",
   "metadata": {},
   "source": [
    "Find the mirror reflection of the photo with respect to the diagonal, by computing the tranpose of the array."
   ]
  },
  {
   "cell_type": "code",
   "execution_count": null,
   "metadata": {},
   "outputs": [],
   "source": [
    "# import numpy package for array operations\n",
    "import numpy as np\n",
    "\n",
    "# compute transpose of above arrays\n"
   ]
  },
  {
   "cell_type": "code",
   "execution_count": null,
   "metadata": {},
   "outputs": [],
   "source": []
  }
 ],
 "metadata": {
  "kernelspec": {
   "display_name": "Python 3",
   "language": "python",
   "name": "python3"
  },
  "language_info": {
   "codemirror_mode": {
    "name": "ipython",
    "version": 3
   },
   "file_extension": ".py",
   "mimetype": "text/x-python",
   "name": "python",
   "nbconvert_exporter": "python",
   "pygments_lexer": "ipython3",
   "version": "3.6.8"
  }
 },
 "nbformat": 4,
 "nbformat_minor": 2
}
