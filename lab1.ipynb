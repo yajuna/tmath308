{
 "cells": [
  {
   "cell_type": "markdown",
   "metadata": {},
   "source": [
    "# Lab 1: RREF form, finding fit functions given data, and matrix arithmetics-application in image processing\n",
    "## Complete the lab, by running the code, some times adding your own code or writing documentations to explain the code"
   ]
  },
  {
   "cell_type": "markdown",
   "metadata": {},
   "source": [
    "The Python library sympy computes REF and RREF. We will try a couple of matrices here. In general though, the operation is not very accurate. "
   ]
  },
  {
   "cell_type": "code",
   "execution_count": 3,
   "metadata": {},
   "outputs": [],
   "source": [
    "# import libraries\n",
    "import numpy as np\n",
    "import scipy as sp\n",
    "import sympy\n",
    "from PIL import Image\n",
    "\n",
    "# generate a random matrix of size 4 by 4\n",
    "A = np.random.random((4,4))\n",
    "\n",
    "# find the rref form of A\n",
    "\n",
    "rA = sympy.Matrix(A).rref()\n",
    "\n",
    "# type rA to print rref of A\n",
    "\n"
   ]
  },
  {
   "cell_type": "markdown",
   "metadata": {},
   "source": [
    "## We solved the system in class from the electrical networks. Now we are solving the system with Python. Notice this system is not square, so we will be using a different command (we did this in lab0).\n",
    "\n",
    "We know: \n",
    "\n",
    "for node A: $-i_1+i_2-i_3=0$\n",
    "\n",
    "node B: $i_1-i_2+i_4=0$\n",
    "\n",
    "node C: $i_3-i_5+i_6=0$\n",
    "\n",
    "node D: $-i_4+i_5-i_6=0$\n",
    "\n",
    "top loop: $4i_1+2i_2=8$\n",
    "\n",
    "middle loop: $2i_2+4i_5=0$\n",
    "\n",
    "bottom loop: $4i_5+5i_6=10$\n",
    "\n",
    "And our goal is to find the currents.\n"
   ]
  },
  {
   "cell_type": "code",
   "execution_count": 6,
   "metadata": {},
   "outputs": [],
   "source": [
    "# Define coefficient matrix and right hand side vector \n",
    "\n",
    "A = np.array([[-1,1,-1,0,0,0],[1,-1,0,1,0,0],[0,0,1,0,-1,1],[0,0,0,-1,1,-1],[4,2,0,0,0,0],[0,2,0,0,4,0],[0,0,0,0,4,5]])\n",
    "\n",
    "b = np.array([0,0,0,0,8,0,10])\n",
    "\n",
    "# solve the system by uncommenting the following line\n",
    "# x = np.linalg.lstsq(A,b)"
   ]
  },
  {
   "cell_type": "markdown",
   "metadata": {},
   "source": [
    "Notice the solution you get is not nice clean integer solutions like what we got in class. Why is that? \n",
    "\n",
    "Ans: "
   ]
  },
  {
   "cell_type": "markdown",
   "metadata": {},
   "source": [
    "## Data fitting eventually comes down to solving a linear system. You are given $N$ pairs of data points $(x_i,y_i)$, and your goal is to find a curve (or function) $y=f(x)$. We normally try some reasonable ones and choose one that works the best."
   ]
  },
  {
   "cell_type": "markdown",
   "metadata": {},
   "source": [
    "## In this part, we make our own knock off of photoshop. \n",
    "Digital photos are represented by arrays of numbers. We handle them as arrays (therefore matrices) and play with the matrix operations. "
   ]
  },
  {
   "cell_type": "markdown",
   "metadata": {},
   "source": [
    "We will pre process the images from the raw import format to arrays."
   ]
  },
  {
   "cell_type": "code",
   "execution_count": 4,
   "metadata": {},
   "outputs": [],
   "source": [
    "# import images Pillow\n",
    "person = Image.open(\"pexels_person.jpeg\")\n",
    "moon = Image.open(\"pexels_moon.jpeg\")\n",
    "# uncomment to show images \n",
    "# person.show()\n",
    "# moon.show()"
   ]
  },
  {
   "cell_type": "code",
   "execution_count": null,
   "metadata": {},
   "outputs": [],
   "source": [
    "# check the data type\n",
    "type(person)\n",
    "type(moon)\n",
    "\n",
    "# convert image file to array\n",
    "\n",
    "personArray = np.asarray(person)\n",
    "moonArray = np.asarray(moon)\n",
    "\n",
    "# check data size\n",
    "\n",
    "\n",
    "x = np.shape(personArray)\n",
    "y = np.shape(personArray)\n",
    "\n",
    "print(x,y)\n",
    "\n",
    "m = np.minimum(x[0],y[0])\n",
    "n = np.minimum(x[1],y[1])"
   ]
  },
  {
   "cell_type": "markdown",
   "metadata": {},
   "source": [
    "Find the mirror reflection of the photo with respect to the diagonal, by computing the tranpose of the array."
   ]
  },
  {
   "cell_type": "code",
   "execution_count": null,
   "metadata": {},
   "outputs": [],
   "source": [
    "# import numpy package for array operations\n",
    "import numpy as np\n",
    "\n",
    "# compute transpose of above arrays\n"
   ]
  },
  {
   "cell_type": "code",
   "execution_count": null,
   "metadata": {},
   "outputs": [],
   "source": []
  }
 ],
 "metadata": {
  "kernelspec": {
   "display_name": "Python 3",
   "language": "python",
   "name": "python3"
  },
  "language_info": {
   "codemirror_mode": {
    "name": "ipython",
    "version": 3
   },
   "file_extension": ".py",
   "mimetype": "text/x-python",
   "name": "python",
   "nbconvert_exporter": "python",
   "pygments_lexer": "ipython3",
   "version": "3.6.8"
  }
 },
 "nbformat": 4,
 "nbformat_minor": 2
}
