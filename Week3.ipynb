{
  "nbformat": 4,
  "nbformat_minor": 0,
  "metadata": {
    "colab": {
      "provenance": [],
      "authorship_tag": "ABX9TyPh+k3SObhUqWoNA7VIgYBt",
      "include_colab_link": true
    },
    "kernelspec": {
      "name": "python3",
      "display_name": "Python 3"
    },
    "language_info": {
      "name": "python"
    }
  },
  "cells": [
    {
      "cell_type": "markdown",
      "metadata": {
        "id": "view-in-github",
        "colab_type": "text"
      },
      "source": [
        "<a href=\"https://colab.research.google.com/github/yajuna/tmath308/blob/master/Week3.ipynb\" target=\"_parent\"><img src=\"https://colab.research.google.com/assets/colab-badge.svg\" alt=\"Open In Colab\"/></a>"
      ]
    },
    {
      "cell_type": "markdown",
      "source": [
        "# This week, we go over Sections 3.2 and 3.3, and study matrix computation/algebra more. A lot of properties that you 'expect' to be true (properties for scalars) are still true for matrices, but there are certain things that differ- those are mostly due to the differences between scalars and arrays. Some examples include multiplication, transpose, and inverse."
      ],
      "metadata": {
        "id": "3EZuz_s_1YL4"
      }
    },
    {
      "cell_type": "markdown",
      "source": [
        "## Algebraic properties of matrix addtion and scalar multiplication\n",
        "Let $A$, $B$, and $C$ be matrices of _the same size_, and $c$, $d$ be scalars. Then\n",
        "- $A+B=B+A$\n",
        "- $(A+B)+C=A+(B+C)$\n",
        "- $A+O=A$\n",
        "- $A+(-A)=O$\n",
        "- $c(A+B)=cA+cB$\n",
        "- $(c+d)A=cA+dA$\n",
        "- $c(dA)=(cd)A$\n",
        "- $1A=A$\n",
        "\n",
        "These calculations are done element-wise. For example, $A+B$ is computed by adding the corresponding entries $a_{ij}+b_{ij}$.\n",
        "\n",
        "Therefore, these properties are easily justified with the Numpy libarary, so please play with Python a little to try."
      ],
      "metadata": {
        "id": "ZyURAgv_2ohF"
      }
    },
    {
      "cell_type": "code",
      "execution_count": 1,
      "metadata": {
        "id": "NE3r4WHN1Vn-"
      },
      "outputs": [],
      "source": [
        "import numpy as np\n",
        "import scipy as sp\n",
        "import matplotlib\n",
        "from matplotlib import pyplot as plt"
      ]
    },
    {
      "cell_type": "code",
      "source": [
        "m,n = 6,5\n",
        "min, max = -3,7\n",
        "c,d = 2,3\n",
        "A = np.random.randint(min, max, (m,n))\n",
        "B = np.random.randint(min, max, (m,n))\n",
        "C = np.random.randint(min, max, (m,n))\n",
        "O = np.zeros((m,n))\n",
        "\n",
        "print(c,d,A,B,C,O)"
      ],
      "metadata": {
        "colab": {
          "base_uri": "https://localhost:8080/"
        },
        "id": "hJwJXhbJ4nrV",
        "outputId": "5ff85937-6912-4eea-dd20-9a166bc8b0d4"
      },
      "execution_count": 2,
      "outputs": [
        {
          "output_type": "stream",
          "name": "stdout",
          "text": [
            "2 3 [[ 0  4  6  0 -3]\n",
            " [ 3  1  2  3 -1]\n",
            " [-2  0  0  6  2]\n",
            " [ 1  6  5  0  1]\n",
            " [ 1 -3  2  0 -3]\n",
            " [ 3  3  4  2  1]] [[ 0 -1  6  2 -2]\n",
            " [-3  3 -1 -1  1]\n",
            " [ 2  4  3 -2  3]\n",
            " [ 0  0  1 -2  5]\n",
            " [-1  3 -1  6  2]\n",
            " [ 6 -3 -2  0 -2]] [[-3 -3  6  3  6]\n",
            " [ 0  2  2  0  3]\n",
            " [-1  0  1 -3  6]\n",
            " [-2  3 -3  1  2]\n",
            " [ 6  3 -1  3  6]\n",
            " [ 3 -3  1 -2  6]] [[0. 0. 0. 0. 0.]\n",
            " [0. 0. 0. 0. 0.]\n",
            " [0. 0. 0. 0. 0.]\n",
            " [0. 0. 0. 0. 0.]\n",
            " [0. 0. 0. 0. 0.]\n",
            " [0. 0. 0. 0. 0.]]\n"
          ]
        }
      ]
    },
    {
      "cell_type": "markdown",
      "source": [
        "## Just like vectors, we can linearly combine matrices.\n",
        "\n",
        "With coefficients $c_1,...,c_n$, the linear combination of matrices (of the same size) $A_1,...,A_n$ is\n",
        "\n",
        "$c_1A_1+...+c_nA_n$.\n",
        "\n",
        "(Linear combination is just fancy weighted sum.)\n",
        "\n",
        "Linear dependence and independence can also be generalized to matrices as well:\n",
        "\n",
        "- $A_1,...,A_n$ are linearly independent if the only solution to\n",
        "\n",
        "$c_1A_1+...+c_nA_n=O$\n",
        "\n",
        "is the trivial one $c_1=...=c_n=0$;\n",
        "\n",
        "- If there are nontrivial coefficients that satisfy\n",
        "\n",
        "$c_1A_1+...+c_nA_n=O$,\n",
        "\n",
        "then we say $A_1,...,A_n$ are linearly dependent.\n",
        "\n",
        "A notion similar to span and spanning set can also be defined, and we can talk about matrices of size $m\\times n$ spanning $\\mathbb{R}^{m\\times n}$."
      ],
      "metadata": {
        "id": "unwiBKdj5R2o"
      }
    },
    {
      "cell_type": "markdown",
      "source": [
        "## We look at properties of matrix multiplication, and transpose.\n",
        "\n",
        "### Matrix multiplication- $A$, $B$, $C$ are matrices of proper sizes for multiplication, and $k$ a scalar.\n",
        "\n",
        "- $A(BC)=A(BC)$\n",
        "- $A(B+C)=AB+AC$\n",
        "- $(A+B)C=AC+BC$\n",
        "- $k(AB)=(kA)B=A(kB)$\n",
        "- $I_mA=A=AI_n$ for $A$ of size $m\\times n$\n",
        "\n",
        "### Tranpose\n",
        "\n",
        "- $(A^T)^T=A$\n",
        "- $(A+B)^T=A^T+B^T$\n",
        "- $(kA)^T=k(A^T)$\n",
        "- $(AB)^T=B^TA^T$\n",
        "- $(A^r)^T=(A^T)^r$, $r\\in \\mathbb{Z}^{+}$.\n",
        "\n",
        "\n",
        "We see some computational examples"
      ],
      "metadata": {
        "id": "tYe0AKTp7zzQ"
      }
    },
    {
      "cell_type": "code",
      "source": [
        "matrix = []\n",
        "for j in range(5):\n",
        "  matrix.append(np.random.randint(min, max, (m,n)))\n",
        "\n",
        "# print(matrix)"
      ],
      "metadata": {
        "id": "IdNSw0Z6_aZQ"
      },
      "execution_count": 5,
      "outputs": []
    },
    {
      "cell_type": "code",
      "source": [
        "AA = sum(matrix)\n",
        "\n",
        "print(AA)\n",
        "print(AA.transpose())"
      ],
      "metadata": {
        "colab": {
          "base_uri": "https://localhost:8080/"
        },
        "id": "GQjeRu-S_sKL",
        "outputId": "ba2f7e97-ab03-4e5e-8535-d2fb6ea227f1"
      },
      "execution_count": 9,
      "outputs": [
        {
          "output_type": "stream",
          "name": "stdout",
          "text": [
            "[[ 7 -1 10  7  4]\n",
            " [ 8 10  5  7 10]\n",
            " [10 10 16  1  7]\n",
            " [ 3 16 18  7  6]\n",
            " [10  4 10  9 -3]\n",
            " [-3 17  6 -2 16]]\n",
            "[[ 7  8 10  3 10 -3]\n",
            " [-1 10 10 16  4 17]\n",
            " [10  5 16 18 10  6]\n",
            " [ 7  7  1  7  9 -2]\n",
            " [ 4 10  7  6 -3 16]]\n"
          ]
        }
      ]
    },
    {
      "cell_type": "code",
      "source": [
        "BB = np.zeros((m,n)).transpose()\n",
        "for A in matrix:\n",
        "  BB += A.transpose()\n",
        "\n",
        "print(BB)"
      ],
      "metadata": {
        "colab": {
          "base_uri": "https://localhost:8080/"
        },
        "id": "YpYqWonJDTEG",
        "outputId": "e8fff686-5660-421a-8596-5a8103f5054b"
      },
      "execution_count": 11,
      "outputs": [
        {
          "output_type": "stream",
          "name": "stdout",
          "text": [
            "[[ 7.  8. 10.  3. 10. -3.]\n",
            " [-1. 10. 10. 16.  4. 17.]\n",
            " [10.  5. 16. 18. 10.  6.]\n",
            " [ 7.  7.  1.  7.  9. -2.]\n",
            " [ 4. 10.  7.  6. -3. 16.]]\n"
          ]
        }
      ]
    },
    {
      "cell_type": "markdown",
      "source": [
        "### Write a snippet to justify the following results\n",
        "\n",
        "__Theorem__\n",
        "\n",
        "a. If $A$ is a square matrix, then $A+A^T$ is a symmetric matrix.\n",
        "\n",
        "b. For any matrix $A$, $AA^T$ and $A^TA$ are symmetric matrices."
      ],
      "metadata": {
        "id": "hjTvL5fuD54e"
      }
    },
    {
      "cell_type": "markdown",
      "source": [
        "## In Section 3.3, we study \"division\" of (square) matrices.\n",
        "\n",
        "Similar to scalars, there is a notion of \"divisibility\"- a number that is non zero is similar to a matrix that is non singular.\n",
        "\n",
        "The reciprical of a scalar is generalized to an inverse of a matrix.\n",
        "\n",
        "A scalar and its reciprical multiply to be 1; a matrix and its inverse multiply to be the identity matrix."
      ],
      "metadata": {
        "id": "6YIQ12h3EizG"
      }
    },
    {
      "cell_type": "markdown",
      "source": [
        "### Definition (inverse)\n",
        "If $A$ is an $n\\times n$ matrix, an __inverse__ of $A$ is an $n\\times n$ matrix $A^{-1}$ with the property that\n",
        "\n",
        "$AA^{-1}=I$ and $A^{-1}A=I$\n",
        "\n",
        "where $I=I_n$ is the $n\\times n$ identity matrix. If such $A^{-1}$ exists, then $A$ is called __invertible__.\n",
        "\n",
        "Note: your book uses a different notation $A'$ for the inverse until page 164.\n",
        "\n",
        "### Theorem (Uniqueness of inverse)\n",
        "If $A$ is invertible, then its inverse is unique.\n",
        "\n",
        "### Theorem (Invertible coefficient matrix implies unique solution)\n",
        "If $A$ is an invertible $n\\times n$ matrix, then the system of linear equations given by $A\\mathbf{x}=\\mathbf{b}$ has the unique solution $\\mathbf{x}=A^{-1}\\mathbf{b}$ for any $\\mathbf{b}$ in $\\mathbb{R}^n$.\n",
        "\n",
        "### Properties of inverse matrices\n",
        "\n",
        "- If $A=\\begin{pmatrix}a&b\\\\c&d\\end{pmatrix}$, $2\\times 2$ is invertible, then $A^{-1}=\\frac{1}{ad-bc}\\begin{pmatrix}d&-b\\\\-c&a\\end{pmatrix}$.\n",
        "\n",
        "- Inverse of $A^{-1}$ is $A$.\n",
        "\n",
        "- If $A$ is invertible and $c$ is non zero, then $(cA)^{-1}=\\frac{1}{c}A^{-1}$.\n",
        "\n",
        "- If $A$ and $B$ are invertible and of the same size. Then $AB$ is invertible and $(AB)^{-1}=B^{-1}A^{-1}$.\n",
        "\n",
        "- If $A$ is invertible, then $(A^T)^{-1}=(A^{-1})^T$.\n",
        "\n",
        "- If $A$ is invertible, then $(A^n)^{-1}=(A^{-1})^n$.\n",
        "\n",
        "- Elementary matrices are invertible; their inverses are of the same type.\n",
        "\n",
        "- Left inverse is right inverse: Let $A$ be a square matrix. If $B$ is a square matrix such that either $AB=I$ or $BA=I$, then $A$ is invertible and $B=A^{-1}$.\n"
      ],
      "metadata": {
        "id": "pAtYkE2OIsZH"
      }
    },
    {
      "cell_type": "code",
      "source": [
        "# Test the above computations with Numpy."
      ],
      "metadata": {
        "id": "tYkq7mg3SD3Y"
      },
      "execution_count": null,
      "outputs": []
    },
    {
      "cell_type": "markdown",
      "source": [
        "### Theorem (Fun. Thm. of Invertible Matrices. v1)\n",
        "Let $A$ be $n\\times n$. The following are equivalent:\n",
        "\n",
        "a. $A$ is invertible.\n",
        "\n",
        "b. $A\\mathbf{x}=\\mathbf{b}$ has a unique solution for every $\\mathbf{b}$ in $\\mathbb{R}^n$.\n",
        "\n",
        "c. $A\\mathbf{x}=\\mathbf{0}$ has only the trivial solution.\n",
        "\n",
        "d. The REF of $A$ is $I_n$.\n",
        "\n",
        "e. $A$ is a product of elementary matrices."
      ],
      "metadata": {
        "id": "deC1U4mISH2H"
      }
    }
  ]
}