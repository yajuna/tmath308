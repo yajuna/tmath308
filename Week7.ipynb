{
  "nbformat": 4,
  "nbformat_minor": 0,
  "metadata": {
    "colab": {
      "provenance": [],
      "authorship_tag": "ABX9TyOJXLk15WxnUS02ARrLiqE/",
      "include_colab_link": true
    },
    "kernelspec": {
      "name": "python3",
      "display_name": "Python 3"
    },
    "language_info": {
      "name": "python"
    }
  },
  "cells": [
    {
      "cell_type": "markdown",
      "metadata": {
        "id": "view-in-github",
        "colab_type": "text"
      },
      "source": [
        "<a href=\"https://colab.research.google.com/github/yajuna/tmath308/blob/master/Week7.ipynb\" target=\"_parent\"><img src=\"https://colab.research.google.com/assets/colab-badge.svg\" alt=\"Open In Colab\"/></a>"
      ]
    },
    {
      "cell_type": "markdown",
      "source": [
        "# In Sections 6.3, 6.4, and 6.6, we look at changes related to linear transformations. These include changes in ways to represent a vector space (Section 6.3), as well as changes between spaces (Section 6.4).\n",
        "\n",
        "Both changes can be represented by matrix multiplication (6.3, 6.6). Change of basis changes how we represent vectors in a space; linear transformation maps a vector space to another (so in some sense it changes vector spaces).\n",
        "\n"
      ],
      "metadata": {
        "id": "mE1Zgc6-iHx-"
      }
    },
    {
      "cell_type": "markdown",
      "source": [
        "## In Section 6.3, we consider change of basis _within_ one vector space. Refer to definition of page 485. I will offer an alternative definition below which I find easier to remember.\n",
        "\n",
        "### Definition (change of basis matrix).\n",
        "Consider a vector space $V$, with two set of bases $B=\\{\\mathbf{u}_1,...,\\mathbf{u}_n\\}$ and $C=\\{\\mathbf{v}_1,...,\\mathbf{v}_n\\}$. Let $\\mathbf{x}$ be any vector in $V$. As $x$ can be represented by $B$ and $C$, we know\n",
        "\n",
        "$c_1\\mathbf{u}_1+...+c_n\\mathbf{u}_n = d_1\\mathbf{v}_1+...+d_1\\mathbf{v}_n$. With the coordinate and matrix multiplication notation, this also means\n",
        "\n",
        "$(\\mathbf{u}_1,...,\\mathbf{u}_n)[\\mathbf{x}]|_B=(\\mathbf{v}_1,...,\\mathbf{v}_n)[\\mathbf{x}]|_C$. So the change of basis matrix from $B$ to $C$ is computed to get $[\\mathbf{x}]|_C$ when $[\\mathbf{x}]|_B$ is known; it is computed by RREF, as\n",
        "\n",
        "$P_{C\\leftarrow B}=(\\mathbf{v}_1,...,\\mathbf{v}_n)^{-1}(\\mathbf{v}_1,...,\\mathbf{v}_n|\\mathbf{u}_1,...,\\mathbf{u}_n)=(I|(\\mathbf{v}_1,...,\\mathbf{v}_n)^{-1}(\\mathbf{u}_1,...,\\mathbf{u}_n))$\n",
        "\n",
        "Note: the matrix is unique, as invertible. See Thm 6.12; the definition here is also detailed on page 469, it is called the _Gauss-Jordan method_. See Thm 6.13.\n",
        "\n",
        "Exercise from 6.3: 4, 5, 11, 21"
      ],
      "metadata": {
        "id": "wKZMrxHYmPkw"
      }
    },
    {
      "cell_type": "code",
      "execution_count": null,
      "metadata": {
        "id": "g2LeKjkpiFvy"
      },
      "outputs": [],
      "source": []
    },
    {
      "cell_type": "markdown",
      "source": [
        "## In Sections 6.4 and 6.6, we look at linear transformations and their matrix representations. These are again very similar to what you have seen in Section 3.6.\n",
        "\n",
        "### Definition (Linear transformation)\n",
        "A linear transformation from vector space $V$ to vector space $W$ is a mapping $T:V\\to W$ such that for all $\\mathbf{u}$ and $\\mathbf{v}$ in $V$ and for all scalars $c$,\n",
        "1. $T(\\mathbf{u}+\\mathbf{v})=T(\\mathbf{u})+T(\\mathbf{v})$\n",
        "2. $T(c\\mathbf{u})=cT(\\mathbf{u})$\n",
        "\n",
        "### Theorem 6.14 (properties of zeros and inverses under linear transformations)\n",
        "Let $T:V\\to W$, then\n",
        "1. $\\mathbf{0}$ of $W$ is the image of  $\\mathbf{0}$ of $V$. $T(\\mathbf{0})=\\mathbf{0}$.\n",
        "\n",
        "2. (Additive) invserse of image is the image of additive inverse. $T(-\\mathbf{v})=-T(\\mathbf{v})$.\n",
        "\n",
        "### Properties of linear transformations\n",
        "\n",
        "1. Linear transformations can be composed and the composition is still linear.\n",
        "\n",
        "2. If a linear transformation is invertible, then the inverse is unique.\n",
        "\n",
        "Exercise: 14, 17, 22, 24\n",
        "\n",
        "## Two sets (subspaces) associated with linear transformations are the _kernel_ and the _range_. You can find more details in Section 6.5, and we will look at them more if we have the time.\n",
        "\n",
        "## Similar to change of basis, linear transformations can be represented by matrix multiplication. We define the matrix below\n",
        "\n",
        "### Thm 6.26 (linear transformations are represented by matrices)\n",
        "Let $V$ and $W$ be two finite-dimensional vector spaces with bases $B$ and $C$, where $B=\\{\\mathbf{v}_1,...,\\mathbf{v}_n\\}$. If $T:V\\to W$ is a linear transformation, then the $m\\times n$ matrix $A$ defined by\n",
        "\n",
        "$A=([T(\\mathbf{v}_1)]_C,...,[T(\\mathbf{v}_n)]_C)$\n",
        "\n",
        "represents $T$, in the sense that $A[\\mathbf{v}]_B=[T(\\mathbf{v})]_C$ for all $\\mathbf{v}\\in V$.\n",
        "\n",
        "Note: composition of transformations are done via matrix multiplication; invertible transformations are represented by invertible matrices.\n",
        "\n",
        "Theorem 6.29 sums up change of basis with linear transformation with matrix multiplication.\n",
        "\n",
        "### Thm 6.29\n",
        "Let $V$ be a finite dimensional vector space with bases $B$ and $C$ and let $T:V\\to V$ be a linear transformation. Then\n",
        "\n",
        "$[T]_C=P^{-1}[T]_BP$\n",
        "\n",
        "where $P$ is the change of basis matrix from $C$ to $B$. We say $T$ is _diagonalizable_ if there is a basis $C$ for $V$ such that the matrix $[T]_C$ is a diagonal matrix.\n",
        "\n",
        "\n",
        "Exercise: 2, 6, 31"
      ],
      "metadata": {
        "id": "SRjwkjwqxUjv"
      }
    }
  ]
}