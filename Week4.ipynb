{
  "nbformat": 4,
  "nbformat_minor": 0,
  "metadata": {
    "colab": {
      "provenance": [],
      "authorship_tag": "ABX9TyOVl1kg/oyTUlC3rQCbGIae",
      "include_colab_link": true
    },
    "kernelspec": {
      "name": "python3",
      "display_name": "Python 3"
    },
    "language_info": {
      "name": "python"
    }
  },
  "cells": [
    {
      "cell_type": "markdown",
      "metadata": {
        "id": "view-in-github",
        "colab_type": "text"
      },
      "source": [
        "<a href=\"https://colab.research.google.com/github/yajuna/tmath308/blob/master/Week4.ipynb\" target=\"_parent\"><img src=\"https://colab.research.google.com/assets/colab-badge.svg\" alt=\"Open In Colab\"/></a>"
      ]
    },
    {
      "cell_type": "markdown",
      "source": [
        "# This week we look at sections 3.5 and 3.6. These two sections study matrices as an example of the more general vector spaces, and we look at their relations via linear transforms.\n",
        "\n",
        "A vector space is a set with two binary operations that satisfy the 8 axioms. To check that a set (with the two operations) is a vector space, we need to justify the 8 axioms are satisfied, and call the elements in vector spaces _vectors_.\n",
        "\n",
        "We can talk about linearly dependence and independnce of vectors in spaces, as well as spans of vectors and spanning set of the vector space. The biggest linearly indepdent sets and the smallest spanning sets are special sets we call _basis_. And we use basis to describe spaces. For example, the number of vectors in a basis is called the dimension of a space.\n",
        "\n",
        "If there is a subset in the space that is closed under addition and multiplication, then we call the subset a _subspace_. Subspaces are also spaces, and we can talk about their basis and dimensions just like we did spaces.\n",
        "\n",
        "Changes between vector spaces are described by linear transformations, and can be described by matrix multiplication.\n",
        "\n",
        "These sections will lead naturally to Chapter 6, and each time you look at a matrix vector space, think how this could generalize to more general vectors."
      ],
      "metadata": {
        "id": "x5R6urFVkk12"
      }
    },
    {
      "cell_type": "markdown",
      "source": [
        "## Definition (subspace)\n",
        "A subspace of $\\mathbb{R}^n$ is any collection $S$ of vectors in $\\mathbb{R}^n$ such that\n",
        "\n",
        "- $S$ is closed under addition\n",
        "\n",
        "- $S$ is closed under scalar multiplication\n",
        "\n",
        "Note: since subspaces are closed under scalar multiplication, and 0 is a scalar, $\\mathbf{0}$ is automatically in subspaces.\n",
        "\n",
        "Scalar multiplications and additions again point us back to the idea of linear combinations. And to show a subset (together with scalar multiplication and addition for the whole set), we can show that the subset is closed under linear combinations.\n",
        "\n",
        "Example 1: the points $(x,y,z)$ such that $x=y=z$ form a subspace of $\\mathbb{R}^3$.\n",
        "\n",
        "Example 2: Let $\\mathbf{v}_1$, $\\mathbf{v}_2$,..., $\\mathbf{v}_k$ be vectors in $\\mathbb{R}^n$. Then span$(\\mathbf{v}_1, \\mathbf{v}_2,...,\\mathbf{v}_k)$ is a subspace of $\\mathbb{R}^n$.\n",
        "\n",
        "Example 3: Let $A$ be an $m\\times n$ matrix. The span of columns of $A$ is the __column space__ of $A$, denoted by col($A$).\n",
        "\n",
        "Example 4: Let $A$ be an $m\\times n$ matrix. The span of rows of $A$ is the __row space__ of $A$, denoted by row($A$).\n",
        "\n",
        "Row equivalent matrices have the same row space.\n",
        "\n",
        "Example 5: The solutions of $A\\mathbf{x}=\\mathbf{0}$ form a subspace, denote by null($A$).\n",
        "\n",
        "Nonexample 6: Solutions to $A\\mathbf{x}=\\mathbf{b}$ for $\\mathbf{b}\\neq \\mathbf{0}$ does not form a subspace.\n",
        "\n"
      ],
      "metadata": {
        "id": "FVgzIFrq5cba"
      }
    },
    {
      "cell_type": "markdown",
      "source": [
        "We look for a set of vectors to describe a vector space (in the sense of linear combination). This set of vectors needs to be\n",
        "- a spanning set (sufficient, enough to represent all vectors)\n",
        "\n",
        "- linearly independent (necessary, need to include at least all of these vectors)\n",
        "\n",
        "## Basis (for a vector space)\n",
        "\n",
        "- the biggest linearly independent set\n",
        "\n",
        "- the smallest spanning set\n",
        "\n",
        "Example: $\\mathbf{e}_1$, $\\mathbf{e}_2$,..., $\\mathbf{e}_n$ is called the __standard basis__ for $\\mathbb{R}^n$.\n",
        "\n",
        "### Definition (basis)\n",
        "A __basis__ for a space $S$ is a set of vectors in $S$ that\n",
        "\n",
        "- spans $S$ and\n",
        "\n",
        "- is linearly independent.\n",
        "\n",
        "Basis for a space is not unique; but the number of vectors in any basis for a space is fixed, called _dimension_. (Theorem 3.23).\n",
        "\n",
        "Given a set of vectors, we can find a basis for it by first writing the vectors as rows of a matrix, then performing REF or RREF. This is also how we find the\n",
        "\n",
        "## Basis of row$(A)$."
      ],
      "metadata": {
        "id": "E6mRx7uiHPmk"
      }
    },
    {
      "cell_type": "code",
      "execution_count": null,
      "metadata": {
        "id": "J9-nVs0Jkhbu",
        "colab": {
          "base_uri": "https://localhost:8080/"
        },
        "outputId": "52ee72d6-1e33-4f6d-9786-98340d04e776"
      },
      "outputs": [
        {
          "output_type": "stream",
          "name": "stdout",
          "text": [
            "print dimension of A\n",
            " (3, 5)\n",
            "The Echelon form is\n",
            " Matrix([[2, -4, 0, 2, 1], [0, 0, 2, 6, 7], [0, 0, 0, 0, 0]])\n",
            "The reduce Echelon form is\n",
            " (Matrix([\n",
            "[1, -2, 0, 1, 1/2],\n",
            "[0,  0, 1, 3, 7/2],\n",
            "[0,  0, 0, 0,   0]]), (0, 2))\n"
          ]
        }
      ],
      "source": [
        "# Exercise 20 Find basis for the vectors [2,-4,0,2,1], [-1,2,1,2,3], [1,-2,1,4,4]\n",
        "import numpy as np\n",
        "import sympy as sp\n",
        "A = np.array([[2,-4,0,2,1], [-1,2,1,2,3], [1,-2,1,4,4]])\n",
        "print(\"print dimension of A\\n\", A.shape)\n",
        "\n",
        "A_ref = sp.Matrix(A).echelon_form()\n",
        "\n",
        "print(\"The Echelon form is\\n\", A_ref)\n",
        "\n",
        "### RREF\n",
        "A_rref = sp.Matrix(A).rref()\n",
        "print(\"The reduce Echelon form is\\n\", A_rref)\n"
      ]
    },
    {
      "cell_type": "markdown",
      "source": [
        "## Basis of col$(A)$.\n",
        "The above method can be used to find basis of row$(A)$; with transpose operation, we can also find the basis of col$(A)$.\n",
        "\n",
        "Although row operations change the column space, the linear dependence of columns of REF of $A$ is the same as that of $A$. So we find the basis of the REF of $A$ (a set of column vectors), then find the corresponding original columns in $A$. Those columns are the basis of col$(A)$. See above example."
      ],
      "metadata": {
        "id": "fg_qJzIjSMYH"
      }
    },
    {
      "cell_type": "markdown",
      "source": [
        "## Basis of null$(A)$.\n",
        "With the above matrix as our example, the RREF shows that the leading variables are $x_1$ and $x_3$, and the free variables are $x_2$, $x_4$, and $x_5$, and we have\n",
        "\n",
        "$x_1 = 2x_2-x_4-1/2x_5$\n",
        "\n",
        "$x_3 = -3x_4-7/2x_5$\n",
        "\n",
        "So all solutions of the homogeneous system $A\\mathbf{x}=\\mathbf{0}$ is\n",
        "\n",
        "$\\mathbf{x}=\\begin{pmatrix} 2x_2-x_4-1/2x_5\\\\\n",
        "x_2\\\\\n",
        "-3x_4-7/2x_5\\\\\n",
        "x_4\\\\\n",
        "x_5\\end{pmatrix}=x_2\\begin{pmatrix}2\\\\1\\\\0\\\\0\\\\0\\end{pmatrix}+x_4\\begin{pmatrix}-1\\\\0\\\\-3\\\\1\\\\0\\end{pmatrix}+x_5\\begin{pmatrix}-1/2\\\\0\\\\-7/2\\\\0\\\\1\\end{pmatrix}$\n",
        "\n",
        "and the basis of null$(A)$ is\n",
        "\n",
        "$\\begin{pmatrix}2\\\\1\\\\0\\\\0\\\\0\\end{pmatrix},\\ \\begin{pmatrix}-1\\\\0\\\\-3\\\\1\\\\0\\end{pmatrix},\\ \\begin{pmatrix}-1/2\\\\0\\\\-7/2\\\\0\\\\1\\end{pmatrix}$\n"
      ],
      "metadata": {
        "id": "jhzJycbpUGfO"
      }
    },
    {
      "cell_type": "markdown",
      "source": [
        "## We list several results about basis and dimensions here and justify them in class.\n",
        "\n",
        "1. (Thm 3.23) Let $S$ be a space, then two bases of $S$ have the same numbers of vectors.\n",
        "\n",
        "2. (Thm 3.24) The row and column spaces of $A$ have the same dimensions. (called _rank_ of $A$)\n",
        "\n",
        "3. (Thm 3.25) For any matrix $A$, rank$(A^T)$=rank$(A)$.\n",
        "\n",
        "4. (Thm 3.26) If $A$ is an $m\\times n$ matrix, then\n",
        "\n",
        "rank$(A)$ + nullity$(A)$ = $n$,\n",
        "\n",
        "here nullity$(A)$ denotes the dimension of null$(A)$."
      ],
      "metadata": {
        "id": "wG6cBfGrUbSO"
      }
    },
    {
      "cell_type": "markdown",
      "source": [
        "## We list more equivalent statements for the invertibility of a matrix $A$.\n",
        "\n",
        "### (Thm 3.27) The Fun. Thm. of Inv. Mat.\n",
        "Let $A$ be $n\\times n$. TFAE:\n",
        "\n",
        "a. $A$ is invertible.\n",
        "\n",
        "b. $A\\mathbf{x}=\\mathbf{b}$ has a unique solution for every $\\mathbf{b}\\in\\mathbb{R}^n$.\n",
        "\n",
        "c. $A\\mathbf{x}=\\mathbf{0}$ has only the trivial solution.\n",
        "\n",
        "d. RREF of $A$ is $I_n$.\n",
        "\n",
        "e. $A$ is the product of elementary matrices.\n",
        "\n",
        "f. rank$(A)$ = $n$.\n",
        "\n",
        "g. nullity $(A)$ = 0.\n",
        "\n",
        "h. The column vectors of $A$ are linearly independent.\n",
        "\n",
        "i. The columns of $A$ span $\\mathbb{R}^n$.\n",
        "\n",
        "j. The columns of $A$ form a basis of $\\mathbb{R}^n$.\n",
        "\n",
        "k. The row vectors of $A$ are linearly independent.\n",
        "\n",
        "l. The rows of $A$ span $\\mathbb{R}^n$.\n",
        "\n",
        "m. The rows of $A$ form a basis of $\\mathbb{R}^n$.\n",
        "\n",
        "Note: Two of the following three implies the last one\"\n",
        "\n",
        "1. $n$ vectors are linearly independent.\n",
        "\n",
        "2. $n$ vectors span a space.\n",
        "\n",
        "3. The space is of dimension $n$."
      ],
      "metadata": {
        "id": "Ra8oxBV-cRnR"
      }
    },
    {
      "cell_type": "markdown",
      "source": [
        "With basis, we can describe a space by __uniquely__ representing every vector with them. Specifically, this means if $B=\\{\\mathbf{v}_1,...,\\mathbf{v}_k\\}$ is a basis of $S$, then for every vector $\\mathbf{v}$ in $S$, there is a _unique_ set of coordinates $c_1,...,c_k$ such that\n",
        "\n",
        "$\\mathbf{v}=c_1\\mathbf{v}_1+...+c_k\\mathbf{v}_k$. This unique set of coordinates are called the __coordinates of $\\mathbf{v}$ with respect to $B$__, and we call the vector\n",
        "$[\\mathbf{v}]|_B=\\begin{pmatrix}c_1\\\\\\vdots\\\\ c_k\\end{pmatrix}$."
      ],
      "metadata": {
        "id": "fJ2uV-N5e6eQ"
      }
    },
    {
      "cell_type": "markdown",
      "source": [
        "### More exercises from Section 3.5\n",
        "Ex. 59\n",
        "Ex. 60\n",
        "Ex. 61\n",
        "Ex. 64\n",
        "Ex. 66"
      ],
      "metadata": {
        "id": "OZXTGmG1DRIS"
      }
    },
    {
      "cell_type": "markdown",
      "source": [
        "## Section 3.6 describes transformations between two spaces. This is conveniently described by matrix multiplication.\n",
        "\n",
        "Transformations are just functions- any input should give a unique output; this time, input and output are vectors. Linear transformations are linear, in the sense that they preserve scalar multiplication and additions defined in both spaces.\n",
        "\n",
        "### (Definition) A transformation $T:\\mathbb{R}^n\\to \\mathbb{R}^m$ is called a linear transformation if it preserves addition and scalar multiplication:\n",
        "\n",
        "- $ T(\\mathbf{u} +\\mathbf{v})= T(\\mathbf{u})+ T(\\mathbf{v})$ for all $\\mathbf{u}$, $\\mathbf{v}$ in $\\mathbb{R}^n$\n",
        "\n",
        "- $ T(c\\mathbf{u}) = cT(\\mathbf{u})$ for all $v$ in $\\mathbb{R}^n$ and all scalars $c$.\n",
        "\n",
        "Here $\\mathbb{R}^n$ is called the _domain_, and $\\mathbb{R}^m$ the _codomain_. $T(\\mathbf{u})$ is called the _image_ of $\\mathbf{u}$ under $T$. The set of all possible images $T(\\mathbf{u})$ is called the _range_ of $T$.\n",
        "\n",
        "### (Matrix multiplications are linear transformations)\n",
        "Thm 3.30: Let $A$ be an $m\\times n$. Then the matrix transformation $T_A:\\mathbb{R}^n\\to \\mathbb{R}^m$ defined by\n",
        "\n",
        "$T_A(\\mathbf{x})=A\\mathbf{x}$\n",
        "\n",
        "is linear.\n",
        "\n",
        "### (Linear transformations are matrix multiplications)\n",
        "Thm 3.31: Let $T_A:\\mathbb{R}^n\\to \\mathbb{R}^m$ be a linear transformation. Then $T$ is a matrix transformation. More specifically, $T=T_A$ where $A$ is the $m\\times n$ matrix defined by\n",
        "\n",
        "$A=[T(\\mathbf{e}_1),T(\\mathbf{e}_2),...,T(\\mathbf{e}_n)]$\n",
        "\n",
        "$A$ is called the __standard matrix__ of the linear transformation $T$.\n",
        "\n",
        "Note: linear transformations can be represented by other bases too.\n"
      ],
      "metadata": {
        "id": "xbOSO25Lg5rS"
      }
    },
    {
      "cell_type": "markdown",
      "source": [],
      "metadata": {
        "id": "YFP1V8xDOsqh"
      }
    }
  ]
}