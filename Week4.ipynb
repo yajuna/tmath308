{
  "nbformat": 4,
  "nbformat_minor": 0,
  "metadata": {
    "colab": {
      "provenance": [],
      "authorship_tag": "ABX9TyPLWGJkPEDN5rhpOKeEWrFh",
      "include_colab_link": true
    },
    "kernelspec": {
      "name": "python3",
      "display_name": "Python 3"
    },
    "language_info": {
      "name": "python"
    }
  },
  "cells": [
    {
      "cell_type": "markdown",
      "metadata": {
        "id": "view-in-github",
        "colab_type": "text"
      },
      "source": [
        "<a href=\"https://colab.research.google.com/github/yajuna/tmath308/blob/master/Week4.ipynb\" target=\"_parent\"><img src=\"https://colab.research.google.com/assets/colab-badge.svg\" alt=\"Open In Colab\"/></a>"
      ]
    },
    {
      "cell_type": "markdown",
      "source": [
        "# This week we look at sections 3.5 and 3.6. These two sections study matrices as an example of the more general vector spaces, and we look at their relations via linear transforms.\n",
        "\n",
        "A vector space is a set with two binary operations that satisfy the 8 axioms. To check that a set (with the two operations) is a vector space, we need to justify the 8 axioms are satisfied, and call the elements in vector spaces _vectors_.\n",
        "\n",
        "We can talk about linearly dependence and independnce of vectors in spaces, as well as spans of vectors and spanning set of the vector space. The biggest linearly indepdent sets and the smallest spanning sets are special sets we call _basis_. And we use basis to describe spaces. For example, the number of vectors in a basis is called the dimension of a space.\n",
        "\n",
        "If there is a subset in the space that is closed under addition and multiplication, then we call the subset a _subspace_. Subspaces are also spaces, and we can talk about their basis and dimensions just like we did spaces.\n",
        "\n",
        "Changes between vector spaces are described by linear transformations, and can be described by matrix multiplication.\n",
        "\n",
        "These sections will lead naturally to Chapter 6, and each time you look at a matrix vector space, think how this could generalize to more general vectors."
      ],
      "metadata": {
        "id": "x5R6urFVkk12"
      }
    },
    {
      "cell_type": "markdown",
      "source": [
        "## Definition (subspace)\n",
        "A subspace of $\\mathbb{R}^n$ is any collection $S$ of vectors in $\\mathbb{R}^n$ such that\n",
        "\n",
        "- $S$ is closed under addition\n",
        "\n",
        "- $S$ is closed under scalar multiplication\n",
        "\n",
        "Note: since subspaces are closed under scalar multiplication, and 0 is a scalar, $\\mathbf{0}$ is automatically satisfied.\n",
        "\n",
        "Example 1: the points $(x,y,z)$ such that $x=y=z$ form a subspace of $\\mathbb{R}^3$.\n",
        "\n",
        "Example 2: Let $\\mathbf{v}_1$, $\\mathbf{v}_2$,..., $\\mathbf{v}_k$ be vectors in $\\mathbb{R}^n$. Then span$(\\mathbf{v}_1, \\mathbf{v}_2,...,\\mathbf{v}_k)$ is a subspace of $\\mathbb{R}^n$.\n",
        "\n",
        "Example 3: Let $A$ be an $m\\times n$ matrix. The span of columns of $A$ is the __column space__ of $A$, denoted by col($A$).\n",
        "\n",
        "Example 4: Let $A$ be an $m\\times n$ matrix. The span of rows of $A$ is the __row space__ of $A$, denoted by row($A$).\n",
        "\n",
        "Row equivalent matrices have the same row space.\n",
        "\n",
        "Example 5: The solutions of $A\\mathbf{x}=\\mathbf{0}$ form a subspace, denote by null($A$).\n",
        "\n",
        "Nonexample 6: Solutions to $A\\mathbf{x}=\\mathbf{b}$ for $\\mathbf{b}\\neq \\mathbf{0}$ does not form a subspace.\n",
        "\n"
      ],
      "metadata": {
        "id": "FVgzIFrq5cba"
      }
    },
    {
      "cell_type": "markdown",
      "source": [
        "## Basis (for a vector space)\n",
        "\n",
        "- the biggest linearly independent set\n",
        "\n",
        "- the smallest spanning set\n",
        "\n",
        "Example: $\\mathbf{e}_1$, $\\mathbf{e}_2$,..., $\\mathbf{e}_n$ is called the __standard basis__ for $\\mathbb{R}^n$."
      ],
      "metadata": {
        "id": "E6mRx7uiHPmk"
      }
    },
    {
      "cell_type": "code",
      "execution_count": null,
      "metadata": {
        "id": "J9-nVs0Jkhbu"
      },
      "outputs": [],
      "source": []
    }
  ]
}