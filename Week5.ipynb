{
  "nbformat": 4,
  "nbformat_minor": 0,
  "metadata": {
    "colab": {
      "provenance": [],
      "authorship_tag": "ABX9TyNnKGVUVKvdL9RYWxpUwy5R",
      "include_colab_link": true
    },
    "kernelspec": {
      "name": "python3",
      "display_name": "Python 3"
    },
    "language_info": {
      "name": "python"
    }
  },
  "cells": [
    {
      "cell_type": "markdown",
      "metadata": {
        "id": "view-in-github",
        "colab_type": "text"
      },
      "source": [
        "<a href=\"https://colab.research.google.com/github/yajuna/tmath308/blob/master/Week5.ipynb\" target=\"_parent\"><img src=\"https://colab.research.google.com/assets/colab-badge.svg\" alt=\"Open In Colab\"/></a>"
      ]
    },
    {
      "cell_type": "markdown",
      "source": [
        "# Section 3.6 describes transformations between two spaces. This is conveniently described by matrix multiplication.\n",
        "\n",
        "Transformations are just functions- any input should give a unique output; this time, input and output are vectors. Linear transformations are linear, in the sense that they preserve scalar multiplication and additions defined in both spaces.\n",
        "\n",
        "## (Definition) A transformation $T:\\mathbb{R}^n\\to \\mathbb{R}^m$ is called a linear transformation if it preserves addition and scalar multiplication:\n",
        "\n",
        "- $ T(\\mathbf{u} +\\mathbf{v})= T(\\mathbf{u})+ T(\\mathbf{v})$ for all $\\mathbf{u}$, $\\mathbf{v}$ in $\\mathbb{R}^n$\n",
        "\n",
        "- $ T(c\\mathbf{u}) = cT(\\mathbf{u})$ for all $v$ in $\\mathbb{R}^n$ and all scalars $c$.\n",
        "\n",
        "Here $\\mathbb{R}^n$ is called the _domain_, and $\\mathbb{R}^m$ the _codomain_. $T(\\mathbf{u})$ is called the _image_ of $\\mathbf{u}$ under $T$. The set of all possible images $T(\\mathbf{u})$ is called the _range_ of $T$.\n",
        "\n",
        "## (Matrix multiplications are linear transformations)\n",
        "Thm 3.30: Let $A$ be an $m\\times n$. Then the matrix transformation $T_A:\\mathbb{R}^n\\to \\mathbb{R}^m$ defined by\n",
        "\n",
        "$T_A(\\mathbf{x})=A\\mathbf{x}$\n",
        "\n",
        "is linear.\n",
        "\n",
        "## (Linear transformations are matrix multiplications)\n",
        "Thm 3.31: Let $T_A:\\mathbb{R}^n\\to \\mathbb{R}^m$ be a linear transformation. Then $T$ is a matrix transformation. More specifically, $T=T_A$ where $A$ is the $m\\times n$ matrix defined by\n",
        "\n",
        "$A=[T(\\mathbf{e}_1),T(\\mathbf{e}_2),...,T(\\mathbf{e}_n)]$\n",
        "\n",
        "$A$ is called the __standard matrix__ of the linear transformation $T$.\n",
        "\n",
        "Note: linear transformations can be represented by other bases too.\n",
        "\n",
        "Sketch of proof: $\\mathbf{x}=\\sum x_j\\mathbf{e}_j$, and the linear transformation $T$ operated on $\\mathbf{x}$ is\n",
        "\n",
        "$$T(\\mathbf{x})=T(\\sum x_j\\mathbf{e}_j)=\\sum x_jT(\\mathbf{e}_j)=A\\mathbf{x}$$\n",
        "\n",
        "You can find examples of linear transformation in lab3- shift, rotation, and reflections are all linear."
      ],
      "metadata": {
        "id": "erN7lO4ml0aD"
      }
    },
    {
      "cell_type": "code",
      "execution_count": null,
      "metadata": {
        "id": "v505K2jylu9a"
      },
      "outputs": [],
      "source": []
    },
    {
      "cell_type": "markdown",
      "source": [
        "Exercises: Section 3.6: 2, 4, 7, 9, 53"
      ],
      "metadata": {
        "id": "BY5DxGfV3408"
      }
    }
  ]
}