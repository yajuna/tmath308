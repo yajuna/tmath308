{
  "nbformat": 4,
  "nbformat_minor": 0,
  "metadata": {
    "colab": {
      "provenance": [],
      "authorship_tag": "ABX9TyOVOUzlLM/CjW2pf4qEGorI",
      "include_colab_link": true
    },
    "kernelspec": {
      "name": "python3",
      "display_name": "Python 3"
    },
    "language_info": {
      "name": "python"
    }
  },
  "cells": [
    {
      "cell_type": "markdown",
      "metadata": {
        "id": "view-in-github",
        "colab_type": "text"
      },
      "source": [
        "<a href=\"https://colab.research.google.com/github/yajuna/tmath308/blob/master/Week6.ipynb\" target=\"_parent\"><img src=\"https://colab.research.google.com/assets/colab-badge.svg\" alt=\"Open In Colab\"/></a>"
      ]
    },
    {
      "cell_type": "markdown",
      "source": [
        "# This notebook introduces Chapter 6. You will find a lot of the content familar to you, as we have already seen a lot of the similar topics covered in Chapter 3, in the context of $\\mathbb{R}^n$, but now we focus on abstract vector spaces.\n",
        "\n",
        "As we are already familiar with very similar concepts, we will focus on doing problems using these concepts. Make sure to think and compare what you have seen in Chapter 3, and find what has become more general."
      ],
      "metadata": {
        "id": "0NhrZuG46WH9"
      }
    },
    {
      "cell_type": "markdown",
      "source": [
        "## Definition (vector space)\n",
        "\n",
        "A set with two operations (addition, scalar multiplication), and satisfy 8 axioms in addition to closure under addition and multiplication.\n",
        "\n",
        "## Theorem 6.1 (properties regarding zeros and additive inverse)\n",
        "\n",
        "- $0\\mathbf{u}=\\mathbf{0}$\n",
        "\n",
        "- $c\\mathbf{0}=\\mathbf{0}$\n",
        "\n",
        "- $(-1)\\mathbf{u}=-\\mathbf{u}$\n",
        "\n",
        "- If $c\\mathbf{u}=\\mathbf{0}$, then $c=0$ or $\\mathbf{u}=\\mathbf{0}$\n",
        "\n",
        "## Theorem 6.2 (subspaces)\n",
        "\n",
        "## Definition (linear combination)\n",
        "\n",
        "## Definition (span)\n",
        "\n",
        "## Theorem 6.3 (spans are subspaces)"
      ],
      "metadata": {
        "id": "OKbEb7hZ74_y"
      }
    },
    {
      "cell_type": "code",
      "execution_count": null,
      "metadata": {
        "id": "t4QK_Lh76TJ4"
      },
      "outputs": [],
      "source": []
    },
    {
      "cell_type": "markdown",
      "source": [
        "Exercises: 1, 2, 5, 6, 7, 9, 11, 12, 46, 63, 64"
      ],
      "metadata": {
        "id": "mp1VjXy49p8q"
      }
    },
    {
      "cell_type": "markdown",
      "source": [
        "## Section 6.2 studies linear dependence, basis and dimension for abstract vector spaces.\n",
        "\n",
        "You will see many familiar definitions from Chapter 3. We will again focus on making arguments with definitions and focus on writing.\n",
        "\n",
        "### Definition (linear independence)\n",
        "Consider $\\{\\mathbf{v}_1,...,\\mathbf{v}_k\\}$, and assume\n",
        "\n",
        "$c_1\\mathbf{v}_1+...+c_k\\mathbf{v}_k=\\mathbf{0}$.\n",
        "\n",
        "Then they are linearly dependent if:\n",
        "\n",
        "and linearly independent if:\n",
        "\n",
        "### Thm 6.4\n",
        "$\\{\\mathbf{v}_1,...,\\mathbf{v}_k\\}$ is linearly dependent if and only if at least one of them can be expressed as a linear combination of the others.\n",
        "\n",
        "Sketch of proof: (this is a \"if and only if\" proof, so we need to prove both directions).\n",
        "\n",
        "Exercises\n",
        "6 (look at Example 6.28),\n",
        "10 (look at Example 6.24),\n",
        "11\n",
        "\n",
        "### Definition (Basis)\n",
        "A subset $B$ of $V$ is a basis of $V$ if it is both linearly independent and spans $V$.\n",
        "\n",
        "Exercises 18, 22\n",
        "\n",
        "### Deifinition (Coordinates with respect to a basis)\n",
        "\n",
        "If $\\mathbf{u}=c_1\\mathbf{v}_1+...+c_k\\mathbf{v}_k=\\mathbf{0}$, then the vector $[\\mathbf{u}]|_{B} = (c_1,...,c_k)$ is the coordinate vector of $\\mathbf{u}$ with respect to $B=\\{\\mathbf{v}_1,...,\\mathbf{v}_k\\}$.\n",
        "\n",
        "Exercise 26, 28\n",
        "\n",
        "### Theorem 6.7 (Representation of vectors with $\\mathbb{R}^n$)."
      ],
      "metadata": {
        "id": "wYKeQcOotAJ9"
      }
    }
  ]
}