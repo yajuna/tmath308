{
  "nbformat": 4,
  "nbformat_minor": 0,
  "metadata": {
    "colab": {
      "provenance": [],
      "authorship_tag": "ABX9TyNITtYdjULk6ebLXjvDLF54",
      "include_colab_link": true
    },
    "kernelspec": {
      "name": "python3",
      "display_name": "Python 3"
    },
    "language_info": {
      "name": "python"
    }
  },
  "cells": [
    {
      "cell_type": "markdown",
      "metadata": {
        "id": "view-in-github",
        "colab_type": "text"
      },
      "source": [
        "<a href=\"https://colab.research.google.com/github/yajuna/tmath308/blob/master/Week6.ipynb\" target=\"_parent\"><img src=\"https://colab.research.google.com/assets/colab-badge.svg\" alt=\"Open In Colab\"/></a>"
      ]
    },
    {
      "cell_type": "markdown",
      "source": [
        "# This notebook introduces Chapter 6. You will find a lot of the content familar to you, as we have already seen a lot of the similar topics covered in Chapter 3, in the context of $\\mathbb{R}^n$, but now we focus on abstract vector spaces.\n",
        "\n",
        "As we are already familiar with very similar concepts, we will focus on doing problems using these concepts. Make sure to think and compare what you have seen in Chapter 3, and find what has become more general."
      ],
      "metadata": {
        "id": "0NhrZuG46WH9"
      }
    },
    {
      "cell_type": "markdown",
      "source": [
        "## Definition (vector space)\n",
        "\n",
        "A set with two operations (addition, scalar multiplication), and satisfy 8 axioms in addition to closure under addition and multiplication.\n",
        "\n",
        "## Theorem 6.1 (properties regarding zeros and additive inverse)\n",
        "\n",
        "- $0\\mathbf{u}=\\mathbf{0}$\n",
        "\n",
        "- $c\\mathbf{0}=\\mathbf{0}$\n",
        "\n",
        "- $(-1)\\mathbf{u}=-\\mathbf{u}$\n",
        "\n",
        "- If $c\\mathbf{u}=\\mathbf{0}$, then $c=0$ or $\\mathbf{u}=\\mathbf{0}$\n",
        "\n",
        "## Theorem 6.2 (subspaces)\n",
        "\n",
        "## Definition (linear combination)\n",
        "\n",
        "## Definition (span)\n",
        "\n",
        "## Theorem 6.3 (spans are subspaces)"
      ],
      "metadata": {
        "id": "OKbEb7hZ74_y"
      }
    },
    {
      "cell_type": "code",
      "execution_count": null,
      "metadata": {
        "id": "t4QK_Lh76TJ4"
      },
      "outputs": [],
      "source": []
    },
    {
      "cell_type": "markdown",
      "source": [
        "Exercises: 1, 2, 5, 6, 7, 9, 11, 12, 46, 63, 64"
      ],
      "metadata": {
        "id": "mp1VjXy49p8q"
      }
    }
  ]
}