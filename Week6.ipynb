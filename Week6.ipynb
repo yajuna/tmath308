{
  "nbformat": 4,
  "nbformat_minor": 0,
  "metadata": {
    "colab": {
      "provenance": [],
      "authorship_tag": "ABX9TyNeXKjKUI5BmTF9df7uXj3Z",
      "include_colab_link": true
    },
    "kernelspec": {
      "name": "python3",
      "display_name": "Python 3"
    },
    "language_info": {
      "name": "python"
    }
  },
  "cells": [
    {
      "cell_type": "markdown",
      "metadata": {
        "id": "view-in-github",
        "colab_type": "text"
      },
      "source": [
        "<a href=\"https://colab.research.google.com/github/yajuna/tmath308/blob/master/Week6.ipynb\" target=\"_parent\"><img src=\"https://colab.research.google.com/assets/colab-badge.svg\" alt=\"Open In Colab\"/></a>"
      ]
    },
    {
      "cell_type": "markdown",
      "source": [
        "# This notebook introduces Chapter 6. You will find a lot of the content familar to you, as we have already seen a lot of the similar topics covered in Chapter 3, in the context of $\\mathbb{R}^n$, but now we focus on abstract vector spaces.\n",
        "\n",
        "As we are already familiar with very similar concepts, we will focus on doing problems using these concepts. Make sure to think and compare what you have seen in Chapter 3, and find what has become more general."
      ],
      "metadata": {
        "id": "0NhrZuG46WH9"
      }
    },
    {
      "cell_type": "markdown",
      "source": [
        "## Definition (vector space)\n",
        "\n",
        "A set with two operations (addition, scalar multiplication), and satisfy 8 axioms in addition to closure under addition and multiplication.\n",
        "\n",
        "## Theorem 6.1 (properties regarding zeros and additive inverse)\n",
        "\n",
        "- $0\\mathbf{u}=\\mathbf{0}$\n",
        "\n",
        "- $c\\mathbf{0}=\\mathbf{0}$\n",
        "\n",
        "- $(-1)\\mathbf{u}=-\\mathbf{u}$\n",
        "\n",
        "- If $c\\mathbf{u}=\\mathbf{0}$, then $c=0$ or $\\mathbf{u}=\\mathbf{0}$\n",
        "\n",
        "## Theorem 6.2 (subspaces)\n",
        "\n",
        "## Definition (linear combination)\n",
        "\n",
        "## Definition (span)\n",
        "\n",
        "## Theorem 6.3 (spans are subspaces)"
      ],
      "metadata": {
        "id": "OKbEb7hZ74_y"
      }
    },
    {
      "cell_type": "code",
      "execution_count": null,
      "metadata": {
        "id": "t4QK_Lh76TJ4"
      },
      "outputs": [],
      "source": []
    },
    {
      "cell_type": "markdown",
      "source": [
        "Exercises: 1, 2, 5, 6, 7, 9, 11, 12, 46, 63, 64"
      ],
      "metadata": {
        "id": "mp1VjXy49p8q"
      }
    },
    {
      "cell_type": "markdown",
      "source": [
        "## Section 6.2 studies linear dependence, basis and dimension for abstract vector spaces.\n",
        "\n",
        "You will see many familiar definitions from Chapter 3. We will again focus on making arguments with definitions and focus on writing.\n",
        "\n",
        "### Definition (linear independence)\n",
        "Consider $\\{\\mathbf{v}_1,...,\\mathbf{v}_k\\}$, and assume\n",
        "\n",
        "$c_1\\mathbf{v}_1+...+c_k\\mathbf{v}_k=\\mathbf{0}$.\n",
        "\n",
        "Then they are linearly dependent if all scalars $c_1,....,c_k$ must be zero.\n",
        "\n",
        "and linearly independent if _not_ all scalars $c_1,....,c_k$ have to be zero.\n",
        "\n",
        "### Thm 6.4\n",
        "$\\{\\mathbf{v}_1,...,\\mathbf{v}_k\\}$ is linearly dependent if and only if at least one of them can be expressed as a linear combination of the others.\n",
        "\n",
        "Sketch of proof: (this is a \"if and only if\" proof, so we need to prove both directions).\n",
        "\n"
      ],
      "metadata": {
        "id": "wYKeQcOotAJ9"
      }
    },
    {
      "cell_type": "markdown",
      "source": [
        "### When studying abstract vector spaces, it is useful to understand the meaning of $c_1\\mathbf{v}_1+...+c_k\\mathbf{v}_k=\\mathbf{0}$. An example is Example 6.25 in your textbook.\n",
        "\n",
        "Example 6.25. Let $V=P_n$, then the vectors $\\{1,x,x^2,...x^n\\}$ are linearly independent.\n",
        "\n",
        "Sketch of proof: Abtract vector $c_1\\mathbf{v}_1+...+c_k\\mathbf{v}_k=\\mathbf{0}$ translated to\n",
        "\n",
        "$c_0+c_1x+...+c_nx^n=0$ for all $x\\in\\mathbb{R}$. As we are assuming the equation holds for all real $x$, the equation is true for $n+1$ distinct real numbers, let's call them $\\{x_j\\}_{j=0}^n$.\n",
        "\n",
        "Plugging in the values $\\{x_j\\}_{j=0}^n$ to $c_0+c_1x+...+c_nx^n=0$ gives us $n+1$ linear equations for the unknown coefficients $\\{c_j\\}_{j=0}^n$ of the form\n",
        "\n",
        "$c_0+c_1x_j+...+c_nx_j^n=0$.\n",
        "\n",
        "The coefficient matrix\n",
        "\n",
        "\\begin{equation}\n",
        "\\begin{pmatrix}\n",
        "1 & x_0 & \\cdots & x_0^n\\\\\n",
        "1 & x_1 & \\cdots & x_1^n\\\\\n",
        "\\vdots & \\vdots & \\cdots & \\vdots\\\\\n",
        "1 & x_n & \\cdots & x_n^n\\\\\n",
        "\\end{pmatrix}\n",
        "\\end{equation}\n",
        "\n",
        "forms a Vandermonde matrix, and is always invertible with _distinct_ $\\{x_j\\}_{j=0}^n$. Then the system\n",
        "\n",
        "$(\\text{Vandermonde matrix} | \\mathbf{0})$ has only the trivial solution. This means the vectors $\\{1,x,x^2,...x^n\\}$ are linearly independent.\n",
        "\n",
        "The above sketch of proof essentially shows one way to prove the Fundamental Theorem of Algebra.\n",
        "\n",
        "### The Fundamental Theorem of Algebra:\n",
        "A polynomial of degree $n$ is identically zero, if it has at least $n+1$ zeros.\n",
        "\n"
      ],
      "metadata": {
        "id": "7OYfynK2QuPY"
      }
    },
    {
      "cell_type": "code",
      "source": [
        "import numpy as np\n",
        "# generate a Vandermonde matrix with numpy's vander\n",
        "\n",
        "# make a list of distinct x values\n",
        "N = 10\n",
        "x = np.linspace(1, N, N)\n",
        "print('List of values x', x)\n",
        "# make a Vandermonde matrix with the x values\n",
        "V = np.vander(x)\n",
        "print('Vandermonde matrix with x', V)\n",
        "\n",
        "# Show that this Vandermonde matrix is invertible\n",
        "print('Determinant of V is det(V)=', np.linalg.det(V))\n",
        "\n",
        "b = np.zeros((N,1))\n",
        "print('Max of absolute values of solution to Vx = 0 is', np.max(np.abs(np.linalg.solve(V,b))))"
      ],
      "metadata": {
        "colab": {
          "base_uri": "https://localhost:8080/"
        },
        "id": "_AfCZKFsTsKH",
        "outputId": "f0fd2812-0a61-4435-b3bf-dc973efd26bf"
      },
      "execution_count": 10,
      "outputs": [
        {
          "output_type": "stream",
          "name": "stdout",
          "text": [
            "List of values x [ 1.  2.  3.  4.  5.  6.  7.  8.  9. 10.]\n",
            "Vandermonde matrix with x [[1.00000000e+00 1.00000000e+00 1.00000000e+00 1.00000000e+00\n",
            "  1.00000000e+00 1.00000000e+00 1.00000000e+00 1.00000000e+00\n",
            "  1.00000000e+00 1.00000000e+00]\n",
            " [5.12000000e+02 2.56000000e+02 1.28000000e+02 6.40000000e+01\n",
            "  3.20000000e+01 1.60000000e+01 8.00000000e+00 4.00000000e+00\n",
            "  2.00000000e+00 1.00000000e+00]\n",
            " [1.96830000e+04 6.56100000e+03 2.18700000e+03 7.29000000e+02\n",
            "  2.43000000e+02 8.10000000e+01 2.70000000e+01 9.00000000e+00\n",
            "  3.00000000e+00 1.00000000e+00]\n",
            " [2.62144000e+05 6.55360000e+04 1.63840000e+04 4.09600000e+03\n",
            "  1.02400000e+03 2.56000000e+02 6.40000000e+01 1.60000000e+01\n",
            "  4.00000000e+00 1.00000000e+00]\n",
            " [1.95312500e+06 3.90625000e+05 7.81250000e+04 1.56250000e+04\n",
            "  3.12500000e+03 6.25000000e+02 1.25000000e+02 2.50000000e+01\n",
            "  5.00000000e+00 1.00000000e+00]\n",
            " [1.00776960e+07 1.67961600e+06 2.79936000e+05 4.66560000e+04\n",
            "  7.77600000e+03 1.29600000e+03 2.16000000e+02 3.60000000e+01\n",
            "  6.00000000e+00 1.00000000e+00]\n",
            " [4.03536070e+07 5.76480100e+06 8.23543000e+05 1.17649000e+05\n",
            "  1.68070000e+04 2.40100000e+03 3.43000000e+02 4.90000000e+01\n",
            "  7.00000000e+00 1.00000000e+00]\n",
            " [1.34217728e+08 1.67772160e+07 2.09715200e+06 2.62144000e+05\n",
            "  3.27680000e+04 4.09600000e+03 5.12000000e+02 6.40000000e+01\n",
            "  8.00000000e+00 1.00000000e+00]\n",
            " [3.87420489e+08 4.30467210e+07 4.78296900e+06 5.31441000e+05\n",
            "  5.90490000e+04 6.56100000e+03 7.29000000e+02 8.10000000e+01\n",
            "  9.00000000e+00 1.00000000e+00]\n",
            " [1.00000000e+09 1.00000000e+08 1.00000000e+07 1.00000000e+06\n",
            "  1.00000000e+05 1.00000000e+04 1.00000000e+03 1.00000000e+02\n",
            "  1.00000000e+01 1.00000000e+00]]\n",
            "Determinant of V is det(V)= -1.8349334721726657e+21\n",
            "Max of absolute values of solution to Vx = 0 is 0.0\n"
          ]
        }
      ]
    },
    {
      "cell_type": "markdown",
      "source": [
        "Exercises\n",
        "6 (look at Example 6.28),\n",
        "10 (look at Example 6.24),\n",
        "11\n",
        "\n",
        "### Definition (Basis)\n",
        "A subset $B$ of $V$ is a basis of $V$ if it is both linearly independent and spans $V$.\n",
        "\n",
        "Exercises 18, 22\n",
        "\n",
        "### Deifinition (Coordinates with respect to a basis)\n",
        "\n",
        "If $\\mathbf{u}=c_1\\mathbf{v}_1+...+c_k\\mathbf{v}_k=\\mathbf{0}$, then the vector $[\\mathbf{u}]|_{B} = (c_1,...,c_k)$ is the coordinate vector of $\\mathbf{u}$ with respect to $B=\\{\\mathbf{v}_1,...,\\mathbf{v}_k\\}$.\n",
        "\n",
        "Exercise 26, 28\n",
        "\n",
        "Note: linearity implies Theorem 6.6, which says $[c\\mathbf{u}+\\mathbf{v}]|_{B}=c[\\mathbf{u}]|_{B}+[\\mathbf{v}]|_{B}$\n",
        "\n",
        "### Theorem 6.7 (Representation of vectors with $\\mathbb{R}^n$).\n",
        "\n",
        "Let $B =\\{\\mathbf{v}_1,...,\\mathbf{v}_n\\}$ be a basis for a vector space $V$ and let $\\mathbf{u}_1,...,\\mathbf{u}_k$\n",
        "be vectors in $V$. Then $\\mathbf{u}_1,...,\\mathbf{u}_k$ is linearly independent in $V$ if and only if\n",
        "$\\{[\\mathbf{u}_1]|_B,...,[\\mathbf{u}_k]|_B\\}$ is linearly independent in $\\mathbb{R}^n$.\n",
        "\n",
        "### Exercise 32 shows that span property of $B$ also translates to the coordinate vectors.\n",
        "\n",
        "Let $B =\\{\\mathbf{v}_1,...,\\mathbf{v}_n\\}$ be a basis for a vector space $V$ and let $\\mathbf{u}_1,...,\\mathbf{u}_k$\n",
        "be vectors in $V$. Then $\\mathbf{u}_1,...,\\mathbf{u}_k$ span $V$ if and only if\n",
        "$\\{[\\mathbf{u}_1]|_B,...,[\\mathbf{u}_k]|_B\\}$ span $\\mathbb{R}^n$.\n",
        "\n",
        "Note: These nice properties that translate between $n$ dimensional abstract vector spaces and $\\mathbb{R}^n$ is a big reason why we study linear algebra. This is one example of [Representation Theory](https://en.wikipedia.org/wiki/Representation_theory). A nice book to read about these topics (and this point of view) is Sheldon Axler's _Linear Algebra Done Right_.\n",
        "\n",
        "### Theorem 6.10' (span, linear dependence, and dimension)\n",
        "Let $V$ be a vector space. $B$ be a set of $n$ vectors. Two of the following implies the last.\n",
        "\n",
        "1. $B$ is linearly independent.\n",
        "2. $B$ span the whole space $V$.\n",
        "3. dim$(V)=n$."
      ],
      "metadata": {
        "id": "nss0_DMYTq2H"
      }
    }
  ]
}