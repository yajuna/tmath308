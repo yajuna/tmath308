{
  "nbformat": 4,
  "nbformat_minor": 0,
  "metadata": {
    "colab": {
      "provenance": [],
      "authorship_tag": "ABX9TyMhDSihWIGZmTp5AbrAZCOe",
      "include_colab_link": true
    },
    "kernelspec": {
      "name": "python3",
      "display_name": "Python 3"
    },
    "language_info": {
      "name": "python"
    }
  },
  "cells": [
    {
      "cell_type": "markdown",
      "metadata": {
        "id": "view-in-github",
        "colab_type": "text"
      },
      "source": [
        "<a href=\"https://colab.research.google.com/github/yajuna/tmath308/blob/master/Week2.ipynb\" target=\"_parent\"><img src=\"https://colab.research.google.com/assets/colab-badge.svg\" alt=\"Open In Colab\"/></a>"
      ]
    },
    {
      "cell_type": "markdown",
      "source": [
        "# In this notebook, we look at Section 2.3, spanning sets, and linear independence. We will also introduce matrix operations (section 3.1). This is where linear algebra and modern computations are combined, and you get to see extremely powerful things."
      ],
      "metadata": {
        "id": "_h8jXres8kRM"
      }
    },
    {
      "cell_type": "code",
      "source": [
        "import numpy as np\n",
        "import scipy as sp\n",
        "import matplotlib\n",
        "from matplotlib import pyplot as plt"
      ],
      "metadata": {
        "id": "IULeMng8-Foi"
      },
      "execution_count": 1,
      "outputs": []
    },
    {
      "cell_type": "markdown",
      "source": [
        "## Definition (linear combination)\n",
        "Consider a set of vectors $\\mathbf{u}_1$, $\\mathbf{u}_2$,..., $\\mathbf{u}_n$, and a vector $\\mathbf{x}$. If there is a set of scalars $c_1,c_2,..., c_n$ such that\n",
        "\n",
        "$\\mathbf{x} = c_1\\mathbf{u}_1+c_2\\mathbf{u}_2+...+c_n\\mathbf{u}_n$,\n",
        "\n",
        "then we say $\\mathbf{x}$ is a linear combination of $\\mathbf{u}_1$, $\\mathbf{u}_2$,..., $\\mathbf{u}_n$.\n",
        "\n",
        "Consider a linear system with augmented matrix $[A|\\mathbf{b}]$. Denote the columns of $A$ by $\\mathbf{a}_1$, $\\mathbf{a}_2$,..., $\\mathbf{a}_n$.\n",
        "\n",
        "We look at the relationship between a system $A\\mathbf{x}=\\mathbf{b}$ and $\\mathbf{b} = x_1\\mathbf{a}_1+x_2\\mathbf{a}_2+...+x_n\\mathbf{a}_n$.\n",
        "\n"
      ],
      "metadata": {
        "id": "PolZ2aQzzGS8"
      }
    },
    {
      "cell_type": "markdown",
      "source": [
        "### Example\n",
        "Consider system\n",
        "$\\begin{cases}2x-y = 3\\\\ x+y = 2\\end{cases}$.\n",
        "\n",
        "The augmented matrix is\n",
        "$\\left(\\begin{array}{cc|c}  \n",
        " 2 & -1 & 3\\\\  \n",
        " 1 & 1 & 2  \n",
        "\\end{array}\\right)$.\n",
        "\n",
        "Solving by hand, we know the solution to this system is\n",
        "$\\mathbf{x}=\\begin{pmatrix}5/3\\\\ 1/3\\end{pmatrix}$"
      ],
      "metadata": {
        "id": "lxw4TOtW9HVS"
      }
    },
    {
      "cell_type": "code",
      "execution_count": null,
      "metadata": {
        "id": "-9G2hAbn28XM"
      },
      "outputs": [],
      "source": [
        "# define coefficient matrix and right hand side\n",
        "A = np.array([[2, -1],[1, 1]])\n",
        "b = np.array([3,2])\n",
        "\n",
        "# solve with numpy\n",
        "soln = np.linalg.solve(A,b)"
      ]
    },
    {
      "cell_type": "code",
      "source": [
        "# print the solution\n",
        "print(\"Solution is\", soln)"
      ],
      "metadata": {
        "colab": {
          "base_uri": "https://localhost:8080/"
        },
        "id": "jhSyvCPL-kZZ",
        "outputId": "699e056d-cc74-40f6-865d-25a679baaf14"
      },
      "execution_count": null,
      "outputs": [
        {
          "output_type": "stream",
          "name": "stdout",
          "text": [
            "Solution is [1.66666667 0.33333333]\n"
          ]
        }
      ]
    },
    {
      "cell_type": "markdown",
      "source": [
        "In the following we will see that $x_1\\mathbf{a}_1+x_2\\mathbf{a}_2=\\mathbf{b}$.\n",
        "\n",
        "Let `residual` = $\\mathbf{b}-x_1\\mathbf{a}_1-x_2\\mathbf{a}_2$"
      ],
      "metadata": {
        "id": "N_qmonDW_Beg"
      }
    },
    {
      "cell_type": "code",
      "source": [
        "residual = b - soln[0] * A[:,0] - soln[1] * A[:,1]\n",
        "print(\"Solutions and columns of coefficient matrix\\n\", soln[0], soln[1], A[:,0], A[:,1])\n",
        "\n",
        "print(\"The residual is\\n\", residual)"
      ],
      "metadata": {
        "colab": {
          "base_uri": "https://localhost:8080/"
        },
        "id": "mt7zEHie_Yse",
        "outputId": "25860503-d6bd-4148-fc2b-2b13da5faef3"
      },
      "execution_count": null,
      "outputs": [
        {
          "output_type": "stream",
          "name": "stdout",
          "text": [
            "Solutions and columns of coefficient matrix\n",
            " 1.6666666666666667 0.3333333333333333 [2 1] [-1  1]\n",
            "The residual is\n",
            " [-1.66533454e-16 -5.55111512e-17]\n"
          ]
        }
      ]
    },
    {
      "cell_type": "markdown",
      "source": [
        "## Theorem\n",
        "A system of linear equations with augmented matrix $[A | \\mathbf{b}]$ is consistent if and\n",
        "only if $\\mathbf{b}$ is a linear combination of the columns of $A$.\n",
        "\n",
        "$\\begin{cases}a_{11}x_1+a_{12}x_1+...+a_{1n}x_n=b_1\\\\\n",
        "a_{21}x_1+a_{22}x_1+...+a_{2n}x_n=b_2\\\\\n",
        "\\dots\\\\\n",
        "a_{m1}x_1+a_{m2}x_1+...+a_{mn}x_n=b_m\\end{cases}$\n",
        "\n",
        "You can think of the equations \"vertically\", and see it to be\n",
        "$\\begin{pmatrix}a_{11}\\\\ a_{21}\\\\\\vdots\\\\ a_{m1}\\end{pmatrix}x_1+\\begin{pmatrix}a_{12}\\\\ a_{22}\\\\\\vdots\\\\ a_{m2}\\end{pmatrix}x_2+...+\\begin{pmatrix}a_{1n}\\\\ a_{2n}\\\\\\vdots\\\\ a_{mm}\\end{pmatrix}x_n=\\mathbf{b}$."
      ],
      "metadata": {
        "id": "6i4llQHSBD3R"
      }
    },
    {
      "cell_type": "code",
      "source": [
        "A = np.random.randint(-10, 10, (5,5))\n",
        "b = np.random.randint(-10, 10, (5,1))\n",
        "x = np.linalg.solve(A,b)\n",
        "print(x)"
      ],
      "metadata": {
        "colab": {
          "base_uri": "https://localhost:8080/"
        },
        "id": "Ih8DbWTrdMP0",
        "outputId": "e614c9f6-123b-4e2d-919d-7e6599d3631b"
      },
      "execution_count": null,
      "outputs": [
        {
          "output_type": "stream",
          "name": "stdout",
          "text": [
            "[[  9.11903513]\n",
            " [ 33.63817514]\n",
            " [ -8.29575249]\n",
            " [-18.0844258 ]\n",
            " [ 17.70582066]]\n"
          ]
        }
      ]
    },
    {
      "cell_type": "markdown",
      "source": [
        "### For a given coefficient matrix $A$ (the columns $\\mathbf{a}_j$ are fixed), what kind of right hand side $b$'s make the system $(A|\\mathbf{b})$ solvable?"
      ],
      "metadata": {
        "id": "XOHwD_-8o7xC"
      }
    },
    {
      "cell_type": "markdown",
      "source": [
        "## Definition\n",
        "If $S = \\{\\mathbf{v}_1 , \\mathbf{v}_2 , . . . , \\mathbf{v}_k\\}$ is a set of vectors in $\\mathbb{R}^n$, then the set of all\n",
        "linear combinations of $\\mathbf{v}_1 , \\mathbf{v}_2 , . . . , \\mathbf{v}_k$ is called the _span_ of $\\mathbf{v}_1 , \\mathbf{v}_2 , . . . , \\mathbf{v}_k$, and is denoted by span($S$) or span($\\mathbf{v}_1 , \\mathbf{v}_2 , . . . , \\mathbf{v}_k$). If span($S$)$=\\mathbb{R}^n$, then S is called a spaning set for $\\mathbb{R}^n$.\n",
        "\n",
        "So to show a set of vectors $\\mathbf{v}_1 , \\mathbf{v}_2 , . . . , \\mathbf{v}_k$ is a spanning set for $\\mathbb{R}^n$, we show that any vector in $\\mathbb{R}^n$ can be written as a linear combination of them.\n",
        "\n",
        "### Example\n",
        "$\\mathbb{R}^2$ is its own spanning set- every vector $\\mathbf{x}$ is a linear combination of all vectors in $\\mathbb{R}^2$: $\\mathbf{x} = 1\\cdot\\mathbf{x}+0\\cdot$ all other vectors; At least how many vectors do we need in a spanning set of $\\mathbb{R}^2$?\n",
        "\n",
        "## Definition (linear in/dependence)\n",
        "A set of vectors $\\mathbf{v}_1 , \\mathbf{v}_2 , . . . , \\mathbf{v}_k$ is _linearly dependent_ if there are scalars\n",
        "$c_1,c_2,..., c_n$ at least one of which is _not zero_, such that\n",
        "\n",
        "$c_1\\mathbf{v}_1+c_2\\mathbf{v}_2+ . . . +c_k\\mathbf{v}_k=\\mathbf{0}$.\n",
        "\n",
        "A set of vectors is _linearly independent_, if\n",
        "\n",
        "$c_1\\mathbf{v}_1+c_2\\mathbf{v}_2+ . . . +c_k\\mathbf{v}_k=\\mathbf{0}$\n",
        "\n",
        "implies that all scalars $c_1,c_2,..., c_n$ must all equal 0.\n",
        "\n",
        "### Example (Theorem)\n",
        "If $\\mathbf{x} = c_1\\mathbf{u}_1+c_2\\mathbf{u}_2+...+c_n\\mathbf{u}_n$, then $\\mathbf{x}, \\mathbf{u}_1 , \\mathbf{u}_2 , . . . , \\mathbf{u}_n$ is _linearly dependent_. Why?\n",
        "\n",
        "### Example\n",
        "Any set of vectors containing the zero vector is linearly dependent. Why?\n",
        "\n",
        "### Theorem\n",
        "Let $\\mathbf{v}_1 , \\mathbf{v}_2 , . . . , \\mathbf{v}_n$ be column vectors in $\\mathbb{R}^m$ and $A=(\\mathbf{v}_1 , \\mathbf{v}_2 , . . . , \\mathbf{v}_n)$ is a $m\\times n$ matrix. Then $\\mathbf{v}_1 , \\mathbf{v}_2 , . . . , \\mathbf{v}_n$ are _linearly dependent_ if and only if the system with augmented matrix $[A|\\mathbf{0}]$ has a nontrivial solution.\n",
        "\n",
        "So the system only a trivial solution if and only if the columns are _linearly independent_.\n",
        "\n",
        "Note: For this theorem, my letters are the opposite of your textbook.\n",
        "\n",
        "### Theorem\n",
        "Let $\\mathbf{v}_1 , \\mathbf{v}_2 , . . . , \\mathbf{v}_m$ be row vectors in $\\mathbb{R}^n$ and $A=\\begin{pmatrix}\\mathbf{v}_1\\\\ \\mathbf{v}_2 \\\\ \\dots\\\\\\mathbf{v}_m\\end{pmatrix}$ is a $m\\times n$ matrix. Then $\\mathbf{v}_1 , \\mathbf{v}_2 , . . . , \\mathbf{v}_m$ are _linearly dependent_ if and only if rank$(A)<m$.\n",
        "\n",
        "### Theorem\n",
        "Any set of $n$ vectors in $\\mathbb{R}^m$ with $n>m$ is linearly dependent.\n",
        "\n",
        "This means any homogeneous linear system with coefficient matrix of shape $m\\times n$ with $n>m$ will have a nontrivial solution."
      ],
      "metadata": {
        "id": "TbM2PD_iCpqE"
      }
    },
    {
      "cell_type": "markdown",
      "source": [
        "# By now, we have seen the convenience brought by arrays of numbers- writing linear systems with matrices, representing matrices with columns or rows. So this chapter, we systematically study arrays of numbers, or matrices.\n",
        "\n",
        "## Definition\n",
        "A matrix is a rectangular array of numbers. The number at $i$-th row and $j$-the column is called the $(i,j)$ entry or element of the matrix. If the matrix is denoted by $A$, the $(i,j)$ element is denoted by $a_{ij}$.\n",
        "\n",
        "\n",
        "Special matrices include:\n",
        "- square matrix\n",
        "- diagonal matrix\n",
        "- identity matrix\n",
        "- scalar matrix\n",
        "- equal matrices"
      ],
      "metadata": {
        "id": "po3A1LiCXJw3"
      }
    },
    {
      "cell_type": "code",
      "source": [
        "# square matrix\n",
        "A = np.random.randint(-10, 10, (5,5))\n",
        "print(\"Square matrix of size 5 by 5\\n\", A)\n",
        "\n",
        "# Make a diagonal matrix given diagonal elements\n",
        "x = np.array([1,2,3])\n",
        "B = np.diag(x)\n",
        "print(\"Diagonal matrix with given elements\\n\", B)\n",
        "\n",
        "# Make an identity matrix\n",
        "I = np.eye(3)\n",
        "print(\"Identity matrix\\n\", I)\n",
        "\n",
        "# Make a scalar matrix where each diagonal element is pi\n",
        "Pi = np.pi * I\n",
        "print(\"Scalar matrix with pi on the diagonal\\n\", Pi)"
      ],
      "metadata": {
        "colab": {
          "base_uri": "https://localhost:8080/"
        },
        "id": "9zDwtATabfls",
        "outputId": "6f0031c3-3746-49dc-c54c-16e3874f20da"
      },
      "execution_count": null,
      "outputs": [
        {
          "output_type": "stream",
          "name": "stdout",
          "text": [
            "Square matrix of size 5 by 5\n",
            " [[ -8   2 -10   6   2]\n",
            " [  5   0  -6   2   4]\n",
            " [ -1   7  -5  -6  -2]\n",
            " [ -1   5  -3   5  -6]\n",
            " [  5  -7  -5   0   7]]\n",
            "Diagonal matrix with given elements\n",
            " [[1 0 0]\n",
            " [0 2 0]\n",
            " [0 0 3]]\n",
            "Identity matrix\n",
            " [[1. 0. 0.]\n",
            " [0. 1. 0.]\n",
            " [0. 0. 1.]]\n",
            "Scalar matrix with pi on the diagonal\n",
            " [[3.14159265 0.         0.        ]\n",
            " [0.         3.14159265 0.        ]\n",
            " [0.         0.         3.14159265]]\n"
          ]
        }
      ]
    },
    {
      "cell_type": "markdown",
      "source": [
        "## Matrix addition (same size) and scalar multiplication"
      ],
      "metadata": {
        "id": "C9myi7lZfjMn"
      }
    },
    {
      "cell_type": "code",
      "source": [
        "A = np.random.randint(-5, 3, (4,3))\n",
        "B = np.random.randint(7, 11, (4,3))\n",
        "C = A + B\n",
        "print(\"A=\\n\", A, \"\\n B=\\n\", B)\n",
        "print(f\"Sum C=\\n {C}\\n\")"
      ],
      "metadata": {
        "colab": {
          "base_uri": "https://localhost:8080/"
        },
        "id": "hD8xxBxUfo7Z",
        "outputId": "ebf1ccb7-82ee-46cd-c02f-dd037ff3b36d"
      },
      "execution_count": null,
      "outputs": [
        {
          "output_type": "stream",
          "name": "stdout",
          "text": [
            "A=\n",
            " [[-2 -4 -4]\n",
            " [ 2 -1 -1]\n",
            " [-4 -3 -1]\n",
            " [-1 -4  0]] \n",
            " B=\n",
            " [[ 7 10  7]\n",
            " [ 9  9  8]\n",
            " [10 10 10]\n",
            " [ 7  9  8]]\n",
            "Sum C=\n",
            " [[ 5  6  3]\n",
            " [11  8  7]\n",
            " [ 6  7  9]\n",
            " [ 6  5  8]]\n",
            "\n"
          ]
        }
      ]
    },
    {
      "cell_type": "code",
      "source": [
        "# scalar multiplication\n",
        "c = 0.5\n",
        "cA = c * A\n",
        "print(\"c times A\\n\", cA)"
      ],
      "metadata": {
        "colab": {
          "base_uri": "https://localhost:8080/"
        },
        "id": "HFFwHUSHgQ-U",
        "outputId": "00972ae9-c7fd-445d-f08c-f438af39421d"
      },
      "execution_count": null,
      "outputs": [
        {
          "output_type": "stream",
          "name": "stdout",
          "text": [
            "c times A\n",
            " [[-2.  -1.5  1. ]\n",
            " [-1.5 -1.   0. ]\n",
            " [ 1.  -1.  -1.5]\n",
            " [-1.   0.5 -1.5]]\n"
          ]
        }
      ]
    },
    {
      "cell_type": "markdown",
      "source": [
        "## Matrix multiplication is a little tricky- it is explained perfectly by the diagram on your textbook on page 142.\n",
        "\n",
        "## Definition (matrix multiplication)\n",
        "$A$ is an $m\\times n$ matrix and $B$ is an $n\\times r$ matrix; then thier product $C=AB$ is an $m\\times r$ matrix. The $(i,j)$-th entry of $C$ is computed by multiplying the $i$-th row of $A$ and $j$-th column of $B$.\n",
        "\n",
        "Note: Matrix multiplications are generally __not__ commutative. That means in general $AB\\neq BA$."
      ],
      "metadata": {
        "id": "uQLDBDbbgsh4"
      }
    },
    {
      "cell_type": "code",
      "source": [
        "# Matrix multiplication\n",
        "m = 3\n",
        "n = 5\n",
        "r = 4\n",
        "A = np.random.randint(-5, 2, (m,n))\n",
        "B = np.random.randint(3, 7, (n,r))\n",
        "C1 = np.matmul(A, B)\n",
        "C2 = A @ B\n",
        "C3 = A.dot(B)\n",
        "print(f\"Product by matmul\\n{C1}\\n\")\n",
        "print(f\"Product by @\\n{C2}\\n\")\n",
        "print(f\"Product by dot product\\n{C3}\\n\")\n"
      ],
      "metadata": {
        "colab": {
          "base_uri": "https://localhost:8080/"
        },
        "id": "c3PrRAQ3hm81",
        "outputId": "c09dfb02-ab0e-4b82-f450-873a39e1487e"
      },
      "execution_count": 3,
      "outputs": [
        {
          "output_type": "stream",
          "name": "stdout",
          "text": [
            "Product by matmul\n",
            "[[-24 -26 -21 -22]\n",
            " [-32 -35 -21 -29]\n",
            " [  6   3   3   6]]\n",
            "\n",
            "Product by @\n",
            "[[-24 -26 -21 -22]\n",
            " [-32 -35 -21 -29]\n",
            " [  6   3   3   6]]\n",
            "\n",
            "Product by dot product\n",
            "[[-24 -26 -21 -22]\n",
            " [-32 -35 -21 -29]\n",
            " [  6   3   3   6]]\n",
            "\n"
          ]
        }
      ]
    },
    {
      "cell_type": "markdown",
      "source": [
        "### We can see the computation via the followgin example-\n",
        "with matrices $A$ of size $m\\times n$ and $B$ of size $n\\times r$, we compute the dot product of each row of $A$ with each column of $B$."
      ],
      "metadata": {
        "id": "OYxR7K7N8jZr"
      }
    },
    {
      "cell_type": "code",
      "source": [
        "# print row of A\n",
        "for i in range(m):\n",
        "  print(f\"{i}-th row of A is {A[i,:]}\")\n",
        "\n",
        "for j in range(r):\n",
        "  print(f\"{j}-th column of B is {B[:,j]}\")"
      ],
      "metadata": {
        "colab": {
          "base_uri": "https://localhost:8080/"
        },
        "id": "IllAXbco9S8_",
        "outputId": "d176c533-f061-4dd0-b4f5-2e1011df5a5e"
      },
      "execution_count": 5,
      "outputs": [
        {
          "output_type": "stream",
          "name": "stdout",
          "text": [
            "0-th row of A is [-1  0 -1 -4  0]\n",
            "1-th row of A is [ 1  0 -4 -5  0]\n",
            "2-th row of A is [-1  1  1 -1  1]\n",
            "0-th column of B is [4 6 4 4 4]\n",
            "1-th column of B is [5 4 5 4 3]\n",
            "2-th column of B is [6 3 3 3 6]\n",
            "3-th column of B is [3 6 3 4 4]\n"
          ]
        }
      ]
    },
    {
      "cell_type": "markdown",
      "source": [
        "### We compute $AB$ by definition.\n",
        "\n",
        "Each entry in $C$ is computed\n",
        "\n"
      ],
      "metadata": {
        "id": "zeC4NkVP-h9E"
      }
    },
    {
      "cell_type": "code",
      "source": [
        "# initialized C\n",
        "C = np.zeros((m,r))\n",
        "\n",
        "for i in range(m):\n",
        "  for j in range(r):\n",
        "    C[i,j] = A[i,:].dot(B[:,j])\n",
        "\n",
        "print(C)"
      ],
      "metadata": {
        "colab": {
          "base_uri": "https://localhost:8080/"
        },
        "id": "4zQnWTey-rlM",
        "outputId": "ee02069e-3961-48ce-c172-29f172e58077"
      },
      "execution_count": 8,
      "outputs": [
        {
          "output_type": "stream",
          "name": "stdout",
          "text": [
            "[[-24. -26. -21. -22.]\n",
            " [-32. -35. -21. -29.]\n",
            " [  6.   3.   3.   6.]]\n"
          ]
        }
      ]
    },
    {
      "cell_type": "markdown",
      "source": [
        "## Further matrix computation\n",
        "- transpose matrix\n",
        "\n",
        "- block matrix"
      ],
      "metadata": {
        "id": "-E11hlbE_0GZ"
      }
    },
    {
      "cell_type": "code",
      "source": [
        "A = np.random.randint(5,9, (2,5))\n",
        "tA = A.T\n",
        "ttA = np.transpose(A)\n",
        "print(tA)\n",
        "print(ttA)"
      ],
      "metadata": {
        "colab": {
          "base_uri": "https://localhost:8080/"
        },
        "id": "WiG4hSn2APVw",
        "outputId": "15a8b26c-3668-4fcc-83d1-3bf22a3d4707"
      },
      "execution_count": 18,
      "outputs": [
        {
          "output_type": "stream",
          "name": "stdout",
          "text": [
            "[[5 6]\n",
            " [7 6]\n",
            " [7 5]\n",
            " [5 5]\n",
            " [7 7]]\n",
            "[[5 6]\n",
            " [7 6]\n",
            " [7 5]\n",
            " [5 5]\n",
            " [7 7]]\n"
          ]
        }
      ]
    }
  ]
}