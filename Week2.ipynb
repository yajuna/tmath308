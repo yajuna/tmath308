{
  "nbformat": 4,
  "nbformat_minor": 0,
  "metadata": {
    "colab": {
      "provenance": [],
      "authorship_tag": "ABX9TyMp3V6Ph9EgP6GQZmlhJjVO",
      "include_colab_link": true
    },
    "kernelspec": {
      "name": "python3",
      "display_name": "Python 3"
    },
    "language_info": {
      "name": "python"
    }
  },
  "cells": [
    {
      "cell_type": "markdown",
      "metadata": {
        "id": "view-in-github",
        "colab_type": "text"
      },
      "source": [
        "<a href=\"https://colab.research.google.com/github/yajuna/tmath308/blob/master/Week2.ipynb\" target=\"_parent\"><img src=\"https://colab.research.google.com/assets/colab-badge.svg\" alt=\"Open In Colab\"/></a>"
      ]
    },
    {
      "cell_type": "markdown",
      "source": [
        "# In this notebook, we look at Section 2.3, spanning sets, and linear independence. We will also introduce matrix operations (section 3.1). This is where linear algebra and modern computations are combined, and you get to see extremely powerful things."
      ],
      "metadata": {
        "id": "_h8jXres8kRM"
      }
    },
    {
      "cell_type": "code",
      "source": [
        "import numpy as np\n",
        "import sympy as sp\n",
        "import matplotlib\n",
        "from matplotlib import pyplot as plt"
      ],
      "metadata": {
        "id": "IULeMng8-Foi"
      },
      "execution_count": 2,
      "outputs": []
    },
    {
      "cell_type": "markdown",
      "source": [
        "## Definition (linear combination)\n",
        "Consider a set of vectors $\\mathbf{u}_1$, $\\mathbf{u}_2$,..., $\\mathbf{u}_n$, and a vector $\\mathbf{x}$. If there is a set of scalars $c_1,c_2,..., c_n$ such that\n",
        "\n",
        "$\\mathbf{x} = c_1\\mathbf{u}_1+c_2\\mathbf{u}_2+...+c_n\\mathbf{u}_n$,\n",
        "\n",
        "then we say $\\mathbf{x}$ is a linear combination of $\\mathbf{u}_1$, $\\mathbf{u}_2$,..., $\\mathbf{u}_n$.\n",
        "\n",
        "Consider a linear system with augmented matrix $[A|\\mathbf{b}]$. Denote the columns of $A$ by $\\mathbf{a}_1$, $\\mathbf{a}_2$,..., $\\mathbf{a}_n$.\n",
        "\n",
        "We look at the relationship between a system $A\\mathbf{x}=\\mathbf{b}$ and $\\mathbf{b} = x_1\\mathbf{a}_1+x_2\\mathbf{a}_2+...+x_n\\mathbf{a}_n$.\n",
        "\n"
      ],
      "metadata": {
        "id": "PolZ2aQzzGS8"
      }
    },
    {
      "cell_type": "markdown",
      "source": [
        "### Example\n",
        "Consider system\n",
        "$\\begin{cases}2x-y = 3\\\\ x+y = 2\\end{cases}$.\n",
        "\n",
        "The augmented matrix is\n",
        "$\\left(\\begin{array}{cc|c}  \n",
        " 2 & -1 & 3\\\\  \n",
        " 1 & 1 & 2  \n",
        "\\end{array}\\right)$.\n",
        "\n",
        "Solving by hand, we know the solution to this system is\n",
        "$\\mathbf{x}=\\begin{pmatrix}5/3\\\\ 1/3\\end{pmatrix}$"
      ],
      "metadata": {
        "id": "lxw4TOtW9HVS"
      }
    },
    {
      "cell_type": "code",
      "execution_count": 3,
      "metadata": {
        "id": "-9G2hAbn28XM"
      },
      "outputs": [],
      "source": [
        "# define coefficient matrix and right hand side\n",
        "A = np.array([[2, -1],[1, 1]])\n",
        "b = np.array([3,2])\n",
        "\n",
        "# solve with numpy\n",
        "soln = np.linalg.solve(A,b)"
      ]
    },
    {
      "cell_type": "code",
      "source": [
        "# print the solution\n",
        "print(\"Solution is\", soln)"
      ],
      "metadata": {
        "colab": {
          "base_uri": "https://localhost:8080/"
        },
        "id": "jhSyvCPL-kZZ",
        "outputId": "63c351c8-b25a-4582-e923-aa88d224476e"
      },
      "execution_count": 4,
      "outputs": [
        {
          "output_type": "stream",
          "name": "stdout",
          "text": [
            "Solution is [1.66666667 0.33333333]\n"
          ]
        }
      ]
    },
    {
      "cell_type": "markdown",
      "source": [
        "In the following we will see that $x_1\\mathbf{a}_1+x_2\\mathbf{a}_2=\\mathbf{b}$.\n",
        "\n",
        "Let `residual` = $\\mathbf{b}-x_1\\mathbf{a}_1-x_2\\mathbf{a}_2$"
      ],
      "metadata": {
        "id": "N_qmonDW_Beg"
      }
    },
    {
      "cell_type": "code",
      "source": [
        "residual = b - soln[0] * A[:,0] - soln[1] * A[:,1]\n",
        "print(soln[0], soln[1], A[:,0], A[:,1])"
      ],
      "metadata": {
        "colab": {
          "base_uri": "https://localhost:8080/"
        },
        "id": "mt7zEHie_Yse",
        "outputId": "3818c476-6276-4c86-c326-284df0fa0e10"
      },
      "execution_count": 5,
      "outputs": [
        {
          "output_type": "stream",
          "name": "stdout",
          "text": [
            "1.6666666666666667 0.3333333333333333 [2 1] [-1  1]\n"
          ]
        }
      ]
    },
    {
      "cell_type": "code",
      "source": [
        "print(residual)"
      ],
      "metadata": {
        "colab": {
          "base_uri": "https://localhost:8080/"
        },
        "id": "gKGCF2Lk_oUg",
        "outputId": "41d09df3-35ee-4ba2-f3fd-b8ff92007e20"
      },
      "execution_count": 23,
      "outputs": [
        {
          "output_type": "stream",
          "name": "stdout",
          "text": [
            "[-1.66533454e-16 -5.55111512e-17]\n"
          ]
        }
      ]
    },
    {
      "cell_type": "markdown",
      "source": [
        "## Theorem\n",
        "A system of linear equations with augmented matrix $[A | \\mathbf{b}]$ is consistent if and\n",
        "only if $\\mathbf{b}$ is a linear combination of the columns of $A$.\n",
        "\n",
        "$\\begin{cases}a_{11}x_1+a_{12}x_1+...+a_{1n}x_n=b_1\\\\\n",
        "a_{21}x_1+a_{22}x_1+...+a_{2n}x_n=b_2\\\\\n",
        "\\dots\\\\\n",
        "a_{m1}x_1+a_{m2}x_1+...+a_{mn}x_n=b_m\\end{cases}$\n",
        "\n",
        "You can think of the equations \"vertically\", and see it to be\n",
        "$\\begin{pmatrix}a_{11}\\\\ a_{21}\\\\\\vdots\\\\ a_{m1}\\end{pmatrix}x_1+\\begin{pmatrix}a_{12}\\\\ a_{22}\\\\\\vdots\\\\ a_{m2}\\end{pmatrix}x_2+...+\\begin{pmatrix}a_{1n}\\\\ a_{2n}\\\\\\vdots\\\\ a_{mm}\\end{pmatrix}x_n=\\mathbf{b}$."
      ],
      "metadata": {
        "id": "6i4llQHSBD3R"
      }
    },
    {
      "cell_type": "code",
      "source": [
        "A = np.random.randint(-10, 10, (5,5))\n",
        "b = np.random.randint(-10, 10, (5,1))\n",
        "x = np.linalg.solve(A,b)\n",
        "print(x)"
      ],
      "metadata": {
        "colab": {
          "base_uri": "https://localhost:8080/"
        },
        "id": "Ih8DbWTrdMP0",
        "outputId": "faca2976-2656-4d3d-9489-64ee616acd35"
      },
      "execution_count": 8,
      "outputs": [
        {
          "output_type": "stream",
          "name": "stdout",
          "text": [
            "[[ 0.5707021 ]\n",
            " [ 0.00902231]\n",
            " [ 0.63708443]\n",
            " [-0.20652887]\n",
            " [ 0.39391951]]\n"
          ]
        }
      ]
    },
    {
      "cell_type": "markdown",
      "source": [
        "## Definition\n",
        "If $S = \\{\\mathbf{v}_1 , \\mathbf{v}_2 , . . . , \\mathbf{v}_k\\}$ is a set of vectors in $\\mathbb{R}^n$, then the set of all\n",
        "linear combinations of $\\mathbf{v}_1 , \\mathbf{v}_2 , . . . , \\mathbf{v}_k$ is called the _span_ of $\\mathbf{v}_1 , \\mathbf{v}_2 , . . . , \\mathbf{v}_k$, and is denoted by span($S$) or span($\\mathbf{v}_1 , \\mathbf{v}_2 , . . . , \\mathbf{v}_k$). If span($S$)$=\\mathbb{R}^n$, then S is called a spaning set for $\\mathbb{R}^n$.\n",
        "\n",
        "So to show a set of vectors $\\mathbf{v}_1 , \\mathbf{v}_2 , . . . , \\mathbf{v}_k$ is a spanning set for $\\mathbb{R}^n$, we show that any vector in $\\mathbb{R}^n$ can be written as a linear combination of them.\n",
        "\n",
        "### Example\n",
        "$\\mathbb{R}^2$ is its own spanning set- every vector $\\mathbf{x}$ is a linear combination of all vectors in $\\mathbb{R}^2$: $\\mathbf{x} = 1\\mathbf{x}+0$ all other vectors; At least how many vectors do we need in a spanning set of $\\mathbb{R}^2$?\n",
        "\n",
        "## Definition (linear in/dependence)\n",
        "A set of vectors $\\mathbf{v}_1 , \\mathbf{v}_2 , . . . , \\mathbf{v}_k$ is _linearly dependent_ if there are scalars\n",
        "$c_1,c_2,..., c_n$ at least one of which is _not zero_, such that\n",
        "\n",
        "$c_1\\mathbf{v}_1+c_2\\mathbf{v}_2+ . . . +c_k\\mathbf{v}_k=\\mathbf{0}$.\n",
        "\n",
        "A set of vectors is _linearly independent_, if\n",
        "\n",
        "$c_1\\mathbf{v}_1+c_2\\mathbf{v}_2+ . . . +c_k\\mathbf{v}_k=\\mathbf{0}$ implies that all scalars $c_1,c_2,..., c_n$ must all equal 0.\n",
        "\n",
        "### Example (Theorem)\n",
        "If $\\mathbf{x} = c_1\\mathbf{u}_1+c_2\\mathbf{u}_2+...+c_n\\mathbf{u}_n$, then $\\mathbf{x}, \\mathbf{u}_1 , \\mathbf{u}_2 , . . . , \\mathbf{u}_n$ is _linearly dependent_. Why?\n",
        "\n",
        "### Theorem\n",
        "Let $\\mathbf{v}_1 , \\mathbf{v}_2 , . . . , \\mathbf{v}_n$ be column vectors in $\\mathbf{R}^m$ and $A=(\\mathbf{v}_1 , \\mathbf{v}_2 , . . . , \\mathbf{v}_n)$ is a $m\\times n$ matrix. Then $\\mathbf{v}_1 , \\mathbf{v}_2 , . . . , \\mathbf{v}_n$ are _linearly independent_ if and only if the system with augmented matrix $[A|\\mathbf{0}]$ only has the trivial solution."
      ],
      "metadata": {
        "id": "TbM2PD_iCpqE"
      }
    }
  ]
}