{
  "nbformat": 4,
  "nbformat_minor": 0,
  "metadata": {
    "colab": {
      "provenance": [],
      "authorship_tag": "ABX9TyM6cGtViKekV/QzxbWkDP9T",
      "include_colab_link": true
    },
    "kernelspec": {
      "name": "python3",
      "display_name": "Python 3"
    },
    "language_info": {
      "name": "python"
    }
  },
  "cells": [
    {
      "cell_type": "markdown",
      "metadata": {
        "id": "view-in-github",
        "colab_type": "text"
      },
      "source": [
        "<a href=\"https://colab.research.google.com/github/yajuna/tmath308/blob/master/Week1.ipynb\" target=\"_parent\"><img src=\"https://colab.research.google.com/assets/colab-badge.svg\" alt=\"Open In Colab\"/></a>"
      ]
    },
    {
      "cell_type": "markdown",
      "source": [
        "# This week, we cover systems of linear equations and their direction methods (Sections 2.1 and 2.2).\n",
        "\n",
        "We cover Sections 2.1 and 2.2; and we will be using the `numpy` library of `Python` to help solve these systems with Google Colab."
      ],
      "metadata": {
        "id": "KupSQDFt0TLY"
      }
    },
    {
      "cell_type": "markdown",
      "source": [
        "## Definition (linear equation)\n",
        "A linear equation in the $n$ variables $x_1,...,x_n$ is an equation that can be written in the form\n",
        "\n",
        "$a_1x_1+a_2x_2+...+a_nx_n=b$\n",
        "\n",
        "where the _coefficients_ $a_1,...,a_n$ and the _constant term_ $b$ are constants.\n",
        "\n",
        "The equation is linear in the variables $x_1,...,x_n$.\n",
        "\n",
        "## Definition (solution)\n",
        "\n",
        "A solution to the above system is a _tuple_ (_vector_) $[s_1,...,s_n]$, such that\n",
        "\n",
        "$a_1s_1+a_2s_2+...+a_ns_n=b$ is true.\n",
        "\n",
        "## Definition (system)\n",
        "\n",
        "A __system__ of linear equations is a finite set of linear equations, each with the _same_\n",
        "variables. A solution of a system of linear equations is a tuple(vector) that is _simultaneously_\n",
        "a solution of each equation in the system. The solution set of a system of linear equations is the set of all solutions of the system. We will refer to the process of finding the\n",
        "solution set of a system of linear equations as \"solving the system\".\n"
      ],
      "metadata": {
        "id": "OkG3bZ6h1Bk3"
      }
    },
    {
      "cell_type": "code",
      "execution_count": 10,
      "metadata": {
        "colab": {
          "base_uri": "https://localhost:8080/"
        },
        "id": "Y95dQNBipERV",
        "outputId": "ef42a46e-385e-4f86-9613-63b046c9561b"
      },
      "outputs": [
        {
          "output_type": "stream",
          "name": "stdout",
          "text": [
            "/usr/bin/python3\n",
            "sys.version_info(major=3, minor=10, micro=12, releaselevel='final', serial=0)\n",
            "1.23.5\n",
            "1.12\n",
            "3.7.1\n"
          ]
        }
      ],
      "source": [
        "# check out system information and import libraries\n",
        "import sys\n",
        "import numpy as np\n",
        "import sympy as sp\n",
        "import matplotlib\n",
        "from matplotlib import pyplot as plt\n",
        "\n",
        "# understand your software version for reproducibility\n",
        "print(sys.executable)\n",
        "print(sys.version_info)\n",
        "print(np.version.version)\n",
        "print(sp.__version__)\n",
        "print(matplotlib.__version__)"
      ]
    },
    {
      "cell_type": "markdown",
      "source": [
        "### We introduce inner product to check if a vector is a solution to a given linear equation.\n",
        "\n",
        " __a__$ \\cdot$ __x__ $= a_1x_1+a_2x_2+...+a_nx_n$.\n",
        "\n",
        " The result of the computation should be a scalar.\n",
        "\n",
        " Here we create a vector __a__ and a vector __x__, generated randomly of size _n_. Pay attention to the shape of __a__ and __x__."
      ],
      "metadata": {
        "id": "ApK3QuJQ6dfq"
      }
    },
    {
      "cell_type": "code",
      "source": [
        "n = 7\n",
        "\n",
        "a = np.random.randint(-5, 5, (1,n))\n",
        "x = np.random.randint(0, 1e2, (n,1))\n",
        "\n",
        "print(a)\n",
        "print(x)"
      ],
      "metadata": {
        "colab": {
          "base_uri": "https://localhost:8080/"
        },
        "id": "rX-2d7cH6dBS",
        "outputId": "09720bba-c18c-4f9c-b2e2-e2cd0f628ed6"
      },
      "execution_count": 11,
      "outputs": [
        {
          "output_type": "stream",
          "name": "stdout",
          "text": [
            "[[-2 -3  4  1 -4 -4  2]]\n",
            "[[83]\n",
            " [42]\n",
            " [40]\n",
            " [70]\n",
            " [43]\n",
            " [32]\n",
            " [97]]\n"
          ]
        }
      ]
    },
    {
      "cell_type": "code",
      "source": [
        "dot_ax = a.dot(x)\n",
        "print(dot_ax)"
      ],
      "metadata": {
        "colab": {
          "base_uri": "https://localhost:8080/"
        },
        "id": "lIE6tbk48Xgb",
        "outputId": "ed35eaf0-8d00-48e7-9273-0d7b42e2067f"
      },
      "execution_count": 12,
      "outputs": [
        {
          "output_type": "stream",
          "name": "stdout",
          "text": [
            "[[-168]]\n"
          ]
        }
      ]
    },
    {
      "cell_type": "markdown",
      "source": [
        "### The above means\n",
        "\n",
        "The equation $a_1x_1+a_2x_2+...+a_nx_n =$ dot\\_ax has a solution, the randomly generated values stored in __x__."
      ],
      "metadata": {
        "id": "KZOwYkJw_-vW"
      }
    },
    {
      "cell_type": "markdown",
      "source": [
        "### A system of equations might have\n",
        "1. A unique solution (ideal case) --consistent system\n",
        "2. Infinitely many solutions -- consistent system\n",
        "2. No solution -- inconsistent system\n",
        "\n",
        "Systems of two equations with two variables can be geometrically interpreted on the plane. You can plot systems with three variables by plotting planes. See an example [here](https://github.com/yajuna/126jupyternotebooks/blob/master/week5_lines_planes.ipynb)."
      ],
      "metadata": {
        "id": "RKmCI-Q5AWUo"
      }
    },
    {
      "cell_type": "code",
      "source": [
        "## define line plotter\n",
        "\"\"\"\n",
        "hyperparameter: tmin, tmax\n",
        "input: a_1, a_2, b\n",
        "output: plot of the line a_1x_1+a_2x_2 = b\n",
        "\"\"\"\n",
        "tmin = -5\n",
        "tmax = 7\n",
        "\n",
        "def plot_line(a1, a2, b):\n",
        "    t = np.linspace(tmin, tmax, int(1e5))\n",
        "    if a2 == 0:\n",
        "      plt.vlines(x = b/a1, ymin = tmin, ymax = tmax,\n",
        "           colors = 'purple',label=f\"{a1}$x_1$={b}\")\n",
        "      plt.legend(loc='upper left',prop = {'size':7},bbox_to_anchor=(1,1))\n",
        "      plt.xlabel ('$x_1$')\n",
        "      plt.ylabel ('$x_2$')\n",
        "    else:\n",
        "      plt.plot(t, (b - a1 * t)/a2,label=f\"{a1}$x_1$+{a2}$x_2$={b}\")\n",
        "      plt.legend(loc='upper left',prop = {'size':7},bbox_to_anchor=(1,1))\n",
        "      plt.xlabel ('$x_1$')\n",
        "      plt.xlabel ('$x_2$')"
      ],
      "metadata": {
        "id": "VYJU6cdCEHAi"
      },
      "execution_count": 13,
      "outputs": []
    },
    {
      "cell_type": "markdown",
      "source": [
        "### Plot two lines given coefficients $a_1,\\ a_2$ and $b$.\n",
        "\n",
        "In the following we plot\n",
        "$2x_1+3x_2 =6$ and $1x_1=3$.\n",
        "\n",
        "Change the values and play around to find systems with one, infinitely many, and no solution."
      ],
      "metadata": {
        "id": "3VZCf9mRN1eX"
      }
    },
    {
      "cell_type": "code",
      "source": [
        "plot_line(2,3,6)\n",
        "plot_line(1,0,3)"
      ],
      "metadata": {
        "colab": {
          "base_uri": "https://localhost:8080/",
          "height": 450
        },
        "id": "R2nekcizMUX5",
        "outputId": "5ebb6138-2946-451d-acd6-e6feaf5bbc59"
      },
      "execution_count": 14,
      "outputs": [
        {
          "output_type": "display_data",
          "data": {
            "text/plain": [
              "<Figure size 640x480 with 1 Axes>"
            ],
            "image/png": "[encoded data removed]"
          },
          "metadata": {}
        }
      ]
    },
    {
      "cell_type": "markdown",
      "source": [
        "## Definition (equivalence)\n",
        "\n",
        "Two systems are called equivalent if they have the same solution sets. The systems\n",
        "\n",
        "$\\begin{cases}x-y = 1\\\\ x+y = 3\\end{cases}$ and $\\begin{cases}x-y = 1\\\\ y = 1\\end{cases}$ are equivalent.\n",
        "\n",
        "Think what the plots mean."
      ],
      "metadata": {
        "id": "OPMVAJnCEF_p"
      }
    },
    {
      "cell_type": "code",
      "source": [
        "plot_line(1,-1,1)\n",
        "plot_line(1,1,3)"
      ],
      "metadata": {
        "colab": {
          "base_uri": "https://localhost:8080/",
          "height": 450
        },
        "id": "oIeD2YooUJAD",
        "outputId": "cb2da20e-6f76-4582-ffdd-78f5a8684266"
      },
      "execution_count": 15,
      "outputs": [
        {
          "output_type": "display_data",
          "data": {
            "text/plain": [
              "<Figure size 640x480 with 1 Axes>"
            ],
            "image/png": "[encoded data removed]"
          },
          "metadata": {}
        }
      ]
    },
    {
      "cell_type": "code",
      "source": [
        "plot_line(1,-1,1)\n",
        "plot_line(0,1,1)"
      ],
      "metadata": {
        "colab": {
          "base_uri": "https://localhost:8080/",
          "height": 450
        },
        "id": "iJLaWl4tUSln",
        "outputId": "56d41434-4ea3-4f3f-eb7a-74709fc2a764"
      },
      "execution_count": 16,
      "outputs": [
        {
          "output_type": "display_data",
          "data": {
            "text/plain": [
              "<Figure size 640x480 with 1 Axes>"
            ],
            "image/png": "[encoded data removed]"
          },
          "metadata": {}
        }
      ]
    },
    {
      "cell_type": "markdown",
      "source": [
        "## A nice way to organize your sytems is to only keep track of the coefficients and the right hand side vector.\n",
        "\n",
        "The solution (i.e. the tuple of numbers) for\n",
        "$2x+3y=6$ and $2u+3v=6$ are the same, and we therefore only need the information [2,3,6].\n",
        "\n",
        "The array of numbers that records the coefficient of the system is an example of a _matrix_. In this case, it is [2,3].\n",
        "\n",
        "Together with the right hand side, we call the array the _augmented matrix_. In this case it is [2,3,6]."
      ],
      "metadata": {
        "id": "7YP-aPePLUH1"
      }
    },
    {
      "cell_type": "markdown",
      "source": [
        "## Example\n",
        "Consider the system\n",
        "$\\begin{cases}2x+2y+2z=10\\\\ x+2y+0z=3\\\\ 2x+y+3z=12\\end{cases}$.\n",
        "\n",
        "The coefficient matrix (denoted by $A$) is\n",
        "$\\begin{pmatrix} 2&2&2\\\\ 1&2&0 \\\\ 2&1&3\\end{pmatrix}$\n",
        "\n",
        "and the augmented matrix is (denoted by $[A|\\mathbf{b}]$) $\\left(\\begin{array}{ccc|c}  \n",
        "2&2&2&10\\\\ 1&2&0&3 \\\\ 2&1&3&12\n",
        "\\end{array}\\right)$\n"
      ],
      "metadata": {
        "id": "6kNV2m6RMf_H"
      }
    },
    {
      "cell_type": "markdown",
      "source": [
        "## The more zeros you have in your coefficients, the easier your system is to solve.\n",
        "\n",
        "If your system is already in a upper triangular form, then you are direct solve the system via __back substitution__. Otherewise, you can first simplify your syetem with the Echelon form and the reduced Echelon form, and then use back substitution. This is a direct method to solve the system, called _Gaussian Elimination_.\n",
        "\n",
        "### Definition (Row operations)\n",
        "The following operations do not change the solution of a system, and we use them to create more zeros:\n",
        "- Interchange two rows\n",
        "- Multiply a row by a nonzero constant\n",
        "- Add a scalar multiple of a row to another row\n",
        "\n",
        "Row operations are _invertible_: for example, Divide a row by the same nonzero constant, you get the original row.\n"
      ],
      "metadata": {
        "id": "Ia04UvLwJos5"
      }
    },
    {
      "cell_type": "code",
      "source": [
        "### REF\n",
        "Vec = np.array([[2,2,2,10],[1,2,0,3],[2,1,3,12]])\n",
        "\n",
        "Vec_ref = sp.Matrix(Vec).echelon_form()\n",
        "\n",
        "print(\"The Echelon form is\\n\", Vec_ref)\n",
        "\n",
        "### RREF\n",
        "Vec_rref = sp.Matrix(Vec).rref()\n",
        "print(\"The reduce Echelon form is\\n\", Vec_rref)"
      ],
      "metadata": {
        "colab": {
          "base_uri": "https://localhost:8080/"
        },
        "id": "J0gk51INKlc0",
        "outputId": "dc951570-ed00-4733-899c-416971f3c351"
      },
      "execution_count": 17,
      "outputs": [
        {
          "output_type": "stream",
          "name": "stdout",
          "text": [
            "The Echelon form is\n",
            " Matrix([[2, 2, 2, 10], [0, 2, -2, -4], [0, 0, 0, 0]])\n",
            "The reduce Echelon form is\n",
            " (Matrix([\n",
            "[1, 0,  2,  7],\n",
            "[0, 1, -1, -2],\n",
            "[0, 0,  0,  0]]), (0, 1))\n"
          ]
        }
      ]
    },
    {
      "cell_type": "markdown",
      "source": [
        "Via row operations, we can get our matrices to the following forms:\n",
        "\n",
        "### Row echelon form:\n",
        "1. Any rows consisting entirely of zeros are at the bottom.\n",
        "2. In each nonzero row, the first nonzero entry (called the leading entry) is in a column to the left of any leading entries below it.\n",
        "\n",
        "Even more zeros:\n",
        "\n",
        "### Reduced row echelon form:\n",
        "1. It is in row echelon form.\n",
        "2. The leading entry in each nonzero row is a 1 (called a leading 1).\n",
        "3. Each column containing a leading 1 has zeros everywhere else.\n",
        "\n",
        "\n",
        "### Definition (row equivalence)\n",
        "Matrices $A$ and $B$ are _row equivalent_ if there is a sequence of elementary row operations that converts $A$ to $B$.\n",
        "\n",
        "\n",
        "### As all matrices can be reduced to some REF or RREF, two matrices with the same REF or RREF are row equivalent.\n",
        "\n"
      ],
      "metadata": {
        "id": "aZneLGrxcZJH"
      }
    },
    {
      "cell_type": "markdown",
      "source": [
        "## Definition\n",
        "\n",
        "The rank of a matrix is the number of nonzero rows in its row echelon form.\n",
        "\n",
        "## The Rank Theorem\n",
        "Let $A$ be the coefficient matrix of a system of linear equations with $n$ variables. If the system is consistent, then\n",
        "\n",
        "number of free variables $= n - \\text{rank} (A)$.\n",
        "\n",
        "__Remark__: If a system has at least one free variable, then it will have infinitely many solutions.\n",
        "\n",
        "## Definition\n",
        "A system of linear equations is called homogeneous if the constant (right hand side) term in each equation is zero.\n",
        "\n",
        "_A homogeneous system is always consistent_. (Why?)\n",
        "\n",
        "\n",
        "## Theorem\n",
        "If $[A |\\mathbf{0}]$ is a homogeneous system of $m$ linear equations with $n$ variables, where $m < n$, then the system has infinitely many solutions."
      ],
      "metadata": {
        "id": "7llVYaoPioOQ"
      }
    },
    {
      "cell_type": "markdown",
      "source": [],
      "metadata": {
        "id": "7QlHmpaJmFHO"
      }
    }
  ]
}