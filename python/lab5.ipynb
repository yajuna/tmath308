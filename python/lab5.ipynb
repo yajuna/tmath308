{
 "cells": [
  {
   "cell_type": "markdown",
   "metadata": {},
   "source": [
    "# Lab5: Using eigen decomposition to learn Markov chain\n",
    "\n",
    "## This lab is knock off of Steve Klee's lab3 on the Game of Thrones. \n",
    "\n",
    "### Complete the lab, by runnig this notebook, or adding your own code\n"
   ]
  },
  {
   "cell_type": "markdown",
   "metadata": {},
   "source": [
    "The people of the north are divided between those who are pro-Jon Snow and those who are \n",
    "pro-Dragon Queen. As things change down in King's landing, their alliance may change over time. In a given fornight, \n",
    "\n",
    "there is a 90% chance that a pro-Jon Snow citizen will remain pro-Jon snow\n",
    "there is a 10% chance that a pro-Jon Snow citizen will become pro-Dragon Queen\n",
    "there is a 82% chance that a pro-Dragon Queen citizen will remain pro-Dragon Queen\n",
    "there is a 18% chance that a pro-Dragon Queen citizen will become pro-Jon Snow\n",
    "\n",
    "There are currently 15000 pro Jon Snow citizens and only 800 pro- Dragon Queen citizens.\n",
    "\n",
    "We define $M=\\begin{pmatrix}0.82 & 0.1\\\\0.18&0.9\\end{pmatrix}$ and $v_0=\\begin{pmatrix}15000\\\\ 800\\end{pmatrix}$."
   ]
  },
  {
   "cell_type": "markdown",
   "metadata": {},
   "source": [
    "1. Use Python to find the products $Mv_0$, $M^{2}v_0$, $M^{3}v_0$..., $M^{50}v_0$. Run the following code. What do these vectors represent?"
   ]
  },
  {
   "cell_type": "raw",
   "metadata": {},
   "source": [
    "# import packages\n",
    "import numpy as np\n",
    "\n",
    "# define matrix and vector\n",
    "M = np.array([[0.82, 0.1],[0.18,0.9]])\n",
    "v0 = np.array([[15000],[800]])\n",
    "\n",
    "# print M and v0\n",
    "\n",
    "print(\"M=\", M)\n",
    "print (\"v0=\",v0)\n"
   ]
  },
  {
   "cell_type": "raw",
   "metadata": {},
   "source": [
    "# compute vectors\n",
    "for n in range(50):\n",
    "    temp = M**(n+1)*v0\n",
    "    print (n+1, temp)\n",
    "    "
   ]
  },
  {
   "cell_type": "markdown",
   "metadata": {},
   "source": [
    "2. What do you notice about the population of pro-JS and pro-DQ as time goes by? Make a guess: if we let the number of years $n\\to\\infty$, how many people do you expect to be pro-JS? How about pro-DQ?\n",
    "\n",
    "3. If we let the number of fornights $n\\to\\infty$, what percentage of the population do you expect to be pro-Jon Snow? How about pro-Dragon Queen?"
   ]
  },
  {
   "cell_type": "markdown",
   "metadata": {},
   "source": []
  },
  {
   "cell_type": "markdown",
   "metadata": {},
   "source": [
    "4. Find the eigenvalues of $M$. Google a bit to find the command in numpy."
   ]
  },
  {
   "cell_type": "code",
   "execution_count": null,
   "metadata": {},
   "outputs": [],
   "source": [
    "# find the numpy command for finding eigenvalues, then find the eigenvalues of M\n",
    "\n"
   ]
  },
  {
   "cell_type": "markdown",
   "metadata": {},
   "source": [
    "5. Find a basis for each of the corresponding eigenspaces. Google a bit."
   ]
  },
  {
   "cell_type": "code",
   "execution_count": null,
   "metadata": {},
   "outputs": [],
   "source": [
    "# find basis for each eigenspace.\n",
    "\n"
   ]
  },
  {
   "cell_type": "markdown",
   "metadata": {},
   "source": [
    "6. Find a matrix $P$ whose columns are the basis eigenvectors you just found."
   ]
  },
  {
   "cell_type": "code",
   "execution_count": null,
   "metadata": {},
   "outputs": [],
   "source": [
    "# define a matrix from several column vectors.\n",
    "\n"
   ]
  },
  {
   "cell_type": "raw",
   "metadata": {},
   "source": [
    "7. We saw that it is possible to write $M^n=PD^nP^{-1}$. What is $D^n$ in this case? Compute it. \n",
    "8. What happens to $D^n$ as $n\\to\\infty$? We call the limit $E$, then find the product $PEP^{-1}$."
   ]
  },
  {
   "cell_type": "code",
   "execution_count": null,
   "metadata": {},
   "outputs": [],
   "source": [
    "# Construct the diagonal matrix D, then compute its n-th power, for n = 1:50; \n",
    "# the compute PEP^{-1}\n",
    "\n"
   ]
  },
  {
   "cell_type": "markdown",
   "metadata": {},
   "source": [
    "9. We can say $\\lim_{n\\to\\infty}M^nv_0=\\lim_{n\\to\\infty}PD^nP^{-1}v0=PEP^{-1}v0$. What is $PEP^{-1}v0$? How is this related to your guess in a previous problem?"
   ]
  },
  {
   "cell_type": "markdown",
   "metadata": {},
   "source": [
    "10. In part 5, you found a basis vector for the $\\lambda=1$ eigenspace of $M$. Find another vector in this eigenspace, call it $q=(q_1,q_2)$, with the property that $q_1+q_2=1$."
   ]
  },
  {
   "cell_type": "code",
   "execution_count": 6,
   "metadata": {},
   "outputs": [],
   "source": [
    "# find another basis vector"
   ]
  },
  {
   "cell_type": "code",
   "execution_count": null,
   "metadata": {},
   "outputs": [],
   "source": []
  }
 ],
 "metadata": {
  "kernelspec": {
   "display_name": "Python 3",
   "language": "python",
   "name": "python3"
  },
  "language_info": {
   "codemirror_mode": {
    "name": "ipython",
    "version": 3
   },
   "file_extension": ".py",
   "mimetype": "text/x-python",
   "name": "python",
   "nbconvert_exporter": "python",
   "pygments_lexer": "ipython3",
   "version": "3.6.8"
  }
 },
 "nbformat": 4,
 "nbformat_minor": 2
}
