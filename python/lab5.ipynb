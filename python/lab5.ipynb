{
 "cells": [
  {
   "cell_type": "markdown",
   "metadata": {},
   "source": [
    "# Lab5: Using eigen decomposition to learn Markov chain\n",
    "\n",
    "## This lab is knock off of Steve Klee's lab3 on the Game of Thrones. \n",
    "\n",
    "### Complete the lab, by runnig this notebook, or adding your own code\n"
   ]
  },
  {
   "cell_type": "markdown",
   "metadata": {},
   "source": [
    "The people of the north are divided between those who are pro-Jon Snow and those who are \n",
    "pro-Dragon Queen. As things change down in King's landing, their alliance may change over time. In a given fornight, \n",
    "\n",
    "there is a 90% chance that a pro-Jon Snow citizen will remain pro-Jon snow\n",
    "there is a 10% chance that a pro-Jon Snow citizen will become pro-Dragon Queen\n",
    "there is a 82% chance that a pro-Dragon Queen citizen will remain pro-Dragon Queen\n",
    "there is a 18% chance that a pro-Dragon Queen citizen will become pro-Jon Snow\n",
    "\n",
    "There are currently 15000 pro Jon Snow citizens and only 800 pro- Dragon Queen citizens.\n",
    "\n",
    "We define $M=\\begin{pmatrix}0.82 & 0.1\\\\0.18&0.9\\end{pmatrix}$ and $\\mathbf{v}_0=\\begin{pmatrix}15000\\\\ 800\\end{pmatrix}$."
   ]
  },
  {
   "cell_type": "markdown",
   "metadata": {},
   "source": [
    "Use Python to find the products $M\\mathbf{v}_0$, $M^{2}\\mathbf{v}_0$, $M^{3}\\mathbf{v}_0$..., $M^{50}\\mathbf{v}_0$. Run the following code. What do these vectors represent?"
   ]
  },
  {
   "cell_type": "code",
   "execution_count": 6,
   "metadata": {},
   "outputs": [
    {
     "name": "stdout",
     "output_type": "stream",
     "text": [
      "M= [[0.82 0.1 ]\n",
      " [0.18 0.9 ]]\n",
      "v0= [[15000]\n",
      " [  800]]\n"
     ]
    }
   ],
   "source": [
    "# import packages\n",
    "import numpy as np\n",
    "\n",
    "# define matrix and vector\n",
    "M = np.array([[0.82, 0.1],[0.18,0.9]])\n",
    "v0 = np.array([[15000],[800]])\n",
    "\n",
    "# print M and v0\n",
    "\n",
    "print(\"M=\", M)\n",
    "print (\"v0=\",v0)\n"
   ]
  },
  {
   "cell_type": "code",
   "execution_count": 12,
   "metadata": {},
   "outputs": [
    {
     "name": "stdout",
     "output_type": "stream",
     "text": [
      "1 [[12300.  1500.]\n",
      " [  144.   720.]]\n",
      "2 [[10086.     150.  ]\n",
      " [   25.92   648.  ]]\n",
      "3 [[8.27052e+03 1.50000e+01]\n",
      " [4.66560e+00 5.83200e+02]]\n",
      "4 [[6.7818264e+03 1.5000000e+00]\n",
      " [8.3980800e-01 5.2488000e+02]]\n",
      "5 [[5.56109765e+03 1.50000000e-01]\n",
      " [1.51165440e-01 4.72392000e+02]]\n",
      "6 [[4.56010007e+03 1.50000000e-02]\n",
      " [2.72097792e-02 4.25152800e+02]]\n",
      "7 [[3.73928206e+03 1.50000000e-03]\n",
      " [4.89776026e-03 3.82637520e+02]]\n",
      "8 [[3.06621129e+03 1.50000000e-04]\n",
      " [8.81596846e-04 3.44373768e+02]]\n",
      "9 [[2.51429326e+03 1.50000000e-05]\n",
      " [1.58687432e-04 3.09936391e+02]]\n",
      "10 [[2.06172047e+03 1.50000000e-06]\n",
      " [2.85637378e-05 2.78942752e+02]]\n",
      "11 [[1.69061079e+03 1.50000000e-07]\n",
      " [5.14147281e-06 2.51048477e+02]]\n",
      "12 [[1.38630084e+03 1.50000000e-08]\n",
      " [9.25465105e-07 2.25943629e+02]]\n",
      "13 [[1.13676669e+03 1.50000000e-09]\n",
      " [1.66583719e-07 2.03349266e+02]]\n",
      "14 [[9.32148688e+02 1.50000000e-10]\n",
      " [2.99850694e-08 1.83014340e+02]]\n",
      "15 [[7.64361924e+02 1.50000000e-11]\n",
      " [5.39731249e-09 1.64712906e+02]]\n",
      "16 [[6.26776778e+02 1.50000000e-12]\n",
      " [9.71516249e-10 1.48241615e+02]]\n",
      "17 [[5.13956958e+02 1.50000000e-13]\n",
      " [1.74872925e-10 1.33417454e+02]]\n",
      "18 [[4.21444705e+02 1.50000000e-14]\n",
      " [3.14771265e-11 1.20075708e+02]]\n",
      "19 [[3.45584658e+02 1.50000000e-15]\n",
      " [5.66588276e-12 1.08068137e+02]]\n",
      "20 [[2.83379420e+02 1.50000000e-16]\n",
      " [1.01985890e-12 9.72613237e+01]]\n",
      "21 [[2.32371124e+02 1.50000000e-17]\n",
      " [1.83574602e-13 8.75351913e+01]]\n",
      "22 [[1.90544322e+02 1.50000000e-18]\n",
      " [3.30434283e-14 7.87816722e+01]]\n",
      "23 [[1.56246344e+02 1.50000000e-19]\n",
      " [5.94781709e-15 7.09035050e+01]]\n",
      "24 [[1.28122002e+02 1.50000000e-20]\n",
      " [1.07060708e-15 6.38131545e+01]]\n",
      "25 [[1.05060042e+02 1.50000000e-21]\n",
      " [1.92709274e-16 5.74318390e+01]]\n",
      "26 [[8.61492342e+01 1.50000000e-22]\n",
      " [3.46876693e-17 5.16886551e+01]]\n",
      "27 [[7.06423720e+01 1.50000000e-23]\n",
      " [6.24378047e-18 4.65197896e+01]]\n",
      "28 [[5.79267450e+01 1.50000000e-24]\n",
      " [1.12388048e-18 4.18678106e+01]]\n",
      "29 [[4.74999309e+01 1.50000000e-25]\n",
      " [2.02298487e-19 3.76810296e+01]]\n",
      "30 [[3.89499434e+01 1.50000000e-26]\n",
      " [3.64137277e-20 3.39129266e+01]]\n",
      "31 [[3.19389536e+01 1.50000000e-27]\n",
      " [6.55447098e-21 3.05216340e+01]]\n",
      "32 [[2.61899419e+01 1.50000000e-28]\n",
      " [1.17980478e-21 2.74694706e+01]]\n",
      "33 [[2.14757524e+01 1.50000000e-29]\n",
      " [2.12364860e-22 2.47225235e+01]]\n",
      "34 [[1.76101169e+01 1.50000000e-30]\n",
      " [3.82256748e-23 2.22502712e+01]]\n",
      "35 [[1.44402959e+01 1.50000000e-31]\n",
      " [6.88062146e-24 2.00252440e+01]]\n",
      "36 [[1.18410426e+01 1.50000000e-32]\n",
      " [1.23851186e-24 1.80227196e+01]]\n",
      "37 [[9.70965496e+00 1.50000000e-33]\n",
      " [2.22932135e-25 1.62204477e+01]]\n",
      "38 [[7.96191707e+00 1.50000000e-34]\n",
      " [4.01277844e-26 1.45984029e+01]]\n",
      "39 [[6.52877200e+00 1.50000000e-35]\n",
      " [7.22300118e-27 1.31385626e+01]]\n",
      "40 [[5.35359304e+00 1.50000000e-36]\n",
      " [1.30014021e-27 1.18247064e+01]]\n",
      "41 [[4.38994629e+00 1.50000000e-37]\n",
      " [2.34025238e-28 1.06422357e+01]]\n",
      "42 [[3.59975596e+00 1.50000000e-38]\n",
      " [4.21245429e-29 9.57801215e+00]]\n",
      "43 [[2.95179989e+00 1.50000000e-39]\n",
      " [7.58241772e-30 8.62021093e+00]]\n",
      "44 [[2.42047591e+00 1.50000000e-40]\n",
      " [1.36483519e-30 7.75818984e+00]]\n",
      "45 [[1.98479024e+00 1.50000000e-41]\n",
      " [2.45670334e-31 6.98237085e+00]]\n",
      "46 [[1.62752800e+00 1.50000000e-42]\n",
      " [4.42206602e-32 6.28413377e+00]]\n",
      "47 [[1.33457296e+00 1.50000000e-43]\n",
      " [7.95971883e-33 5.65572039e+00]]\n",
      "48 [[1.09434983e+00 1.50000000e-44]\n",
      " [1.43274939e-33 5.09014835e+00]]\n",
      "49 [[8.97366858e-01 1.50000000e-45]\n",
      " [2.57894890e-34 4.58113352e+00]]\n",
      "50 [[7.35840823e-01 1.50000000e-46]\n",
      " [4.64210802e-35 4.12302017e+00]]\n"
     ]
    }
   ],
   "source": [
    "# compute vectors\n",
    "for n in range(50):\n",
    "    temp = M**(n+1)*v0\n",
    "    print (n+1, temp)\n",
    "    "
   ]
  },
  {
   "cell_type": "markdown",
   "metadata": {},
   "source": [
    "What do you notice about the population of pro-JS and pro-DQ as time goes by? Make a guess: if we let the number of years $n\\to\\infty$, how many people do you expect to be pro-JS? How about pro-DQ?"
   ]
  },
  {
   "cell_type": "code",
   "execution_count": null,
   "metadata": {},
   "outputs": [],
   "source": []
  }
 ],
 "metadata": {
  "kernelspec": {
   "display_name": "Python 3",
   "language": "python",
   "name": "python3"
  },
  "language_info": {
   "codemirror_mode": {
    "name": "ipython",
    "version": 3
   },
   "file_extension": ".py",
   "mimetype": "text/x-python",
   "name": "python",
   "nbconvert_exporter": "python",
   "pygments_lexer": "ipython3",
   "version": "3.6.7"
  }
 },
 "nbformat": 4,
 "nbformat_minor": 2
}
