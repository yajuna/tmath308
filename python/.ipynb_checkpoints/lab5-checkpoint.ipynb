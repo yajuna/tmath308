{
 "cells": [
  {
   "cell_type": "markdown",
   "metadata": {},
   "source": [
    "# Lab5: Using eigen decomposition to learn Markov chain\n",
    "\n",
    "## This lab is knock off of Steve Klee's lab3 on the Game of Thrones. \n",
    "\n",
    "### Complete the lab, by runnig this notebook, or adding your own code\n"
   ]
  },
  {
   "cell_type": "markdown",
   "metadata": {},
   "source": [
    "The people of the north are divided between those who are pro-Jon Snow and those who are \n",
    "pro-Dragon Queen. As things change down in King's landing, their alliance may change over time. In a given fornight, \n",
    "\n",
    "there is a 90% chance that a pro-Jon Snow citizen will remain pro-Jon snow\n",
    "there is a 10% chance that a pro-Jon Snow citizen will become pro-Dragon Queen\n",
    "there is a 82% chance that a pro-Dragon Queen citizen will remain pro-Dragon Queen\n",
    "there is a 18% chance that a pro-Dragon Queen citizen will become pro-Jon Snow\n"
   ]
  },
  {
   "cell_type": "code",
   "execution_count": null,
   "metadata": {},
   "outputs": [],
   "source": []
  }
 ],
 "metadata": {
  "kernelspec": {
   "display_name": "Python 3",
   "language": "python",
   "name": "python3"
  },
  "language_info": {
   "codemirror_mode": {
    "name": "ipython",
    "version": 3
   },
   "file_extension": ".py",
   "mimetype": "text/x-python",
   "name": "python",
   "nbconvert_exporter": "python",
   "pygments_lexer": "ipython3",
   "version": "3.6.8"
  }
 },
 "nbformat": 4,
 "nbformat_minor": 2
}
