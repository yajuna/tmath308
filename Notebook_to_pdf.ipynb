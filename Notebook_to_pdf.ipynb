{
  "nbformat": 4,
  "nbformat_minor": 0,
  "metadata": {
    "colab": {
      "provenance": [],
      "authorship_tag": "ABX9TyM94fCmu1PqNbNSbJPMiF7A",
      "include_colab_link": true
    },
    "kernelspec": {
      "name": "python3",
      "display_name": "Python 3"
    },
    "language_info": {
      "name": "python"
    }
  },
  "cells": [
    {
      "cell_type": "markdown",
      "metadata": {
        "id": "view-in-github",
        "colab_type": "text"
      },
      "source": [
        "<a href=\"https://colab.research.google.com/github/yajuna/tmath308/blob/master/Notebook_to_pdf.ipynb\" target=\"_parent\"><img src=\"https://colab.research.google.com/assets/colab-badge.svg\" alt=\"Open In Colab\"/></a>"
      ]
    },
    {
      "cell_type": "markdown",
      "source": [
        "Please submit your labs by converting your .ipynb lab file into .pdf format first. You can also save our class notes in .pdf following the same steps."
      ],
      "metadata": {
        "id": "djBgJw16yL4T"
      }
    },
    {
      "cell_type": "markdown",
      "source": [
        "### Step 0: Make sure your notebook source file for printing is good to go:\n",
        "\n",
        "-   you ran the cells in the notebook (in order!) and their output is visible in the notebook\n",
        "-   it is saved in your Google Drive"
      ],
      "metadata": {
        "id": "Gf1ekEUoy2dT"
      }
    },
    {
      "cell_type": "markdown",
      "source": [
        "### Step 1: Install softwares and libraries.\n",
        "\n",
        "In _this_ notebook, run the cell below. This is a temp installation of $\\LaTeX$ environment to compile your notebook"
      ],
      "metadata": {
        "id": "HRIA-zbbzFPQ"
      }
    },
    {
      "cell_type": "code",
      "execution_count": null,
      "metadata": {
        "id": "tBlA84vFyIZj"
      },
      "outputs": [],
      "source": [
        "!apt-get update\n",
        "!apt-get install texlive texlive-xetex texlive-latex-extra pandoc\n",
        "!pip install pypandoc"
      ]
    },
    {
      "cell_type": "markdown",
      "source": [
        "### Step 2: Mount your Google Drive.\n",
        "Run the cell below in this notebook."
      ],
      "metadata": {
        "id": "Vzz5XMN6zeDQ"
      }
    },
    {
      "cell_type": "code",
      "source": [
        "from google.colab import drive\n",
        "drive.mount('/content/drive')"
      ],
      "metadata": {
        "colab": {
          "base_uri": "https://localhost:8080/"
        },
        "id": "C8p_cvhrzpcZ",
        "outputId": "b1106e81-2aaa-422f-f3c0-19d4327e91dd"
      },
      "execution_count": null,
      "outputs": [
        {
          "output_type": "stream",
          "name": "stdout",
          "text": [
            "Mounted at /content/drive\n"
          ]
        }
      ]
    },
    {
      "cell_type": "markdown",
      "source": [
        "## Step 3: Select notebook and convert to PDF\n",
        "\n",
        "In *both* of the following cells, change the name “Untitled1” to whatever your notebook is named. Then, run the cells.\n",
        "\n",
        "Note- by defeult, your converted notebook is saved in a temporary location called `content` (find from the left hand side folder icon), but you can change it to other location, for example, your own drive."
      ],
      "metadata": {
        "id": "47LGYE9ez2kH"
      }
    },
    {
      "cell_type": "code",
      "source": [
        "!jupyter nbconvert --output-dir='/content' --to pdf  '/content/drive/My Drive/Colab Notebooks/Untitled.ipynb'"
      ],
      "metadata": {
        "id": "Gec7NcWFz-l2"
      },
      "execution_count": null,
      "outputs": []
    },
    {
      "cell_type": "markdown",
      "source": [
        "### You can also convert the notebook to a $\\LaTeX$ file and compile it with the next two cells for more insight."
      ],
      "metadata": {
        "id": "BpSYCjRL08Z6"
      }
    },
    {
      "cell_type": "code",
      "execution_count": null,
      "metadata": {
        "id": "7a810845-9125-48d3-a819-b1cdb1e15399"
      },
      "outputs": [],
      "source": [
        "!jupyter nbconvert --output-dir='/content' --to latex  '/content/drive/My Drive/Colab Notebooks/Untitled.ipynb'"
      ]
    },
    {
      "cell_type": "code",
      "source": [
        "!buf_size=1000000 xelatex --interaction=nonstopmode 'copy_PINN_solver.tex'"
      ],
      "metadata": {
        "id": "Z23JjrQk1Fto"
      },
      "execution_count": null,
      "outputs": []
    }
  ]
}