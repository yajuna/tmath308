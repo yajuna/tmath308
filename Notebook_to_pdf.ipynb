{
  "nbformat": 4,
  "nbformat_minor": 0,
  "metadata": {
    "colab": {
      "provenance": [],
      "authorship_tag": "ABX9TyPCzH75gzPIQMkHykebijpX",
      "include_colab_link": true
    },
    "kernelspec": {
      "name": "python3",
      "display_name": "Python 3"
    },
    "language_info": {
      "name": "python"
    }
  },
  "cells": [
    {
      "cell_type": "markdown",
      "metadata": {
        "id": "view-in-github",
        "colab_type": "text"
      },
      "source": [
        "<a href=\"https://colab.research.google.com/github/yajuna/tmath308/blob/master/Notebook_to_pdf.ipynb\" target=\"_parent\"><img src=\"https://colab.research.google.com/assets/colab-badge.svg\" alt=\"Open In Colab\"/></a>"
      ]
    },
    {
      "cell_type": "markdown",
      "source": [
        "Please submit your labs by converting your .ipynb lab file into .pdf format first. You can also save our class notes in .pdf following the same steps."
      ],
      "metadata": {
        "id": "djBgJw16yL4T"
      }
    },
    {
      "cell_type": "markdown",
      "source": [
        "### Step 0: Make sure your notebook source file for printing is good to go:\n",
        "\n",
        "-   you ran the cells in the notebook (in order!) and their output is visible in the notebook\n",
        "-   it is saved in your Google Drive"
      ],
      "metadata": {
        "id": "Gf1ekEUoy2dT"
      }
    },
    {
      "cell_type": "markdown",
      "source": [
        "### Step 1: Install softwares and libraries.\n",
        "\n",
        "In _this_ notebook, run the cell below:"
      ],
      "metadata": {
        "id": "HRIA-zbbzFPQ"
      }
    },
    {
      "cell_type": "code",
      "execution_count": 7,
      "metadata": {
        "colab": {
          "base_uri": "https://localhost:8080/"
        },
        "id": "tBlA84vFyIZj",
        "outputId": "f1f6e410-7b0f-43b5-aad4-09b84fab9241"
      },
      "outputs": [
        {
          "output_type": "stream",
          "name": "stdout",
          "text": [
            "\r0% [Working]\r            \rHit:1 https://cloud.r-project.org/bin/linux/ubuntu jammy-cran40/ InRelease\n",
            "\r0% [Connecting to archive.ubuntu.com (91.189.91.81)] [Connecting to security.ub\r                                                                               \rHit:2 https://ppa.launchpadcontent.net/c2d4u.team/c2d4u4.0+/ubuntu jammy InRelease\n",
            "Hit:3 https://developer.download.nvidia.com/compute/cuda/repos/ubuntu2204/x86_64  InRelease\n",
            "Hit:4 https://ppa.launchpadcontent.net/deadsnakes/ppa/ubuntu jammy InRelease\n",
            "Get:5 http://security.ubuntu.com/ubuntu jammy-security InRelease [110 kB]\n",
            "Hit:6 http://archive.ubuntu.com/ubuntu jammy InRelease\n",
            "Hit:7 https://ppa.launchpadcontent.net/graphics-drivers/ppa/ubuntu jammy InRelease\n",
            "Get:8 http://archive.ubuntu.com/ubuntu jammy-updates InRelease [119 kB]\n",
            "Hit:9 https://ppa.launchpadcontent.net/ubuntugis/ppa/ubuntu jammy InRelease\n",
            "Get:10 http://archive.ubuntu.com/ubuntu jammy-backports InRelease [109 kB]\n",
            "Fetched 338 kB in 1s (296 kB/s)\n",
            "Reading package lists... Done\n",
            "Reading package lists... Done\n",
            "Building dependency tree... Done\n",
            "Reading state information... Done\n",
            "pandoc is already the newest version (2.9.2.1-3ubuntu2).\n",
            "texlive is already the newest version (2021.20220204-1).\n",
            "texlive-latex-extra is already the newest version (2021.20220204-1).\n",
            "texlive-xetex is already the newest version (2021.20220204-1).\n",
            "0 upgraded, 0 newly installed, 0 to remove and 19 not upgraded.\n",
            "Requirement already satisfied: pypandoc in /usr/local/lib/python3.10/dist-packages (1.11)\n"
          ]
        }
      ],
      "source": [
        "!apt-get update\n",
        "!apt-get install texlive texlive-xetex texlive-latex-extra pandoc\n",
        "!pip install pypandoc"
      ]
    },
    {
      "cell_type": "markdown",
      "source": [
        "### Step 2: Mount your Google Drive.\n",
        "Run the cell below in this notebook."
      ],
      "metadata": {
        "id": "Vzz5XMN6zeDQ"
      }
    },
    {
      "cell_type": "code",
      "source": [
        "from google.colab import drive\n",
        "drive.mount('/content/drive')"
      ],
      "metadata": {
        "colab": {
          "base_uri": "https://localhost:8080/"
        },
        "id": "C8p_cvhrzpcZ",
        "outputId": "d5cb00e3-c917-4021-c75e-6b5e0f8f2788"
      },
      "execution_count": 8,
      "outputs": [
        {
          "output_type": "stream",
          "name": "stdout",
          "text": [
            "Drive already mounted at /content/drive; to attempt to forcibly remount, call drive.mount(\"/content/drive\", force_remount=True).\n"
          ]
        }
      ]
    },
    {
      "cell_type": "markdown",
      "source": [
        "## Step 3: Select notebook and convert to PDF\n",
        "\n",
        "In *both* of the following cells, change the name “Untitled1” to whatever your notebook is named. Then, run the cells."
      ],
      "metadata": {
        "id": "47LGYE9ez2kH"
      }
    },
    {
      "cell_type": "code",
      "source": [
        "!jupyter nbconvert --output-dir='/content' --to pdf  '/content/drive/My Drive/Colab Notebooks/Untitled1.ipynb'"
      ],
      "metadata": {
        "colab": {
          "base_uri": "https://localhost:8080/"
        },
        "id": "Gec7NcWFz-l2",
        "outputId": "f488a607-b0a0-4c3e-c399-5cf6b38d908f"
      },
      "execution_count": 9,
      "outputs": [
        {
          "output_type": "stream",
          "name": "stdout",
          "text": [
            "[NbConvertApp] Converting notebook /content/drive/My Drive/Colab Notebooks/Untitled1.ipynb to pdf\n",
            "[NbConvertApp] Writing 19817 bytes to notebook.tex\n",
            "[NbConvertApp] Building PDF\n",
            "[NbConvertApp] Running xelatex 3 times: ['xelatex', 'notebook.tex', '-quiet']\n",
            "[NbConvertApp] Running bibtex 1 time: ['bibtex', 'notebook']\n",
            "[NbConvertApp] WARNING | bibtex had problems, most likely because there were no citations\n",
            "[NbConvertApp] PDF successfully created\n",
            "[NbConvertApp] Writing 13202 bytes to /content/Untitled1.pdf\n"
          ]
        }
      ]
    },
    {
      "cell_type": "markdown",
      "source": [
        "### You can also conver the notebook to a $\\LaTeX$ file and compile it with the next two cells for more insight."
      ],
      "metadata": {
        "id": "BpSYCjRL08Z6"
      }
    },
    {
      "cell_type": "code",
      "execution_count": 10,
      "metadata": {
        "id": "7a810845-9125-48d3-a819-b1cdb1e15399",
        "colab": {
          "base_uri": "https://localhost:8080/"
        },
        "outputId": "81aa7e68-2f57-4f96-930a-c2d9357b101b"
      },
      "outputs": [
        {
          "output_type": "stream",
          "name": "stdout",
          "text": [
            "[NbConvertApp] Converting notebook /content/drive/My Drive/Colab Notebooks/Untitled1.ipynb to latex\n",
            "[NbConvertApp] Writing 19817 bytes to /content/Untitled1.tex\n"
          ]
        }
      ],
      "source": [
        "!jupyter nbconvert --output-dir='/content' --to latex  '/content/drive/My Drive/Colab Notebooks/Untitled1.ipynb'"
      ]
    },
    {
      "cell_type": "code",
      "source": [
        "!buf_size=1000000 xelatex --interaction=nonstopmode 'Untitled1.tex'"
      ],
      "metadata": {
        "colab": {
          "base_uri": "https://localhost:8080/"
        },
        "id": "Z23JjrQk1Fto",
        "outputId": "5d2264e4-9560-4750-f86f-a4c10a0c06aa"
      },
      "execution_count": 11,
      "outputs": [
        {
          "output_type": "stream",
          "name": "stdout",
          "text": [
            "This is XeTeX, Version 3.141592653-2.6-0.999993 (TeX Live 2022/dev/Debian) (preloaded format=xelatex)\n",
            " restricted \\write18 enabled.\n",
            "entering extended mode\n",
            "(./Untitled1.tex\n",
            "LaTeX2e <2021-11-15> patch level 1\n",
            "L3 programming layer <2022-01-21>\n",
            "(/usr/share/texlive/texmf-dist/tex/latex/base/article.cls\n",
            "Document Class: article 2021/10/04 v1.4n Standard LaTeX document class\n",
            "(/usr/share/texlive/texmf-dist/tex/latex/base/size11.clo))\n",
            "(/usr/share/texlive/texmf-dist/tex/latex/tcolorbox/tcolorbox.sty\n",
            "(/usr/share/texlive/texmf-dist/tex/latex/pgf/basiclayer/pgf.sty\n",
            "(/usr/share/texlive/texmf-dist/tex/latex/pgf/utilities/pgfrcs.sty\n",
            "(/usr/share/texlive/texmf-dist/tex/generic/pgf/utilities/pgfutil-common.tex\n",
            "(/usr/share/texlive/texmf-dist/tex/generic/pgf/utilities/pgfutil-common-lists.t\n",
            "ex)) (/usr/share/texlive/texmf-dist/tex/generic/pgf/utilities/pgfutil-latex.def\n",
            ") (/usr/share/texlive/texmf-dist/tex/generic/pgf/utilities/pgfrcs.code.tex\n",
            "(/usr/share/texlive/texmf-dist/tex/generic/pgf/pgf.revision.tex)))\n",
            "(/usr/share/texlive/texmf-dist/tex/latex/pgf/basiclayer/pgfcore.sty\n",
            "(/usr/share/texlive/texmf-dist/tex/latex/graphics/graphicx.sty\n",
            "(/usr/share/texlive/texmf-dist/tex/latex/graphics/keyval.sty)\n",
            "(/usr/share/texlive/texmf-dist/tex/latex/graphics/graphics.sty\n",
            "(/usr/share/texlive/texmf-dist/tex/latex/graphics/trig.sty)\n",
            "(/usr/share/texlive/texmf-dist/tex/latex/graphics-cfg/graphics.cfg)\n",
            "(/usr/share/texlive/texmf-dist/tex/latex/graphics-def/xetex.def)))\n",
            "(/usr/share/texlive/texmf-dist/tex/latex/pgf/systemlayer/pgfsys.sty\n",
            "(/usr/share/texlive/texmf-dist/tex/generic/pgf/systemlayer/pgfsys.code.tex\n",
            "(/usr/share/texlive/texmf-dist/tex/generic/pgf/utilities/pgfkeys.code.tex\n",
            "(/usr/share/texlive/texmf-dist/tex/generic/pgf/utilities/pgfkeysfiltered.code.t\n",
            "ex)) (/usr/share/texlive/texmf-dist/tex/generic/pgf/systemlayer/pgf.cfg)\n",
            "(/usr/share/texlive/texmf-dist/tex/generic/pgf/systemlayer/pgfsys-xetex.def\n",
            "(/usr/share/texlive/texmf-dist/tex/generic/pgf/systemlayer/pgfsys-dvipdfmx.def\n",
            "(/usr/share/texlive/texmf-dist/tex/generic/pgf/systemlayer/pgfsys-common-pdf.de\n",
            "f))))\n",
            "(/usr/share/texlive/texmf-dist/tex/generic/pgf/systemlayer/pgfsyssoftpath.code.\n",
            "tex)\n",
            "(/usr/share/texlive/texmf-dist/tex/generic/pgf/systemlayer/pgfsysprotocol.code.\n",
            "tex)) (/usr/share/texlive/texmf-dist/tex/latex/xcolor/xcolor.sty\n",
            "(/usr/share/texlive/texmf-dist/tex/latex/graphics-cfg/color.cfg))\n",
            "(/usr/share/texlive/texmf-dist/tex/generic/pgf/basiclayer/pgfcore.code.tex\n",
            "(/usr/share/texlive/texmf-dist/tex/generic/pgf/math/pgfmath.code.tex\n",
            "(/usr/share/texlive/texmf-dist/tex/generic/pgf/math/pgfmathcalc.code.tex\n",
            "(/usr/share/texlive/texmf-dist/tex/generic/pgf/math/pgfmathutil.code.tex)\n",
            "(/usr/share/texlive/texmf-dist/tex/generic/pgf/math/pgfmathparser.code.tex)\n",
            "(/usr/share/texlive/texmf-dist/tex/generic/pgf/math/pgfmathfunctions.code.tex\n",
            "(/usr/share/texlive/texmf-dist/tex/generic/pgf/math/pgfmathfunctions.basic.code\n",
            ".tex)\n",
            "(/usr/share/texlive/texmf-dist/tex/generic/pgf/math/pgfmathfunctions.trigonomet\n",
            "ric.code.tex)\n",
            "(/usr/share/texlive/texmf-dist/tex/generic/pgf/math/pgfmathfunctions.random.cod\n",
            "e.tex)\n",
            "(/usr/share/texlive/texmf-dist/tex/generic/pgf/math/pgfmathfunctions.comparison\n",
            ".code.tex)\n",
            "(/usr/share/texlive/texmf-dist/tex/generic/pgf/math/pgfmathfunctions.base.code.\n",
            "tex)\n",
            "(/usr/share/texlive/texmf-dist/tex/generic/pgf/math/pgfmathfunctions.round.code\n",
            ".tex)\n",
            "(/usr/share/texlive/texmf-dist/tex/generic/pgf/math/pgfmathfunctions.misc.code.\n",
            "tex)\n",
            "(/usr/share/texlive/texmf-dist/tex/generic/pgf/math/pgfmathfunctions.integerari\n",
            "thmetics.code.tex)))\n",
            "(/usr/share/texlive/texmf-dist/tex/generic/pgf/math/pgfmathfloat.code.tex))\n",
            "(/usr/share/texlive/texmf-dist/tex/generic/pgf/math/pgfint.code.tex)\n",
            "(/usr/share/texlive/texmf-dist/tex/generic/pgf/basiclayer/pgfcorepoints.code.te\n",
            "x)\n",
            "(/usr/share/texlive/texmf-dist/tex/generic/pgf/basiclayer/pgfcorepathconstruct.\n",
            "code.tex)\n",
            "(/usr/share/texlive/texmf-dist/tex/generic/pgf/basiclayer/pgfcorepathusage.code\n",
            ".tex)\n",
            "(/usr/share/texlive/texmf-dist/tex/generic/pgf/basiclayer/pgfcorescopes.code.te\n",
            "x)\n",
            "(/usr/share/texlive/texmf-dist/tex/generic/pgf/basiclayer/pgfcoregraphicstate.c\n",
            "ode.tex)\n",
            "(/usr/share/texlive/texmf-dist/tex/generic/pgf/basiclayer/pgfcoretransformation\n",
            "s.code.tex)\n",
            "(/usr/share/texlive/texmf-dist/tex/generic/pgf/basiclayer/pgfcorequick.code.tex\n",
            ")\n",
            "(/usr/share/texlive/texmf-dist/tex/generic/pgf/basiclayer/pgfcoreobjects.code.t\n",
            "ex)\n",
            "(/usr/share/texlive/texmf-dist/tex/generic/pgf/basiclayer/pgfcorepathprocessing\n",
            ".code.tex)\n",
            "(/usr/share/texlive/texmf-dist/tex/generic/pgf/basiclayer/pgfcorearrows.code.te\n",
            "x)\n",
            "(/usr/share/texlive/texmf-dist/tex/generic/pgf/basiclayer/pgfcoreshade.code.tex\n",
            ")\n",
            "(/usr/share/texlive/texmf-dist/tex/generic/pgf/basiclayer/pgfcoreimage.code.tex\n",
            "\n",
            "(/usr/share/texlive/texmf-dist/tex/generic/pgf/basiclayer/pgfcoreexternal.code.\n",
            "tex))\n",
            "(/usr/share/texlive/texmf-dist/tex/generic/pgf/basiclayer/pgfcorelayers.code.te\n",
            "x)\n",
            "(/usr/share/texlive/texmf-dist/tex/generic/pgf/basiclayer/pgfcoretransparency.c\n",
            "ode.tex)\n",
            "(/usr/share/texlive/texmf-dist/tex/generic/pgf/basiclayer/pgfcorepatterns.code.\n",
            "tex)\n",
            "(/usr/share/texlive/texmf-dist/tex/generic/pgf/basiclayer/pgfcorerdf.code.tex))\n",
            ")\n",
            "(/usr/share/texlive/texmf-dist/tex/generic/pgf/modules/pgfmoduleshapes.code.tex\n",
            ") (/usr/share/texlive/texmf-dist/tex/generic/pgf/modules/pgfmoduleplot.code.tex\n",
            ")\n",
            "(/usr/share/texlive/texmf-dist/tex/latex/pgf/compatibility/pgfcomp-version-0-65\n",
            ".sty)\n",
            "(/usr/share/texlive/texmf-dist/tex/latex/pgf/compatibility/pgfcomp-version-1-18\n",
            ".sty)) (/usr/share/texlive/texmf-dist/tex/latex/tools/verbatim.sty)\n",
            "(/usr/share/texlive/texmf-dist/tex/latex/environ/environ.sty\n",
            "(/usr/share/texlive/texmf-dist/tex/latex/trimspaces/trimspaces.sty))\n",
            "(/usr/share/texlive/texmf-dist/tex/latex/etoolbox/etoolbox.sty)\n",
            "(/usr/share/texlive/texmf-dist/tex/latex/tcolorbox/tcbbreakable.code.tex\n",
            "Library (tcolorbox): 'tcbbreakable.code.tex' version '5.0.2'\n",
            "(/usr/share/texlive/texmf-dist/tex/generic/oberdiek/pdfcol.sty\n",
            "(/usr/share/texlive/texmf-dist/tex/generic/ltxcmds/ltxcmds.sty)\n",
            "(/usr/share/texlive/texmf-dist/tex/generic/infwarerr/infwarerr.sty)\n",
            "(/usr/share/texlive/texmf-dist/tex/generic/iftex/iftex.sty))))\n",
            "(/usr/share/texlive/texmf-dist/tex/latex/parskip/parskip.sty\n",
            "(/usr/share/texlive/texmf-dist/tex/latex/kvoptions/kvoptions.sty\n",
            "(/usr/share/texlive/texmf-dist/tex/generic/kvsetkeys/kvsetkeys.sty)))\n",
            "(/usr/share/texlive/texmf-dist/tex/latex/caption/caption.sty\n",
            "(/usr/share/texlive/texmf-dist/tex/latex/caption/caption3.sty))\n",
            "(/usr/share/texlive/texmf-dist/tex/latex/float/float.sty)\n",
            "(/usr/share/texlive/texmf-dist/tex/latex/tools/enumerate.sty)\n",
            "(/usr/share/texlive/texmf-dist/tex/latex/geometry/geometry.sty\n",
            "(/usr/share/texlive/texmf-dist/tex/generic/iftex/ifvtex.sty))\n",
            "(/usr/share/texlive/texmf-dist/tex/latex/amsmath/amsmath.sty\n",
            "For additional information on amsmath, use the `?' option.\n",
            "(/usr/share/texlive/texmf-dist/tex/latex/amsmath/amstext.sty\n",
            "(/usr/share/texlive/texmf-dist/tex/latex/amsmath/amsgen.sty))\n",
            "(/usr/share/texlive/texmf-dist/tex/latex/amsmath/amsbsy.sty)\n",
            "(/usr/share/texlive/texmf-dist/tex/latex/amsmath/amsopn.sty))\n",
            "(/usr/share/texlive/texmf-dist/tex/latex/amsfonts/amssymb.sty\n",
            "(/usr/share/texlive/texmf-dist/tex/latex/amsfonts/amsfonts.sty))\n",
            "(/usr/share/texlive/texmf-dist/tex/latex/base/textcomp.sty)\n",
            "(/usr/share/texlive/texmf-dist/tex/latex/upquote/upquote.sty)\n",
            "(/usr/share/texlive/texmf-dist/tex/latex/eurosym/eurosym.sty)\n",
            "(/usr/share/texlive/texmf-dist/tex/latex/fontspec/fontspec.sty\n",
            "(/usr/share/texlive/texmf-dist/tex/latex/l3packages/xparse/xparse.sty\n",
            "(/usr/share/texlive/texmf-dist/tex/latex/l3kernel/expl3.sty\n",
            "(/usr/share/texlive/texmf-dist/tex/latex/l3backend/l3backend-xetex.def\n",
            "(|extractbb --version))))\n",
            "(/usr/share/texlive/texmf-dist/tex/latex/fontspec/fontspec-xetex.sty\n",
            "(/usr/share/texlive/texmf-dist/tex/latex/base/fontenc.sty)\n",
            "(/usr/share/texlive/texmf-dist/tex/latex/fontspec/fontspec.cfg)))\n",
            "(/usr/share/texlive/texmf-dist/tex/latex/unicode-math/unicode-math.sty\n",
            "(/usr/share/texlive/texmf-dist/tex/latex/unicode-math/unicode-math-xetex.sty\n",
            "(/usr/share/texlive/texmf-dist/tex/latex/l3packages/l3keys2e/l3keys2e.sty)\n",
            "(/usr/share/texlive/texmf-dist/tex/latex/base/fix-cm.sty\n",
            "(/usr/share/texlive/texmf-dist/tex/latex/base/ts1enc.def))\n",
            "(/usr/share/texlive/texmf-dist/tex/latex/unicode-math/unicode-math-table.tex)))\n",
            "(/usr/share/texlive/texmf-dist/tex/latex/fancyvrb/fancyvrb.sty)\n",
            "(/usr/share/texlive/texmf-dist/tex/latex/grffile/grffile.sty)\n",
            "(/usr/share/texlive/texmf-dist/tex/latex/adjustbox/adjustbox.sty\n",
            "(/usr/share/texlive/texmf-dist/tex/latex/xkeyval/xkeyval.sty\n",
            "(/usr/share/texlive/texmf-dist/tex/generic/xkeyval/xkeyval.tex\n",
            "(/usr/share/texlive/texmf-dist/tex/generic/xkeyval/xkvutils.tex)))\n",
            "(/usr/share/texlive/texmf-dist/tex/latex/adjustbox/adjcalc.sty)\n",
            "(/usr/share/texlive/texmf-dist/tex/latex/adjustbox/trimclip.sty\n",
            "(/usr/share/texlive/texmf-dist/tex/latex/collectbox/collectbox.sty)\n",
            "(/usr/share/texlive/texmf-dist/tex/latex/adjustbox/tc-xetex.def))\n",
            "(/usr/share/texlive/texmf-dist/tex/latex/ifoddpage/ifoddpage.sty)\n",
            "(/usr/share/texlive/texmf-dist/tex/latex/varwidth/varwidth.sty))\n",
            "(/usr/share/texlive/texmf-dist/tex/latex/hyperref/hyperref.sty\n",
            "(/usr/share/texlive/texmf-dist/tex/generic/pdftexcmds/pdftexcmds.sty)\n",
            "(/usr/share/texlive/texmf-dist/tex/generic/kvdefinekeys/kvdefinekeys.sty)\n",
            "(/usr/share/texlive/texmf-dist/tex/generic/pdfescape/pdfescape.sty)\n",
            "(/usr/share/texlive/texmf-dist/tex/latex/hycolor/hycolor.sty)\n",
            "(/usr/share/texlive/texmf-dist/tex/latex/letltxmacro/letltxmacro.sty)\n",
            "(/usr/share/texlive/texmf-dist/tex/latex/auxhook/auxhook.sty)\n",
            "(/usr/share/texlive/texmf-dist/tex/latex/hyperref/pd1enc.def)\n",
            "(/usr/share/texlive/texmf-dist/tex/latex/hyperref/hyperref-langpatches.def)\n",
            "(/usr/share/texlive/texmf-dist/tex/generic/intcalc/intcalc.sty)\n",
            "(/usr/share/texlive/texmf-dist/tex/generic/etexcmds/etexcmds.sty)\n",
            "(/usr/share/texlive/texmf-dist/tex/latex/hyperref/puenc.def)\n",
            "(/usr/share/texlive/texmf-dist/tex/latex/url/url.sty)\n",
            "(/usr/share/texlive/texmf-dist/tex/generic/bitset/bitset.sty\n",
            "(/usr/share/texlive/texmf-dist/tex/generic/bigintcalc/bigintcalc.sty))\n",
            "(/usr/share/texlive/texmf-dist/tex/latex/base/atbegshi-ltx.sty))\n",
            "(/usr/share/texlive/texmf-dist/tex/latex/hyperref/hxetex.def\n",
            "(/usr/share/texlive/texmf-dist/tex/generic/stringenc/stringenc.sty)\n",
            "(/usr/share/texlive/texmf-dist/tex/latex/rerunfilecheck/rerunfilecheck.sty\n",
            "(/usr/share/texlive/texmf-dist/tex/latex/base/atveryend-ltx.sty)\n",
            "(/usr/share/texlive/texmf-dist/tex/generic/uniquecounter/uniquecounter.sty)))\n",
            "(/usr/share/texlive/texmf-dist/tex/latex/titling/titling.sty)\n",
            "(/usr/share/texlive/texmf-dist/tex/latex/tools/longtable.sty)\n",
            "(/usr/share/texlive/texmf-dist/tex/latex/booktabs/booktabs.sty)\n",
            "(/usr/share/texlive/texmf-dist/tex/latex/tools/array.sty)\n",
            "(/usr/share/texlive/texmf-dist/tex/latex/tools/calc.sty)\n",
            "(/usr/share/texlive/texmf-dist/tex/latex/enumitem/enumitem.sty)\n",
            "(/usr/share/texlive/texmf-dist/tex/generic/ulem/ulem.sty)\n",
            "(/usr/share/texlive/texmf-dist/tex/latex/jknapltx/mathrsfs.sty)\n",
            "No file Untitled1.aux.\n",
            "(/usr/share/texlive/texmf-dist/tex/latex/caption/ltcaption.sty)\n",
            "*geometry* driver: auto-detecting\n",
            "*geometry* detected driver: xetex\n",
            "*geometry* verbose mode - [ preamble ] result:\n",
            "* driver: xetex\n",
            "* paper: <default>\n",
            "* layout: <same size as paper>\n",
            "* layoutoffset:(h,v)=(0.0pt,0.0pt)\n",
            "* modes: \n",
            "* h-part:(L,W,R)=(72.26999pt, 469.75502pt, 72.26999pt)\n",
            "* v-part:(T,H,B)=(72.26999pt, 650.43001pt, 72.26999pt)\n",
            "* \\paperwidth=614.295pt\n",
            "* \\paperheight=794.96999pt\n",
            "* \\textwidth=469.75502pt\n",
            "* \\textheight=650.43001pt\n",
            "* \\oddsidemargin=0.0pt\n",
            "* \\evensidemargin=0.0pt\n",
            "* \\topmargin=-37.0pt\n",
            "* \\headheight=12.0pt\n",
            "* \\headsep=25.0pt\n",
            "* \\topskip=11.0pt\n",
            "* \\footskip=30.0pt\n",
            "* \\marginparwidth=59.0pt\n",
            "* \\marginparsep=10.0pt\n",
            "* \\columnsep=10.0pt\n",
            "* \\skip\\footins=10.0pt plus 4.0pt minus 2.0pt\n",
            "* \\hoffset=0.0pt\n",
            "* \\voffset=0.0pt\n",
            "* \\mag=1000\n",
            "* \\@twocolumnfalse\n",
            "* \\@twosidefalse\n",
            "* \\@mparswitchfalse\n",
            "* \\@reversemarginfalse\n",
            "* (1in=72.27pt=25.4mm, 1cm=28.453pt)\n",
            "\n",
            "(/usr/share/texlive/texmf-dist/tex/latex/hyperref/nameref.sty\n",
            "(/usr/share/texlive/texmf-dist/tex/latex/refcount/refcount.sty)\n",
            "(/usr/share/texlive/texmf-dist/tex/generic/gettitlestring/gettitlestring.sty))\n",
            "\n",
            "Package hyperref Warning: Rerun to get /PageLabels entry.\n",
            "\n",
            "(/usr/share/texlive/texmf-dist/tex/latex/amsfonts/umsa.fd)\n",
            "(/usr/share/texlive/texmf-dist/tex/latex/amsfonts/umsb.fd)\n",
            "(/usr/share/texlive/texmf-dist/tex/latex/jknapltx/ursfs.fd)\n",
            "\n",
            "LaTeX Warning: No \\author given.\n",
            "\n",
            "[1] (./Untitled1.aux)\n",
            "\n",
            "Package rerunfilecheck Warning: File `Untitled1.out' has changed.\n",
            "(rerunfilecheck)                Rerun to get outlines right\n",
            "(rerunfilecheck)                or use package `bookmark'.\n",
            "\n",
            " )\n",
            "Output written on Untitled1.pdf (1 page).\n",
            "Transcript written on Untitled1.log.\n"
          ]
        }
      ]
    }
  ]
}