{
  "cells": [
    {
      "cell_type": "markdown",
      "metadata": {
        "id": "view-in-github",
        "colab_type": "text"
      },
      "source": [
        "<a href=\"https://colab.research.google.com/github/yajuna/tmath308/blob/master/lab3.ipynb\" target=\"_parent\"><img src=\"https://colab.research.google.com/assets/colab-badge.svg\" alt=\"Open In Colab\"/></a>"
      ]
    },
    {
      "cell_type": "markdown",
      "metadata": {
        "id": "0xdTgbxuz4dF"
      },
      "source": [
        "# This lab plays with linear transformation. We will deal with transition matrix, and manipulating images with matrices."
      ]
    },
    {
      "cell_type": "markdown",
      "metadata": {
        "id": "Q8ymXOmez4dL"
      },
      "source": [
        "Here we try tiling the plane with a bird image(From _When life is linear_ by Tim Chartier)"
      ]
    },
    {
      "cell_type": "code",
      "execution_count": null,
      "metadata": {
        "id": "kqhiSGgAz4dM"
      },
      "outputs": [],
      "source": [
        "# import packages\n",
        "import numpy as np\n",
        "from scipy.sparse import diags\n",
        "import matplotlib.pyplot as plt\n",
        "import matplotlib.patches\n",
        "from PIL import Image\n"
      ]
    },
    {
      "cell_type": "code",
      "execution_count": null,
      "metadata": {
        "id": "h1UDDuKWz4dO"
      },
      "outputs": [],
      "source": [
        "# make a basic bird polygon. Run the code to plot the bird\n",
        "\n",
        "fig = plt.figure()\n",
        "points = [[0.3036, 0.1960], [0.6168, 0.2977], [0.7128, 0.4169], [0.7120, 0.1960],[0.9377,0.2620],\\\n",
        "          [0.7120,0.5680],[0.3989,0.6697],[0.3028,0.7889],[0.3036,0.5680],[0.5293,0.5020]]\n",
        "\n",
        "bird = matplotlib.patches.Polygon(points, facecolor='blue')\n",
        "\n",
        "fig, ax = plt.subplots()\n",
        "ax.set_aspect(\"equal\")\n",
        "ax.add_patch(bird)\n",
        "\n",
        "ax.set_xlim(0.2,1)\n",
        "ax.set_ylim(0.1,0.8)\n",
        "plt.show()"
      ]
    },
    {
      "cell_type": "markdown",
      "metadata": {
        "id": "NX2hNfe_z4dP"
      },
      "source": [
        "## Manipulating the figure (reflection, translation,and rotation) is done thru matrix multiplication.\n",
        "\n",
        "Multiplying a vectot with $M = \\begin{pmatrix}\\cos\\theta& -\\sin\\theta\\\\ \\sin\\theta& \\cos\\theta\\end{pmatrix}$ gives rotation by angle $\\theta$"
      ]
    },
    {
      "cell_type": "code",
      "execution_count": null,
      "metadata": {
        "id": "S7Z6tMrhz4dQ"
      },
      "outputs": [],
      "source": [
        "# rotate bird 180 degrees about the origin, first define rotation matrix\n",
        "\n",
        "rotationMatrix = lambda theta: np.array([[np.cos(theta),-np.sin(theta)],[np.sin(theta),np.cos(theta)]])\n",
        "\n",
        "rotationMatrix"
      ]
    },
    {
      "cell_type": "markdown",
      "metadata": {
        "id": "YXKc2EA_z4dR"
      },
      "source": [
        "Consider a vector $\\mathbf{v}\\in\\mathbb{R}^2$, then $M\\mathbf{v}$ is the vector $\\mathbf{v}$ rotated by $\\theta$. As previously defined, we take $\\theta=\\pi$"
      ]
    },
    {
      "cell_type": "code",
      "execution_count": null,
      "metadata": {
        "id": "t9bm35efz4dS"
      },
      "outputs": [],
      "source": [
        "# rotate all points in original bird about the origin\n",
        "rotatepoints_pi = []\n",
        "for x in points:\n",
        "    rotatepoints_pi.append(np.dot(rotationMatrix(np.pi),x))"
      ]
    },
    {
      "cell_type": "code",
      "execution_count": null,
      "metadata": {
        "id": "smOcgURHz4dT"
      },
      "outputs": [],
      "source": [
        "# Plot rotated bird. Run the code to plot the bird\n",
        "\n",
        "fig = plt.figure()\n",
        "\n",
        "rotatebird_pi = matplotlib.patches.Polygon(rotatepoints_pi, facecolor='yellow')\n",
        "\n",
        "fig, ax = plt.subplots()\n",
        "ax.set_aspect(\"equal\")\n",
        "ax.add_patch(rotatebird_pi)\n",
        "\n",
        "ax.set_xlim(-1,-0.2)\n",
        "ax.set_ylim(-0.8,-0.1)\n",
        "plt.show()"
      ]
    },
    {
      "cell_type": "code",
      "execution_count": null,
      "metadata": {
        "id": "ZsB1KgCkz4dT"
      },
      "outputs": [],
      "source": [
        "# Modify your code from above cells, rotate the bird some degrees, then plot it.\n",
        "# You might need to move the axis when plotting.\n",
        "\n",
        "# If you are having trouble, start from the code below and modify to rotate the bird\n",
        "# fig = plt.figure()\n",
        "\n",
        "# rotatebird_theta = matplotlib.patches.Polygon(rotatepoints_theta, facecolor='yellow')\n",
        "\n",
        "# fig, ax = plt.subplots()\n",
        "# ax.set_aspect(\"equal\")\n",
        "# ax.add_patch(rotatebird_theta)\n",
        "\n",
        "# ax.set_xlim(-1,-0.2)\n",
        "# ax.set_ylim(-0.8,-0.1)\n",
        "# plt.show()"
      ]
    },
    {
      "cell_type": "markdown",
      "metadata": {
        "id": "_Ykh-Mduz4dU"
      },
      "source": [
        "Given a vector $\\mathbf{v}$, if we add the vector by $\\mathbf{ u}$, then the result vector $\\mathbf{u+v}$ is moved up by $u_1$, and to the right by $u_2$."
      ]
    },
    {
      "cell_type": "code",
      "execution_count": null,
      "metadata": {
        "id": "0zAHT-a9z4dU"
      },
      "outputs": [],
      "source": [
        "# define shift vector\n",
        "\n",
        "shift = (2*0.7120, 2*0.4320)\n"
      ]
    },
    {
      "cell_type": "code",
      "execution_count": null,
      "metadata": {
        "id": "Vmwk-anxz4dU"
      },
      "outputs": [],
      "source": [
        "# shift rotated bird up via matrix addition. Uncomment to show shifted points by addition\n",
        "shiftpoints = []\n",
        "for x in rotatepoints_pi:\n",
        "    shiftpoints.append(x + shift)\n",
        "shiftpoints"
      ]
    },
    {
      "cell_type": "code",
      "execution_count": null,
      "metadata": {
        "id": "DZrQsx7nz4dU"
      },
      "outputs": [],
      "source": [
        "# Plot shifted bird. Run the code to plot the bird\n",
        "\n",
        "fig = plt.figure()\n",
        "\n",
        "shiftbird = matplotlib.patches.Polygon(shiftpoints, facecolor='pink')\n",
        "\n",
        "\n",
        "fig, ax = plt.subplots()\n",
        "ax.set_aspect(\"equal\")\n",
        "ax.add_patch(shiftbird)\n",
        "\n",
        "ax.set_xlim(0.4,1.2)\n",
        "ax.set_ylim(0.0,0.7)\n",
        "plt.show()"
      ]
    },
    {
      "cell_type": "code",
      "execution_count": null,
      "metadata": {
        "id": "VDkkCo1Wz4dV"
      },
      "outputs": [],
      "source": [
        "# Shift the bird by a quantity you choose. You might need to adjust the axes to\n",
        "# make sure the bird is within range.\n",
        "\n",
        "# If you are having trouble, modify the code below\n",
        "# fig = plt.figure()\n",
        "\n",
        "# shiftbird1 = matplotlib.patches.Polygon(shiftpoints1, facecolor='pink')\n",
        "\n",
        "\n",
        "# fig, ax = plt.subplots()\n",
        "# ax.set_aspect(\"equal\")\n",
        "# ax.add_patch(shiftbird1)\n",
        "\n",
        "# ax.set_xlim(-0.4,-1.2)\n",
        "# ax.set_ylim(0.0,-0.7)\n",
        "# plt.show()"
      ]
    },
    {
      "cell_type": "markdown",
      "metadata": {
        "id": "L_Hkb_pez4dV"
      },
      "source": [
        "\n",
        "## Now we will achieve the effect of rotating the bird 180 degrees about the point (0.7120, 0.4320)\n",
        "\n",
        "In general, you can think about the process as translating the point (a,b) to the origin, rotating by $\\theta$, then translating from the origin back to (a,b).\n",
        "\n",
        "This is done via the following matrix multiplication:\n",
        "$\\begin{pmatrix}1&0&a\\\\0&1&b\\\\0&0&1\\end{pmatrix}\\begin{pmatrix}\\cos\\theta&-sin\\theta&0\\\\ \\sin\\theta&\\cos\\theta&0\\\\0&0&1\\end{pmatrix}\\begin{pmatrix}1&0&-a\\\\0&1&-b\\\\0&0&1\\end{pmatrix}$\n",
        "\n",
        "Notice, the order of operation is matrix multiplied on the right is the first operation that applies to your vector. Matrix multiplication gives the following product:\n",
        "\n",
        "$\\begin{pmatrix}\\cos\\theta&-sin\\theta&-a\\cos\\theta+b\\sin\\theta+a\\\\ \\sin\\theta&\\cos\\theta&-a\\sin\\theta-b\\cos\\theta+b\\\\0&0&1\\end{pmatrix}$\n",
        "\n",
        "We will then define the array in Numpy and give the point (a,b) and the rotation angle.\n",
        "\n",
        "Note: here we artificially make the vector three dimensional to pack both rotation and shift in matrix multiplication. After we are done, we throw away the added third component."
      ]
    },
    {
      "cell_type": "code",
      "execution_count": null,
      "metadata": {
        "id": "XrNa9oBXz4dV"
      },
      "outputs": [],
      "source": [
        "# Define above array. Uncomment to show matrix\n",
        "\n",
        "theta = np.pi\n",
        "a = 0.7120\n",
        "b = 0.4320\n",
        "shiftrotateMatrix = lambda theta, a, b: np.array([[np.cos(theta),-np.sin(theta),-a*np.cos(theta)+b*np.sin(theta)+a],\\\n",
        "                              [np.sin(theta),np.cos(theta),-a*np.sin(theta)-b*np.cos(theta)+b],\\\n",
        "                              [0,0,1]])\n",
        "print(shiftrotateMatrix(np.pi, 0.7120, 0.4310))"
      ]
    },
    {
      "cell_type": "code",
      "execution_count": null,
      "metadata": {
        "id": "hTml1ztDz4dW"
      },
      "outputs": [],
      "source": [
        "# notice the array is 3 by 3, so we will extend the points (x,y) to (x,y,1).\n",
        "# Uncomment to see the new list of points3d\n",
        "points3d = points\n",
        "for x in points3d:\n",
        "    x.append(1)\n",
        "\n",
        "print(points3d)"
      ]
    },
    {
      "cell_type": "code",
      "execution_count": null,
      "metadata": {
        "id": "nfopylvKz4dW"
      },
      "outputs": [],
      "source": [
        "# rotate bird about the point (0.7120,0.4320)\n",
        "pointsab = []\n",
        "for x in points3d:\n",
        "    pointsab.append(np.dot(shiftrotateMatrix(np.pi, 0.7120, 0.4310),x))\n",
        "\n",
        "pointsab"
      ]
    },
    {
      "cell_type": "code",
      "execution_count": null,
      "metadata": {
        "id": "kqt7Lqtrz4dW"
      },
      "outputs": [],
      "source": [
        "# convert the list to 2D array. Uncomment to show finalpoints\n",
        "\n",
        "finalpoints = [np.array([x[0],x[1]]) for x in pointsab]\n",
        "\n",
        "# print(finalpoints)"
      ]
    },
    {
      "cell_type": "code",
      "execution_count": null,
      "metadata": {
        "id": "V2NOyHjzz4dW"
      },
      "outputs": [],
      "source": [
        "# plot final bird rotated about point (a,b). Run the cell to see figure\n",
        "\n",
        "fig = plt.figure()\n",
        "\n",
        "finalbird = matplotlib.patches.Polygon(finalpoints, facecolor='green')\n",
        "\n",
        "\n",
        "fig, ax = plt.subplots()\n",
        "ax.set_aspect(\"equal\")\n",
        "ax.add_patch(finalbird)\n",
        "\n",
        "ax.set_xlim(0.4,1.2)\n",
        "ax.set_ylim(0.0,.7)\n",
        "plt.show()"
      ]
    },
    {
      "cell_type": "markdown",
      "metadata": {
        "id": "GjHgu32qz4dX"
      },
      "source": [
        "### Given $n$ vectors $\\mathbf{a}_1,...,\\mathbf{a}_n$ in a $n$ dimensional space, we check if the vectors are linearly dependent/independent, by considering the linear system $A\\mathbf{c}=\\mathbf{0}$."
      ]
    },
    {
      "cell_type": "code",
      "execution_count": null,
      "metadata": {
        "id": "fVPiwtNpz4dX"
      },
      "outputs": [],
      "source": [
        "# generate n random vectors and store in a n by n matrix. Print a submatrix of the matrix by uncommenting the\n",
        "# print command and specifying which portion to print.\n",
        "import numpy as np\n",
        "n = m = 50\n",
        "\n",
        "A = np.random.randint(5,size=(n,m))\n",
        "\n",
        "print(A)"
      ]
    },
    {
      "cell_type": "code",
      "execution_count": null,
      "metadata": {
        "id": "q5ckGyb5z4dX"
      },
      "outputs": [],
      "source": [
        "# Print the first and last column of matrix A. Write a short code to check if they are linearly dependent.\n"
      ]
    },
    {
      "cell_type": "code",
      "execution_count": null,
      "metadata": {
        "id": "5tTvpTJgz4dX"
      },
      "outputs": [],
      "source": [
        "# Write a short code to check if the columns of A are linearly dependent. Also check the dimension of matrix.\n",
        "# The problem is set up for square matrix, what do you need to do if the matrix is rectangular?\n",
        "\n",
        "\n",
        "\n",
        "# If you are having trouble, uncomment the following and run the code. Think what this code does.\n",
        "# rank_A = np.linalg.matrix_rank(A)\n",
        "# num_cols = A.shape[1]\n",
        "\n",
        "# if rank_A < num_cols:\n",
        "#   True\n",
        "# else:\n",
        "#   False"
      ]
    },
    {
      "cell_type": "markdown",
      "source": [
        "(Extra credit- stress testing)\n",
        "\n",
        "Compute the determinant of a $n\\times n$ matrix A. Find for what values, Google colab thinks it is too big of a matrix.\n",
        "\n",
        "The command for determinant is `np.linalg.det(A)`"
      ],
      "metadata": {
        "id": "PFi7x6yKVMWS"
      }
    },
    {
      "cell_type": "code",
      "source": [],
      "metadata": {
        "id": "oLqIu9XPV0qe"
      },
      "execution_count": null,
      "outputs": []
    }
  ],
  "metadata": {
    "kernelspec": {
      "display_name": "Python 3 (ipykernel)",
      "language": "python",
      "name": "python3"
    },
    "language_info": {
      "codemirror_mode": {
        "name": "ipython",
        "version": 3
      },
      "file_extension": ".py",
      "mimetype": "text/x-python",
      "name": "python",
      "nbconvert_exporter": "python",
      "pygments_lexer": "ipython3",
      "version": "3.8.10"
    },
    "colab": {
      "provenance": [],
      "include_colab_link": true
    }
  },
  "nbformat": 4,
  "nbformat_minor": 0
}