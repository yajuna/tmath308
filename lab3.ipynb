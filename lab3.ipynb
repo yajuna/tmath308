{
 "cells": [
  {
   "cell_type": "markdown",
   "metadata": {},
   "source": [
    "# This lab plays with linear transformation. We will deal with transition matrix, and manipulating images with matrices."
   ]
  },
  {
   "cell_type": "markdown",
   "metadata": {},
   "source": [
    "Here we try tiling the plane with a bird image(From _When life is linear_ by Tim Chartier)"
   ]
  },
  {
   "cell_type": "code",
   "execution_count": 41,
   "metadata": {},
   "outputs": [],
   "source": [
    "# import packages \n",
    "import numpy as np\n",
    "from scipy.sparse import diags\n",
    "import matplotlib.pyplot as plt\n",
    "import matplotlib.patches\n",
    "from PIL import Image\n"
   ]
  },
  {
   "cell_type": "code",
   "execution_count": 48,
   "metadata": {},
   "outputs": [
    {
     "data": {
      "text/plain": [
       "<Figure size 432x288 with 0 Axes>"
      ]
     },
     "metadata": {},
     "output_type": "display_data"
    },
    {
     "data": {
      "image/png": "[encoded data removed]",
      "text/plain": [
       "<Figure size 432x288 with 1 Axes>"
      ]
     },
     "metadata": {
      "needs_background": "light"
     },
     "output_type": "display_data"
    }
   ],
   "source": [
    "# make a basic bird polygon\n",
    "\n",
    "fig = plt.figure()\n",
    "points = [[0.3036, 0.1960], [0.6168, 0.2977], [0.7128, 0.4169], [0.7120, 0.1960],[0.9377,0.2620],\\\n",
    "          [0.7120,0.5680],[0.3989,0.6697],[0.3028,0.7889],[0.3036,0.5680],[0.5293,0.5020]]\n",
    "\n",
    "bird = matplotlib.patches.Polygon(points, facecolor='blue')\n",
    "\n",
    "fig, ax = plt.subplots()\n",
    "ax.set_aspect(\"equal\")\n",
    "ax.add_patch(bird)\n",
    "\n",
    "ax.set_xlim(0.2,1)\n",
    "ax.set_ylim(0.2,0.9)\n",
    "plt.show()"
   ]
  },
  {
   "cell_type": "markdown",
   "metadata": {},
   "source": [
    "Manipulating the figure (reflection, translation,and rotation) is done thru matrix multiplication."
   ]
  },
  {
   "cell_type": "code",
   "execution_count": 64,
   "metadata": {},
   "outputs": [
    {
     "data": {
      "text/plain": [
       "array([[-1.0000000e+00, -1.2246468e-16],\n",
       "       [ 1.2246468e-16, -1.0000000e+00]])"
      ]
     },
     "execution_count": 64,
     "metadata": {},
     "output_type": "execute_result"
    }
   ],
   "source": [
    "# rotate bird 180 degrees about the origin, first define rotation matrix  # point (0.7120,0.4320)\n",
    "\n",
    "theta = np.pi\n",
    "rotationMatrix = np.array([[np.cos(theta),-np.sin(theta)],[np.sin(theta),np.cos(theta)]])\n",
    "    \n",
    "rotationMatrix"
   ]
  },
  {
   "cell_type": "code",
   "execution_count": 65,
   "metadata": {},
   "outputs": [],
   "source": [
    "# rotate all points in original bird about the origin \n",
    "rotatepoints = []\n",
    "for x in points:\n",
    "    rotatepoints.append(np.dot(rotationMatrix,x))"
   ]
  },
  {
   "cell_type": "code",
   "execution_count": 66,
   "metadata": {},
   "outputs": [
    {
     "data": {
      "text/plain": [
       "<Figure size 432x288 with 0 Axes>"
      ]
     },
     "metadata": {},
     "output_type": "display_data"
    },
    {
     "data": {
      "image/png": "[encoded data removed]",
      "text/plain": [
       "<Figure size 432x288 with 1 Axes>"
      ]
     },
     "metadata": {
      "needs_background": "light"
     },
     "output_type": "display_data"
    }
   ],
   "source": [
    "# Plot rotated bird\n",
    "\n",
    "fig = plt.figure()\n",
    "\n",
    "rotatebird = matplotlib.patches.Polygon(rotatepoints, facecolor='yellow')\n",
    "\n",
    "fig, ax = plt.subplots()\n",
    "ax.set_aspect(\"equal\")\n",
    "ax.add_patch(rotatebird)\n",
    "\n",
    "ax.set_xlim(-1,-0.2)\n",
    "ax.set_ylim(-0.9,-0.2)\n",
    "plt.show()"
   ]
  },
  {
   "cell_type": "code",
   "execution_count": null,
   "metadata": {},
   "outputs": [],
   "source": [
    "# reflect with"
   ]
  },
  {
   "cell_type": "code",
   "execution_count": 83,
   "metadata": {},
   "outputs": [],
   "source": [
    "# define shift vector\n",
    "\n",
    "shift = (2*0.7120, 2*0.4320)\n"
   ]
  },
  {
   "cell_type": "code",
   "execution_count": 89,
   "metadata": {},
   "outputs": [
    {
     "data": {
      "text/plain": [
       "[array([1.1204, 0.668 ]),\n",
       " array([0.8072, 0.5663]),\n",
       " array([0.7112, 0.4471]),\n",
       " array([0.712, 0.668]),\n",
       " array([0.4863, 0.602 ]),\n",
       " array([0.712, 0.296]),\n",
       " array([1.0251, 0.1943]),\n",
       " array([1.1212, 0.0751]),\n",
       " array([1.1204, 0.296 ]),\n",
       " array([0.8947, 0.362 ])]"
      ]
     },
     "execution_count": 89,
     "metadata": {},
     "output_type": "execute_result"
    }
   ],
   "source": [
    "# shift rotated bird up\n",
    "shiftpoints = []\n",
    "for x in rotatepoints:\n",
    "    shiftpoints.append(x+shift)\n",
    "shiftpoints    "
   ]
  },
  {
   "cell_type": "code",
   "execution_count": 94,
   "metadata": {},
   "outputs": [
    {
     "data": {
      "text/plain": [
       "<Figure size 432x288 with 0 Axes>"
      ]
     },
     "metadata": {},
     "output_type": "display_data"
    },
    {
     "data": {
      "image/png": "[encoded data removed]",
      "text/plain": [
       "<Figure size 432x288 with 1 Axes>"
      ]
     },
     "metadata": {
      "needs_background": "light"
     },
     "output_type": "display_data"
    }
   ],
   "source": [
    "# Plot shifted bird\n",
    "\n",
    "fig = plt.figure()\n",
    "\n",
    "shiftbird = matplotlib.patches.Polygon(shiftpoints, facecolor='yellow')\n",
    "\n",
    "fig, ax = plt.subplots()\n",
    "ax.set_aspect(\"equal\")\n",
    "ax.add_patch(shiftbird)\n",
    "\n",
    "ax.set_xlim(0.2,2)\n",
    "ax.set_ylim(0.0,0.9)\n",
    "plt.show()"
   ]
  },
  {
   "cell_type": "code",
   "execution_count": 96,
   "metadata": {},
   "outputs": [
    {
     "data": {
      "text/plain": [
       "[[0.3036, 0.196],\n",
       " [0.6168, 0.2977],\n",
       " [0.7128, 0.4169],\n",
       " [0.712, 0.196],\n",
       " [0.9377, 0.262],\n",
       " [0.712, 0.568],\n",
       " [0.3989, 0.6697],\n",
       " [0.3028, 0.7889],\n",
       " [0.3036, 0.568],\n",
       " [0.5293, 0.502],\n",
       " array([-0.3036, -0.196 ]),\n",
       " array([-0.6168, -0.2977]),\n",
       " array([-0.7128, -0.4169]),\n",
       " array([-0.712, -0.196]),\n",
       " array([-0.9377, -0.262 ]),\n",
       " array([-0.712, -0.568]),\n",
       " array([-0.3989, -0.6697]),\n",
       " array([-0.3028, -0.7889]),\n",
       " array([-0.3036, -0.568 ]),\n",
       " array([-0.5293, -0.502 ])]"
      ]
     },
     "execution_count": 96,
     "metadata": {},
     "output_type": "execute_result"
    }
   ],
   "source": [
    "points+rotatepoints\n"
   ]
  },
  {
   "cell_type": "code",
   "execution_count": null,
   "metadata": {},
   "outputs": [],
   "source": []
  }
 ],
 "metadata": {
  "kernelspec": {
   "display_name": "Python 3",
   "language": "python",
   "name": "python3"
  },
  "language_info": {
   "codemirror_mode": {
    "name": "ipython",
    "version": 3
   },
   "file_extension": ".py",
   "mimetype": "text/x-python",
   "name": "python",
   "nbconvert_exporter": "python",
   "pygments_lexer": "ipython3",
   "version": "3.6.8"
  }
 },
 "nbformat": 4,
 "nbformat_minor": 2
}
