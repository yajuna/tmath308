{
 "cells": [
  {
   "cell_type": "markdown",
   "metadata": {},
   "source": [
    "# This lab plays with linear transformation. We will deal with transition matrix, and manipulating images with matrices."
   ]
  },
  {
   "cell_type": "markdown",
   "metadata": {},
   "source": [
    "Here we try tiling the plane with a bird image(From _When life is linear_ by Tim Chartier)"
   ]
  },
  {
   "cell_type": "code",
   "execution_count": 32,
   "metadata": {},
   "outputs": [],
   "source": [
    "# import packages \n",
    "import numpy as np\n",
    "from scipy.sparse import diags\n",
    "import matplotlib.pyplot as plt\n",
    "import matplotlib.patches\n",
    "from PIL import Image\n"
   ]
  },
  {
   "cell_type": "code",
   "execution_count": 33,
   "metadata": {},
   "outputs": [
    {
     "data": {
      "text/plain": [
       "<Figure size 432x288 with 0 Axes>"
      ]
     },
     "metadata": {},
     "output_type": "display_data"
    },
    {
     "data": {
      "image/png": "[encoded data removed]",
      "text/plain": [
       "<Figure size 432x288 with 1 Axes>"
      ]
     },
     "metadata": {
      "needs_background": "light"
     },
     "output_type": "display_data"
    }
   ],
   "source": [
    "# make a basic bird polygon. Run the code to plot the bird\n",
    "\n",
    "fig = plt.figure()\n",
    "points = [[0.3036, 0.1960], [0.6168, 0.2977], [0.7128, 0.4169], [0.7120, 0.1960],[0.9377,0.2620],\\\n",
    "          [0.7120,0.5680],[0.3989,0.6697],[0.3028,0.7889],[0.3036,0.5680],[0.5293,0.5020]]\n",
    "\n",
    "bird = matplotlib.patches.Polygon(points, facecolor='blue')\n",
    "\n",
    "fig, ax = plt.subplots()\n",
    "ax.set_aspect(\"equal\")\n",
    "ax.add_patch(bird)\n",
    "\n",
    "ax.set_xlim(0.2,1)\n",
    "ax.set_ylim(0.2,0.9)\n",
    "plt.show()"
   ]
  },
  {
   "cell_type": "markdown",
   "metadata": {},
   "source": [
    "## Manipulating the figure (reflection, translation,and rotation) is done thru matrix multiplication."
   ]
  },
  {
   "cell_type": "code",
   "execution_count": 34,
   "metadata": {},
   "outputs": [],
   "source": [
    "# rotate bird 180 degrees about the origin, first define rotation matrix  # point (0.7120,0.4320)\n",
    "\n",
    "theta = np.pi\n",
    "rotationMatrix = np.array([[np.cos(theta),-np.sin(theta)],[np.sin(theta),np.cos(theta)]])\n",
    "    \n",
    "#rotationMatrix"
   ]
  },
  {
   "cell_type": "code",
   "execution_count": 35,
   "metadata": {},
   "outputs": [],
   "source": [
    "# rotate all points in original bird about the origin \n",
    "rotatepoints = []\n",
    "for x in points:\n",
    "    rotatepoints.append(np.dot(rotationMatrix,x))"
   ]
  },
  {
   "cell_type": "code",
   "execution_count": 36,
   "metadata": {},
   "outputs": [
    {
     "data": {
      "text/plain": [
       "<Figure size 432x288 with 0 Axes>"
      ]
     },
     "metadata": {},
     "output_type": "display_data"
    },
    {
     "data": {
      "image/png": "[encoded data removed]",
      "text/plain": [
       "<Figure size 432x288 with 1 Axes>"
      ]
     },
     "metadata": {
      "needs_background": "light"
     },
     "output_type": "display_data"
    }
   ],
   "source": [
    "# Plot rotated bird. Run the code to plot the bird\n",
    "\n",
    "fig = plt.figure()\n",
    "\n",
    "rotatebird = matplotlib.patches.Polygon(rotatepoints, facecolor='yellow')\n",
    "\n",
    "fig, ax = plt.subplots()\n",
    "ax.set_aspect(\"equal\")\n",
    "ax.add_patch(rotatebird)\n",
    "\n",
    "ax.set_xlim(-1,-0.2)\n",
    "ax.set_ylim(-0.9,-0.2)\n",
    "plt.show()"
   ]
  },
  {
   "cell_type": "code",
   "execution_count": 37,
   "metadata": {},
   "outputs": [],
   "source": [
    "# define shift vector\n",
    "\n",
    "shift = (2*0.7120, 2*0.4320)\n"
   ]
  },
  {
   "cell_type": "code",
   "execution_count": 38,
   "metadata": {},
   "outputs": [],
   "source": [
    "# shift rotated bird up via matrix addition\n",
    "shiftpoints = []\n",
    "for x in rotatepoints:\n",
    "    shiftpoints.append(x+shift)\n",
    "# shiftpoints    "
   ]
  },
  {
   "cell_type": "code",
   "execution_count": 39,
   "metadata": {},
   "outputs": [
    {
     "data": {
      "text/plain": [
       "<Figure size 432x288 with 0 Axes>"
      ]
     },
     "metadata": {},
     "output_type": "display_data"
    },
    {
     "data": {
      "image/png": "[encoded data removed]",
      "text/plain": [
       "<Figure size 432x288 with 1 Axes>"
      ]
     },
     "metadata": {
      "needs_background": "light"
     },
     "output_type": "display_data"
    }
   ],
   "source": [
    "# Plot shifted bird. Run the code to plot the bird\n",
    "\n",
    "fig = plt.figure()\n",
    "\n",
    "shiftbird = matplotlib.patches.Polygon(shiftpoints, facecolor='pink')\n",
    "\n",
    "fig, ax = plt.subplots()\n",
    "ax.set_aspect(\"equal\")\n",
    "ax.add_patch(shiftbird)\n",
    "\n",
    "ax.set_xlim(0.2,1.5)\n",
    "ax.set_ylim(0.0,0.9)\n",
    "plt.show()"
   ]
  },
  {
   "cell_type": "markdown",
   "metadata": {},
   "source": [
    "\n",
    "## Now we will achieve the effect of rotating the bird 180 degrees about the point (0.7120, 0.4320)\n",
    "\n",
    "In general, you can think about the process as translating the point (a,b) to the origin, rotating by $\\theta$, then translating from the origin back to (a,b).\n",
    "\n",
    "This is done via the following matrix multiplication: \n",
    "$\\begin{pmatrix}1&0&a\\\\0&1&b\\\\0&0&1\\end{pmatrix}\\begin{pmatrix}\\cos\\theta&-sin\\theta&0\\\\ \\sin\\theta&\\cos\\theta&0\\\\0&0&1\\end{pmatrix}\\begin{pmatrix}1&0&-a\\\\0&1&-b\\\\0&0&1\\end{pmatrix}$\n",
    "\n",
    "Notice, the order of operation is matrix multiplied on the right is the first operation that applies to your vector. Matrix multiplication gives the following product: \n",
    "\n",
    "$\\begin{pmatrix}\\cos\\theta&-sin\\theta&-a\\cos\\theta+b\\sin\\theta+a\\\\ \\sin\\theta&\\cos\\theta&-a\\sin\\theta-b\\cos\\theta+b\\\\0&0&1\\end{pmatrix}$\n",
    "\n",
    "We will then define the array in Numpy and give the point (a,b) and the rotation angle"
   ]
  },
  {
   "cell_type": "code",
   "execution_count": 40,
   "metadata": {},
   "outputs": [
    {
     "data": {
      "text/plain": [
       "array([[-1.0000000e+00, -1.2246468e-16,  1.4240000e+00],\n",
       "       [-1.0000000e+00, -1.2246468e-16,  8.6400000e-01],\n",
       "       [ 0.0000000e+00,  0.0000000e+00,  1.0000000e+00]])"
      ]
     },
     "execution_count": 40,
     "metadata": {},
     "output_type": "execute_result"
    }
   ],
   "source": [
    "# Define above array \n",
    "\n",
    "theta = np.pi\n",
    "a = 0.7120\n",
    "b = 0.4320\n",
    "shiftrotateMatrix = np.array([[np.cos(theta),-np.sin(theta),-a*np.cos(theta)+b*np.sin(theta)+a],\\\n",
    "                              [np.cos(theta),-np.sin(theta),-a*np.sin(theta)-b*np.cos(theta)+b],\\\n",
    "                              [0,0,1]])\n",
    "shiftrotateMatrix"
   ]
  },
  {
   "cell_type": "code",
   "execution_count": 41,
   "metadata": {},
   "outputs": [
    {
     "name": "stdout",
     "output_type": "stream",
     "text": [
      "[[0.3036, 0.196, 1], [0.6168, 0.2977, 1], [0.7128, 0.4169, 1], [0.712, 0.196, 1], [0.9377, 0.262, 1], [0.712, 0.568, 1], [0.3989, 0.6697, 1], [0.3028, 0.7889, 1], [0.3036, 0.568, 1], [0.5293, 0.502, 1]]\n"
     ]
    }
   ],
   "source": [
    "# notice the array is 3 by 3, so we will extend the points (x,y) to (x,y,1). Uncomment to see the new list of points3d\n",
    "points3d = points\n",
    "for x in points3d:\n",
    "    x.append(1)\n",
    "    \n",
    "\n",
    "print(points3d) \n"
   ]
  },
  {
   "cell_type": "code",
   "execution_count": 42,
   "metadata": {},
   "outputs": [
    {
     "data": {
      "text/plain": [
       "[array([1.1204, 0.5604, 1.    ]),\n",
       " array([0.8072, 0.2472, 1.    ]),\n",
       " array([0.7112, 0.1512, 1.    ]),\n",
       " array([0.712, 0.152, 1.   ]),\n",
       " array([ 0.4863, -0.0737,  1.    ]),\n",
       " array([0.712, 0.152, 1.   ]),\n",
       " array([1.0251, 0.4651, 1.    ]),\n",
       " array([1.1212, 0.5612, 1.    ]),\n",
       " array([1.1204, 0.5604, 1.    ]),\n",
       " array([0.8947, 0.3347, 1.    ])]"
      ]
     },
     "execution_count": 42,
     "metadata": {},
     "output_type": "execute_result"
    }
   ],
   "source": [
    "# rotate bird about the point (0.7120,0.4320)\n",
    "pointsab = []\n",
    "for x in points3d:\n",
    "    pointsab.append(np.dot(shiftrotateMatrix,x))\n",
    "\n",
    "pointsab    "
   ]
  },
  {
   "cell_type": "code",
   "execution_count": 43,
   "metadata": {},
   "outputs": [],
   "source": [
    "# convert the list to 2D array. Uncomment to show finalpoints\n",
    "\n",
    "finalpoints = [[x[0],x[1]] for x in pointsab]\n",
    "\n",
    "# finalpoints"
   ]
  },
  {
   "cell_type": "code",
   "execution_count": 44,
   "metadata": {},
   "outputs": [
    {
     "data": {
      "text/plain": [
       "<Figure size 432x288 with 0 Axes>"
      ]
     },
     "metadata": {},
     "output_type": "display_data"
    },
    {
     "data": {
      "image/png": "[encoded data removed]",
      "text/plain": [
       "<Figure size 432x288 with 1 Axes>"
      ]
     },
     "metadata": {
      "needs_background": "light"
     },
     "output_type": "display_data"
    }
   ],
   "source": [
    "# plot final bird rotated about point (a,b)\n",
    "\n",
    "fig = plt.figure()\n",
    "\n",
    "finalbird = matplotlib.patches.Polygon(finalpoints, facecolor='yellow')\n",
    "\n",
    "fig, ax = plt.subplots()\n",
    "ax.set_aspect(\"equal\")\n",
    "ax.add_patch(finalbird)\n",
    "\n",
    "ax.set_xlim(0.2,2)\n",
    "ax.set_ylim(0.2,2)\n",
    "plt.show()"
   ]
  },
  {
   "cell_type": "code",
   "execution_count": null,
   "metadata": {},
   "outputs": [],
   "source": []
  }
 ],
 "metadata": {
  "kernelspec": {
   "display_name": "Python 3",
   "language": "python",
   "name": "python3"
  },
  "language_info": {
   "codemirror_mode": {
    "name": "ipython",
    "version": 3
   },
   "file_extension": ".py",
   "mimetype": "text/x-python",
   "name": "python",
   "nbconvert_exporter": "python",
   "pygments_lexer": "ipython3",
   "version": "3.6.8"
  }
 },
 "nbformat": 4,
 "nbformat_minor": 2
}
