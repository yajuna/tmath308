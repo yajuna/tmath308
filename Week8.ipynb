{
  "nbformat": 4,
  "nbformat_minor": 0,
  "metadata": {
    "colab": {
      "provenance": [],
      "authorship_tag": "ABX9TyPg8s2YRr6Fzr4A3BhwIR2n",
      "include_colab_link": true
    },
    "kernelspec": {
      "name": "python3",
      "display_name": "Python 3"
    },
    "language_info": {
      "name": "python"
    }
  },
  "cells": [
    {
      "cell_type": "markdown",
      "metadata": {
        "id": "view-in-github",
        "colab_type": "text"
      },
      "source": [
        "<a href=\"https://colab.research.google.com/github/yajuna/tmath308/blob/master/Week8.ipynb\" target=\"_parent\"><img src=\"https://colab.research.google.com/assets/colab-badge.svg\" alt=\"Open In Colab\"/></a>"
      ]
    },
    {
      "cell_type": "markdown",
      "source": [
        "# In this notebook, we look at the last topic this quarter, the Eigen Stuff.\n",
        "\n",
        "Eigen is German for characteristic or intrinsic, so eigenvalues and eigenvectors are characteristic values and vectors for a matrix. Matrix multiplication is linear transformation for vectors, and characteristic vectors are the vectors that do not change direction under these linear transformations. Notice the zero vector will always remain zero, so we exclude it while defining characteristic vectors.\n",
        "\n",
        "\n",
        "## Definition (eigenvalues and eigenvectors)\n",
        "Let $A$ be an $n\\times n$ matrix. A scalar $\\lambda$ is called an eigenvalue of $A$ if there is a _nonzero_ vector $\\mathbf{x}$ such that $A\\mathbf{x}=\\lambda\\mathbf{x}$.\n",
        "\n",
        "$A\\mathbf{x}=\\lambda\\mathbf{x}$ is equivalent to the linear system $(A-\\lambda\\mathbf{I})\\mathbf{x}=\\mathbf{0}$, and we look for non-zero solutions to this system. Generally, we need to find first all eigenvalues $\\lambda_1,...,\\lambda_k$ (in Section 4.2), then for each eigenvalue, we solve the homogeneous system and find _all_ corresponding eigenvectors. This is effectively finding the null space of $A-\\lambda\\mathbf{I}$.\n",
        "\n",
        "A matrix can have repeated eigenvalues- the identity matrix (of $n\\times n$) only has 1 as its eigenvalue. We group all the eigenvectors corresponding to the same values together.\n",
        "\n",
        "## Definition (eigenspace)\n",
        "Let $A$ be an $n\\times n$ matrix, and let $\\lambda$ be an eigenvalue of $A$. The collection of all eigenvectors corresponding to $\\lambda$, together with the zero vector, is called the _eigenspace_ of $\\lambda$, and is denoted by $E_{\\lambda}$.\n",
        "\n",
        "A very useful idea in mathematics is to cut big 'spaces' into small bite size spaces and study these small pieces one by one. Eigenspace is one such example.\n",
        "\n",
        "\n",
        "The Numpy library can find eigenstuff with ``numpy.linalg.eig``. We see some examples here."
      ],
      "metadata": {
        "id": "Ck89qLhCs-mz"
      }
    },
    {
      "cell_type": "code",
      "execution_count": 1,
      "metadata": {
        "colab": {
          "base_uri": "https://localhost:8080/"
        },
        "id": "lA5ykfkRsTu_",
        "outputId": "c2313f58-9e10-44f2-fa22-90e88deb9f3c"
      },
      "outputs": [
        {
          "output_type": "stream",
          "name": "stdout",
          "text": [
            "Matrix \n",
            " [[0.1801427  0.61771923 0.2582053  0.10030257 0.03977503]\n",
            " [0.9346804  0.92417418 0.87710264 0.12060495 0.24140184]\n",
            " [0.48337427 0.13013255 0.27515185 0.51147999 0.60618269]\n",
            " [0.45412518 0.85080319 0.25902494 0.02551751 0.54970446]\n",
            " [0.67417135 0.16700349 0.63648718 0.6684394  0.30359281]] \n",
            "\n",
            "eigenvalues \n",
            " [ 2.16191539 -0.38414876 -0.22777288  0.12351147  0.03507384] \n",
            "\n",
            "eigenvectors \n",
            " [[ 0.27098733 -0.3411155  -0.74579306  0.52104365  0.57842409]\n",
            " [ 0.60664863  0.15108961  0.24891475  0.23233831  0.14486636]\n",
            " [ 0.38040255  0.19827294  0.45987787 -0.66892514 -0.68499883]\n",
            " [ 0.46081414  0.70437185  0.38005268  0.17300773  0.18375915]\n",
            " [ 0.44887363 -0.57040362 -0.16095483 -0.44400441 -0.37609638]] \n",
            "\n"
          ]
        }
      ],
      "source": [
        "## Find eigen stuff with numpy\n",
        "import numpy as np\n",
        "A = np.random.rand(5,5)\n",
        "evalues, evectors = np.linalg.eig(A)\n",
        "\n",
        "print('Matrix \\n', A,'\\n')\n",
        "\n",
        "print('eigenvalues \\n', evalues,'\\n')\n",
        "\n",
        "print('eigenvectors \\n', evectors,'\\n')"
      ]
    },
    {
      "cell_type": "code",
      "source": [
        "i = 0\n",
        "\n",
        "# compute A * v - lambd * v\n",
        "residual = A.dot(evectors[:,i]) - evalues[i] * evectors[:,i]\n",
        "\n",
        "print(evalues[i])\n",
        "\n",
        "print(evectors[:,i])\n",
        "\n",
        "print(residual)"
      ],
      "metadata": {
        "colab": {
          "base_uri": "https://localhost:8080/"
        },
        "id": "dCRUsCowSFHq",
        "outputId": "5b19e3da-0ece-4838-e88e-6fc2ece60a94"
      },
      "execution_count": 7,
      "outputs": [
        {
          "output_type": "stream",
          "name": "stdout",
          "text": [
            "2.161915393828133\n",
            "[0.27098733 0.60664863 0.38040255 0.46081414 0.44887363]\n",
            "[-3.33066907e-16 -8.88178420e-16  1.11022302e-16 -3.33066907e-16\n",
            " -1.44328993e-15]\n"
          ]
        }
      ]
    },
    {
      "cell_type": "markdown",
      "source": [
        "## We see that to find eigenstuff for a matrix, we need to find all eigenvalues first.\n",
        "\n",
        "From the definition of eigenvalues, we look for a scalar $\\lambda$ such that there is a _nonzero_ vector $\\mathbf{x}$ where $(A-\\lambda\\mathbf{I})\\mathbf{x}=\\mathbf{0}$. This means, eigenvalues will make the matrix $(A-\\lambda\\mathbf{I})$ singular (non invertible). For this, we introduce the idea of _determinant_ for square matrices.\n",
        "\n",
        "## Definition (determinant)\n",
        "Let $A$ be an $n\\times n$ matrix. The determinant of $A$ is the _scalar_ defined recursively below:\n",
        "\n",
        "$\\det A=\\sum^n_{j=1}(-1)^{1+j}a_{1j}\\det A_{1j}=\\sum^n_{j=1}a_{1j}C_{1j}$\n",
        "\n",
        "where $C_{1j}=(-1)^{1+j}\\det A_{1j}$ is called the _cofactor_ of $A$.\n",
        "\n",
        "This is called the cofactor expansion definition. Note that the expansion was given along the first row, but Theorem 4.1 states that the expansions is valid for all rows or columns.\n",
        "\n",
        "## Thm 4.1 (Laplace Expansion)\n",
        "$\\det A=\\sum^n_{j=1}(-1)^{i+j}a_{ij}\\det A_{ij}=\\sum^n_{j=1}a_{ij}C_{ij}$\n",
        "\n",
        "Ex. Expansion along the first column or first row shows that the determinant of a triangular matrix is the product of its diagonal elements.\n",
        "\n",
        "Properties of determinants can be found from Theorem 4.3 to Theorem 4.14. We will focus on Theorem 4.6 as it helps with our eigen problem.\n",
        "\n",
        "## Thm 4.6 (Invertibility vs determinant)\n",
        "A square matrix $A$ is invertible if and only if $\\det A\\neq 0$.\n",
        "\n",
        "\n",
        "As eigenvalues will make the matrix $(A-\\lambda\\mathbf{I})$ non invertible, we solve for $\\lambda$ by setting $\\det (A-\\lambda\\mathbf{I})=0$"
      ],
      "metadata": {
        "id": "4ul-2EtA6pVL"
      }
    },
    {
      "cell_type": "markdown",
      "source": [
        "## Determinants can be computed from the Numpy function ``numpy.linalg.det``. One application is to see if a system is uniquely solvable by checking the determinant of the coefficient matrix; nowadays we use the conditional number more."
      ],
      "metadata": {
        "id": "L4pB06myGSoF"
      }
    },
    {
      "cell_type": "code",
      "source": [
        "import numpy as np\n",
        "A = np.random.rand(5,5)\n",
        "\n",
        "det = np.linalg.det(A)\n",
        "\n",
        "condNum = np.linalg.cond(A)\n",
        "\n",
        "print(det, condNum)"
      ],
      "metadata": {
        "colab": {
          "base_uri": "https://localhost:8080/"
        },
        "id": "v0znVzaqGq_a",
        "outputId": "1f0cc7dc-47ed-452b-9d11-249fc37b0a44"
      },
      "execution_count": null,
      "outputs": [
        {
          "output_type": "stream",
          "name": "stdout",
          "text": [
            "0.052219772558896524 20.422860418462342\n"
          ]
        }
      ]
    },
    {
      "cell_type": "markdown",
      "source": [
        "## Try to write some Python code to help you understand the properties listed in your book.\n",
        "\n",
        "The following is to help see an example of $\\det(AB)=\\det(A)\\det(B)$."
      ],
      "metadata": {
        "id": "N6d3mX75V9C5"
      }
    },
    {
      "cell_type": "code",
      "source": [
        "n = 15\n",
        "A = np.random.rand(n,n)\n",
        "B = np.random.rand(n,n)\n",
        "\n",
        "# compute det(AB) - det(A) * det(B)\n",
        "diff = np.linalg.det(A.dot(B)) - np.linalg.det(A) * np.linalg.det(B)\n",
        "\n",
        "print(diff)"
      ],
      "metadata": {
        "colab": {
          "base_uri": "https://localhost:8080/"
        },
        "id": "z88TdPPwUFxA",
        "outputId": "518a6410-9acd-4925-d074-c5d36ecc637a"
      },
      "execution_count": 9,
      "outputs": [
        {
          "output_type": "stream",
          "name": "stdout",
          "text": [
            "-2.5478751053409354e-17\n"
          ]
        }
      ]
    },
    {
      "cell_type": "markdown",
      "source": [
        "# WE have outlined the eigen problem for a $n\\times n$ matrix $A$.\n",
        "\n",
        "We look for nonzero vector $\\mathbf{x}$ and scalars $\\lambda$ such that $A\\mathbf{x} = \\lambda\\mathbf{x}$. This converts to a $n\\times n$ homogeneous system $(A-\\lambda I)\\mathbf{x} = \\mathbf{0}$, where we solve for nonzero $\\mathbf{x}$ (finding the null space of $\\lambda$) after finding the value $\\lambda$.\n",
        "\n",
        "$\\lambda$'s are found by computing the equation $\\det(A-\\lambda I)=0$. The equation is a degree $n$ polynomial of $\\lambda$ so we will be finding $n$ values.\n",
        "\n",
        "## Definition (multiplicity of eiganvalues)\n",
        "\n",
        "- Algebriac: the multiplicity of eigenvalue as a root of the characteristic polynomial\n",
        "\n",
        "- Geometric: the dimension of $E_{\\lambda}$. It is also the dimension of the null space of $A-\\lambda I$, or the number of free variables of the homogeneous system."
      ],
      "metadata": {
        "id": "8ruCibw6uA9I"
      }
    },
    {
      "cell_type": "code",
      "source": [
        "## Example 4.18\n",
        "import numpy as np\n",
        "A = np.array(([0,1,0],[0,0,1],[2,-5,4]))\n",
        "\n",
        "print(A[0,:])\n",
        "\n",
        "evalueA, evectorA = np.linalg.eig(A)\n",
        "\n",
        "print(evalueA, '\\n', evectorA)\n",
        "\n",
        "# Notice numpy does not see eigenspace"
      ],
      "metadata": {
        "colab": {
          "base_uri": "https://localhost:8080/"
        },
        "id": "3hCwEpG-zJP8",
        "outputId": "c6fd144b-2f1b-4d71-cb86-c3ca146bab06"
      },
      "execution_count": 13,
      "outputs": [
        {
          "output_type": "stream",
          "name": "stdout",
          "text": [
            "[0 1 0]\n",
            "[1.00000001 0.99999999 2.        ] \n",
            " [[-0.57735026  0.57735028 -0.21821789]\n",
            " [-0.57735027  0.57735027 -0.43643578]\n",
            " [-0.57735028  0.57735026 -0.87287156]]\n"
          ]
        }
      ]
    },
    {
      "cell_type": "code",
      "source": [
        "# Check A * x - lambd * x\n",
        "\n",
        "res1 = A.dot(evectorA[:,0]) - evalueA[0] * evectorA[:,0]\n",
        "\n",
        "res11 = A.dot(evectorA[:,1]) - evalueA[1] * evectorA[:,1]\n",
        "\n",
        "res2 = A.dot(evectorA[:,-1]) - evalueA[-1] * evectorA[:,-1]\n",
        "\n",
        "print(res1, res2, res11)"
      ],
      "metadata": {
        "colab": {
          "base_uri": "https://localhost:8080/"
        },
        "id": "BPIQx7v2z62J",
        "outputId": "bf565f2e-7eb0-474d-9938-438438e49859"
      },
      "execution_count": 23,
      "outputs": [
        {
          "output_type": "stream",
          "name": "stdout",
          "text": [
            "[6.66133815e-16 4.44089210e-16 2.22044605e-16] [ 1.33226763e-15  4.44089210e-16 -8.88178420e-16] [-6.66133815e-16 -5.55111512e-16 -2.22044605e-16]\n"
          ]
        }
      ]
    },
    {
      "cell_type": "markdown",
      "source": [
        "## Properties of eigenvalues\n",
        "1. Eigenvalues of triangular matrices are the entries on its main diagonal\n",
        "2. $A$ is invertible if and only if 0 is __not__ an eigenvalue of $A$.\n",
        "3. If $A$ is invertible with $\\lambda$ as an eigenvalue, and $\\mathbf{x}$ an corresponding eigenvector, then $1/\\lambda$ is an eigenvalue of $A^{-1}$, and $\\mathbf{x}$ an corresponding eigenvector.\n",
        "4. Eigenvectors for distinct eigenvalues are linearly independent."
      ],
      "metadata": {
        "id": "TSfcI_vX3S1I"
      }
    },
    {
      "cell_type": "code",
      "source": [
        "import numpy as np\n",
        "\n",
        "A = np.random.rand(4,4)\n",
        "\n",
        "evalues, evectors = np.linalg.eig(A)\n",
        "\n",
        "# Check that A^n x = lambd ^n x\n",
        "\n",
        "n = 5\n",
        "i = 0\n",
        "res = np.linalg.matrix_power(A, n).dot(evectors[:,i]) - (evalues[i] ** n) * evectors[:,i]\n",
        "print(res)\n",
        "\n",
        "# try with n = 500 and you will see a very big error"
      ],
      "metadata": {
        "colab": {
          "base_uri": "https://localhost:8080/"
        },
        "id": "60ftBPit7lMB",
        "outputId": "c3e3c9a1-61d8-43bf-fcef-f22636d70ec8"
      },
      "execution_count": 33,
      "outputs": [
        {
          "output_type": "stream",
          "name": "stdout",
          "text": [
            "[1.35003120e-13+0.j 4.08562073e-14+0.j 9.23705556e-14+0.j\n",
            " 1.20792265e-13+0.j]\n"
          ]
        }
      ]
    },
    {
      "cell_type": "markdown",
      "source": [
        "### Below we see an example of eigenvectors for distinct eigenvalues are lienarly independent."
      ],
      "metadata": {
        "id": "AIjYsfRjALPO"
      }
    },
    {
      "cell_type": "code",
      "source": [
        "A = np.diag([1, 2, 3])\n",
        "\n",
        "eval, evec = np.linalg.eig(A)\n",
        "\n",
        "print(np.linalg.det(evec))"
      ],
      "metadata": {
        "colab": {
          "base_uri": "https://localhost:8080/"
        },
        "id": "Ge5f6e5NAJoQ",
        "outputId": "e533d8e0-f040-4df1-f3ad-005d8f8bcc34"
      },
      "execution_count": 37,
      "outputs": [
        {
          "output_type": "stream",
          "name": "stdout",
          "text": [
            "1.0\n"
          ]
        }
      ]
    },
    {
      "cell_type": "markdown",
      "source": [
        "## In Chapter 2 we studies a type of equivalence relation between matrices (row equivalence), this section introduces another.\n",
        "\n",
        "### Definition (similarity)\n",
        "Let $A$ and $B$ be $n\\times n$ matrices. We say $A$ is similar to $B$ if there is an invertible $n\\times n$ matrix $P$ such that $P^{-1}AP=B$. We write $A\\sim B$.\n",
        "\n",
        "Note: equivalence relations are reflective, symmetric, and transitive.\n",
        "\n",
        "### Definition (diagonalizable)\n",
        "Matrix $A$ is diagonalizable if it is similar to a diagonal matrix. $A$ is diagonalizable if and only if it has $n$ linearly indepdent eigenvectors. Then $D$ is composed of corresponding eigenvalues at the main diagonal."
      ],
      "metadata": {
        "id": "J7uNGNEfBUup"
      }
    }
  ]
}