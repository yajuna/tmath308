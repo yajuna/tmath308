{
  "nbformat": 4,
  "nbformat_minor": 0,
  "metadata": {
    "colab": {
      "provenance": [],
      "authorship_tag": "ABX9TyODALKvkKxbP6bRqFR8I6vu",
      "include_colab_link": true
    },
    "kernelspec": {
      "name": "python3",
      "display_name": "Python 3"
    },
    "language_info": {
      "name": "python"
    }
  },
  "cells": [
    {
      "cell_type": "markdown",
      "metadata": {
        "id": "view-in-github",
        "colab_type": "text"
      },
      "source": [
        "<a href=\"https://colab.research.google.com/github/yajuna/tmath308/blob/master/Week8.ipynb\" target=\"_parent\"><img src=\"https://colab.research.google.com/assets/colab-badge.svg\" alt=\"Open In Colab\"/></a>"
      ]
    },
    {
      "cell_type": "markdown",
      "source": [
        "# In this notebook, we look at the last topic this quarter, the Eigen Stuff.\n",
        "\n",
        "Eigen is German for characteristic or intrinsic, so eigenvalues and eigenvectors are characteristic values and vectors for a matrix. Matrix multiplication is linear transformation for vectors, and characteristic vectors are the vectors that do not change direction under these linear transformations. Notice the zero vector will always remain zero, so we exclude it while defining characteristic vectors.\n",
        "\n",
        "\n",
        "## Definition (eigenvalues and eigenvectors)\n",
        "Let $A$ be an $n\\times n$ matrix. A scalar $\\lambda$ is called an eigenvalue of $A$ if there is a _nonzero_ vector $\\mathbf{x}$ such that $A\\mathbf{x}=\\lambda\\mathbf{x}$.\n",
        "\n",
        "$A\\mathbf{x}=\\lambda\\mathbf{x}$ is equivalent to the linear system $(A-\\lambda\\mathbf{I})\\mathbf{x}=\\mathbf{0}$, and we look for non-zero solutions to this system. Generally, we need to find first all eigenvalues $\\lambda_1,...,\\lambda_k$ (in Section 4.2), then for each eigenvalue, we solve the homogeneous system and find _all_ corresponding eigenvectors. This is effectively finding the null space of $A-\\lambda\\mathbf{I}$.\n",
        "\n",
        "A matrix can have repeated eigenvalues- the identity matrix (of $n\\times n$) only has 1 as its eigenvalue. We group all the eigenvectors corresponding to the same values together.\n",
        "\n",
        "## Definition (eigenspace)\n",
        "Let $A$ be an $n\\times n$ matrix, and let $\\lambda$ be an eigenvalue of $A$. The collection of all eigenvectors corresponding to $\\lambda$, together with the zero vector, is called the _eigenspace_ of $\\lambda$, and is denoted by $E_{\\lambda}$.\n",
        "\n",
        "A very useful idea in mathematics is to cut big 'spaces' into small bite size spaces and study these small pieces one by one. Eigenspace is one such example.\n",
        "\n",
        "\n",
        "The Numpy library can find eigenstuff with ``numpy.linalg.eig``. We see some examples here."
      ],
      "metadata": {
        "id": "Ck89qLhCs-mz"
      }
    },
    {
      "cell_type": "code",
      "execution_count": 5,
      "metadata": {
        "colab": {
          "base_uri": "https://localhost:8080/"
        },
        "id": "lA5ykfkRsTu_",
        "outputId": "b1e55dd8-b319-4539-a81e-908f0dfed09b"
      },
      "outputs": [
        {
          "output_type": "stream",
          "name": "stdout",
          "text": [
            "Matrix \n",
            " [[0.1584676  0.78413927 0.43500649 0.46260285 0.45165166]\n",
            " [0.11469902 0.71073759 0.84626532 0.34780955 0.40505923]\n",
            " [0.62169036 0.19968812 0.59303082 0.59647327 0.30153421]\n",
            " [0.25004526 0.64339033 0.93485072 0.60878673 0.21796341]\n",
            " [0.74356019 0.40108004 0.12941001 0.23158535 0.90886928]] \n",
            "\n",
            "eigenvalues \n",
            " [ 2.41691659+0.j          0.7302007 +0.j         -0.06800957+0.37272732j\n",
            " -0.06800957-0.37272732j -0.03120614+0.j        ] \n",
            "\n",
            "eigenvectors \n",
            " [[ 0.42617903+0.j          0.02125356+0.j          0.11084364-0.49363691j\n",
            "   0.11084364+0.49363691j -0.57091215+0.j        ]\n",
            " [ 0.44586014+0.j         -0.07314704+0.j          0.52981595+0.j\n",
            "   0.52981595-0.j         -0.4455301 +0.j        ]\n",
            " [ 0.42787914+0.j         -0.21518129+0.j         -0.39958768+0.23919171j\n",
            "  -0.39958768-0.23919171j  0.03346903+0.j        ]\n",
            " [ 0.49197077+0.j         -0.47638682+0.j          0.19302672-0.11444779j\n",
            "   0.19302672+0.11444779j  0.44220299+0.j        ]\n",
            " [ 0.44098115+0.j          0.84908798+0.j         -0.38089655+0.22585076j\n",
            "  -0.38089655-0.22585076j  0.5281085 +0.j        ]] \n",
            "\n"
          ]
        }
      ],
      "source": [
        "## Find eigen stuff with numpy\n",
        "import numpy as np\n",
        "A = np.random.rand(5,5)\n",
        "evalues, evectors = np.linalg.eig(A)\n",
        "\n",
        "print('Matrix \\n', A,'\\n')\n",
        "\n",
        "print('eigenvalues \\n', evalues,'\\n')\n",
        "\n",
        "print('eigenvectors \\n', evectors,'\\n')"
      ]
    },
    {
      "cell_type": "markdown",
      "source": [
        "## We see that to find eigenstuff for a matrix, we need to find all eigenvalues first.\n",
        "\n",
        "From the definition of eigenvalues, we look for a scalar $\\lambda$ such that there is a _nonzero_ vector $\\mathbf{x}$ where $(A-\\lambda\\mathbf{I})\\mathbf{x}=\\mathbf{0}$. This means, eigenvalues will make the matrix $(A-\\lambda\\mathbf{I})$ singular (non invertible). For this, we introduce the idea of _determinant_ for square matrices.\n",
        "\n",
        "## Definition (determinant)\n",
        "Let $A$ be an $n\\times n$ matrix. The determinant of $A$ is the _scalar_ defined recursively below:\n",
        "\n",
        "$\\det A=\\sum^n_{j=1}(-1)^{1+j}a_{1j}\\det A_{1j}=\\sum^n_{j=1}a_{1j}C_{1j}$\n",
        "\n",
        "where $C_{1j}=(-1)^{1+j}\\det A_{1j}$ is called the _cofactor_ of $A$.\n",
        "\n",
        "This is called the cofactor expansion definition. Note that the expansion was given along the first row, but Theorem 4.1 states that the expansions is valid for all rows or columns.\n",
        "\n",
        "## Thm 4.1 (Laplace Expansion)\n",
        "$\\det A=\\sum^n_{j=1}(-1)^{i+j}a_{ij}\\det A_{ij}=\\sum^n_{j=1}a_{ij}C_{ij}$\n",
        "\n",
        "Ex. Expansion along the first column or first row shows that the determinant of a triangular matrix is the product of its diagonal elements.\n",
        "\n",
        "Properties of determinants can be found from Theorem 4.3 to Theorem 4.14. We will focus on Theorem 4.6 as it helps with our eigen problem.\n",
        "\n",
        "## Thm 4.6 (Invertibility vs determinant)\n",
        "A square matrix $A$ is invertible if and only if $\\det A\\neq 0$.\n",
        "\n",
        "\n",
        "As eigenvalues will make the matrix $(A-\\lambda\\mathbf{I})$ non invertible, we solve for $\\lambda$ by setting $\\det (A-\\lambda\\mathbf{I})=0$"
      ],
      "metadata": {
        "id": "4ul-2EtA6pVL"
      }
    },
    {
      "cell_type": "markdown",
      "source": [
        "## Determinants can be computed from the Numpy function ``numpy.linalg.det``. One application is to see if a system is uniquely solvable by checking the determinant of the coefficient matrix; nowadays we use the conditional number more."
      ],
      "metadata": {
        "id": "L4pB06myGSoF"
      }
    },
    {
      "cell_type": "code",
      "source": [
        "import numpy as np\n",
        "A = np.random.rand(5,5)\n",
        "\n",
        "det = np.linalg.det(A)\n",
        "\n",
        "condNum = np.linalg.cond(A)\n",
        "\n",
        "print(det, condNum)"
      ],
      "metadata": {
        "colab": {
          "base_uri": "https://localhost:8080/"
        },
        "id": "v0znVzaqGq_a",
        "outputId": "1f0cc7dc-47ed-452b-9d11-249fc37b0a44"
      },
      "execution_count": 6,
      "outputs": [
        {
          "output_type": "stream",
          "name": "stdout",
          "text": [
            "0.052219772558896524 20.422860418462342\n"
          ]
        }
      ]
    }
  ]
}