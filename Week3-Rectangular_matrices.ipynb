{
 "cells": [
  {
   "cell_type": "markdown",
   "id": "ceb2ddac",
   "metadata": {},
   "source": [
    "# In this notebook, we see some examples of rectangular matrices and some matrix decomposition methods."
   ]
  },
  {
   "cell_type": "code",
   "execution_count": 42,
   "id": "a89e69f6",
   "metadata": {},
   "outputs": [
    {
     "name": "stdout",
     "output_type": "stream",
     "text": [
      "Python 3 version is 3.8.10 (default, Nov 14 2022, 12:59:47) \n",
      "[GCC 9.4.0]\n",
      "Matplotlib version is 3.5.1\n",
      "Numpy version is 1.22.3\n",
      "Scipy version is 1.8.0\n",
      "System information:  uname_result(system='Linux', node='yajun-ThinkPad-T490s', release='5.4.0-131-generic', version='#147-Ubuntu SMP Fri Oct 14 17:07:22 UTC 2022', machine='x86_64', processor='x86_64')\n"
     ]
    }
   ],
   "source": [
    "# import packages and print software information\n",
    "import platform\n",
    "import numpy as np\n",
    "import scipy as sp\n",
    "from matplotlib import pyplot as plt \n",
    "%matplotlib inline\n",
    "\n",
    "import sys\n",
    "print(\"Python 3 version is\", sys.version)\n",
    "import matplotlib\n",
    "print(\"Matplotlib version is\", matplotlib.__version__)\n",
    "print(\"Numpy version is\", np.__version__)\n",
    "print(\"Scipy version is\", sp.__version__)\n",
    "\n",
    "print(\"System information: \", platform.uname())"
   ]
  },
  {
   "cell_type": "code",
   "execution_count": 43,
   "id": "9223bf2f",
   "metadata": {},
   "outputs": [
    {
     "name": "stdout",
     "output_type": "stream",
     "text": [
      "[[0.4555097  0.1114864  0.4925508 ]\n",
      " [0.78887701 0.5797165  0.88716919]\n",
      " [0.39729365 0.80098053 0.45245641]\n",
      " [0.24393603 0.26720208 0.47606591]\n",
      " [0.9104574  0.55662203 0.34581534]]\n"
     ]
    }
   ],
   "source": [
    "# Generate a random rectangular matrix\n",
    "A = np.random.random((5,3))\n",
    "print(A)\n",
    "\n",
    "b = np.random.random((5,1))"
   ]
  },
  {
   "cell_type": "markdown",
   "id": "3f380bec",
   "metadata": {},
   "source": [
    "## Rectangular matrices don't have inverse, but we can compute their (Moore-Penrose) pseudo-inverse. \n",
    "\n",
    "The pseudo-inverse of a matrix $A$, denoted $A^+$, is defined as: “the matrix that ‘solves’ the least square problem  $Ax=b$” i.e., if $\\bar{x}$ is said solution, then $A^+$ is that matrix such that $\\bar{x}=A^+b$.\n",
    "\n",
    "The solution will be the same as the result of np.linalg.lstsq(A,b)."
   ]
  },
  {
   "cell_type": "code",
   "execution_count": 44,
   "id": "9a273710",
   "metadata": {},
   "outputs": [
    {
     "name": "stdout",
     "output_type": "stream",
     "text": [
      "[[ 0.10774517]\n",
      " [-0.35546051]\n",
      " [ 0.73493489]]\n",
      "[[ 0.10774517]\n",
      " [-0.35546051]\n",
      " [ 0.73493489]]\n"
     ]
    },
    {
     "name": "stderr",
     "output_type": "stream",
     "text": [
      "/tmp/ipykernel_364416/115636695.py:3: FutureWarning: `rcond` parameter will change to the default of machine precision times ``max(M, N)`` where M and N are the input matrix dimensions.\n",
      "To use the future default and silence this warning we advise to pass `rcond=None`, to keep using the old, explicitly pass `rcond=-1`.\n",
      "  x2, _, _, _ = np.linalg.lstsq(A,b)\n"
     ]
    }
   ],
   "source": [
    "B = np.linalg.pinv(A)\n",
    "x1 = B.dot(b)\n",
    "x2, _, _, _ = np.linalg.lstsq(A,b)\n",
    "\n",
    "print(x1)\n",
    "print(x2)"
   ]
  },
  {
   "cell_type": "markdown",
   "id": "f8b38226",
   "metadata": {},
   "source": [
    "## The LU decomposition is implemented in the scipy library. "
   ]
  },
  {
   "cell_type": "code",
   "execution_count": 45,
   "id": "149f7dc9",
   "metadata": {},
   "outputs": [
    {
     "name": "stdout",
     "output_type": "stream",
     "text": [
      "Lower triangular matrix with 1 on the diagonal [[ 1.          0.          0.          0.        ]\n",
      " [ 0.0071836   1.          0.          0.        ]\n",
      " [ 0.4381684  -0.13680297  1.          0.        ]\n",
      " [ 0.957973   -0.12015186  0.77141385  1.        ]]\n",
      "Upper triangular matrix [[ 0.87144324  0.96702124  0.42466733  0.54387703]\n",
      " [ 0.          0.72203196  0.64021353  0.65809059]\n",
      " [ 0.          0.          0.83336421  0.32358471]\n",
      " [ 0.          0.          0.         -0.48402128]]\n",
      "Compute the difference between PLU-A [[ 0.00000000e+00  0.00000000e+00  0.00000000e+00  0.00000000e+00]\n",
      " [ 0.00000000e+00  0.00000000e+00  0.00000000e+00  0.00000000e+00]\n",
      " [ 0.00000000e+00  0.00000000e+00  0.00000000e+00  0.00000000e+00]\n",
      " [ 0.00000000e+00  0.00000000e+00 -1.11022302e-16  0.00000000e+00]]\n"
     ]
    }
   ],
   "source": [
    "A = np.random.random((4,4))\n",
    "\n",
    "P, L, U = sp.linalg.lu(A)\n",
    "print(\"Lower triangular matrix with 1 on the diagonal\", L)\n",
    "print(\"Upper triangular matrix\", U)\n",
    "\n",
    "print(\"Compute the difference between PLU-A\", P.dot(L.dot(U))-A)"
   ]
  },
  {
   "cell_type": "code",
   "execution_count": null,
   "id": "662184e3",
   "metadata": {},
   "outputs": [],
   "source": []
  }
 ],
 "metadata": {
  "kernelspec": {
   "display_name": "Python 3 (ipykernel)",
   "language": "python",
   "name": "python3"
  },
  "language_info": {
   "codemirror_mode": {
    "name": "ipython",
    "version": 3
   },
   "file_extension": ".py",
   "mimetype": "text/x-python",
   "name": "python",
   "nbconvert_exporter": "python",
   "pygments_lexer": "ipython3",
   "version": "3.8.10"
  }
 },
 "nbformat": 4,
 "nbformat_minor": 5
}
