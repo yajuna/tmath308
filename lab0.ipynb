{
 "cells": [
  {
   "cell_type": "markdown",
   "metadata": {},
   "source": [
    "# Lab 0: Introduction to Python \n",
    "\n",
    "Welcome to Python lab! In these exercises, we will learn some basic commands in Python. If you already know them, please feel free to play around, or move on to lab1. "
   ]
  },
  {
   "cell_type": "code",
   "execution_count": 2,
   "metadata": {},
   "outputs": [],
   "source": [
    "# import numpy and scipy for numerical and scientific computations; import visualization tool\n",
    "import numpy as np\n",
    "import scipy as sp\n",
    "import matplotlib as plt\n"
   ]
  },
  {
   "cell_type": "markdown",
   "metadata": {},
   "source": [
    "# some problems from Project Euler\n",
    "\n",
    "Make a random vector of size 50; make a zero matrix of size 3 by 4"
   ]
  },
  {
   "cell_type": "code",
   "execution_count": 9,
   "metadata": {},
   "outputs": [
    {
     "name": "stdout",
     "output_type": "stream",
     "text": [
      "[0.58319513 0.21046505 0.14832515 0.0148462  0.46935537 0.61238373\n",
      " 0.9947049  0.62523574 0.63389882 0.32526798 0.38387858 0.51896001\n",
      " 0.94601856 0.40428506 0.92442176 0.60063821 0.42701293 0.99243345\n",
      " 0.07743272 0.71889516 0.97102483 0.4937347  0.26231853 0.15393729\n",
      " 0.90508231 0.28408184 0.13976398 0.61441449 0.93434665 0.30724968\n",
      " 0.6478823  0.88271883 0.87841182 0.63845078 0.28469463 0.08129643\n",
      " 0.52285517 0.17608351 0.97078071 0.10649964 0.6723836  0.93356466\n",
      " 0.32833366 0.50463036 0.96362474 0.89230464 0.07291431 0.93427202\n",
      " 0.11063316 0.17175359]\n"
     ]
    }
   ],
   "source": [
    "# use random.rand in numpy to generate random arrays of float points.\n",
    "A = np.random.rand(50)\n",
    "print(A)"
   ]
  },
  {
   "cell_type": "code",
   "execution_count": 11,
   "metadata": {},
   "outputs": [],
   "source": [
    "B = np.zeros((3,4))\n",
    "print(B)"
   ]
  },
  {
   "cell_type": "code",
   "execution_count": null,
   "metadata": {},
   "outputs": [],
   "source": []
  }
 ],
 "metadata": {
  "kernelspec": {
   "display_name": "Python 3",
   "language": "python",
   "name": "python3"
  },
  "language_info": {
   "codemirror_mode": {
    "name": "ipython",
    "version": 3
   },
   "file_extension": ".py",
   "mimetype": "text/x-python",
   "name": "python",
   "nbconvert_exporter": "python",
   "pygments_lexer": "ipython3",
   "version": "3.6.8"
  }
 },
 "nbformat": 4,
 "nbformat_minor": 2
}
