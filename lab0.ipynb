{
 "cells": [
  {
   "cell_type": "markdown",
   "metadata": {},
   "source": [
    "# Lab 0: Introduction to Python \n",
    "\n",
    "Welcome to Python lab! In these exercises, we will learn some basic commands in Python. A couple of these exercises are mentioned in class."
   ]
  },
  {
   "cell_type": "code",
   "execution_count": 1,
   "metadata": {},
   "outputs": [],
   "source": [
    "# import numpy and scipy for numerical and scientific computations; import visualization tool\n",
    "import numpy as np\n",
    "import scipy as sp\n",
    "\n",
    "import matplotlib.pyplot as plt\n",
    "from mpl_toolkits.mplot3d import Axes3D"
   ]
  },
  {
   "cell_type": "markdown",
   "metadata": {},
   "source": [
    "# We have looked at this system in class\n",
    "\n",
    "\\begin{align}\n",
    "3x_1+2x_2+x_3=1\\\\\n",
    "-x_1+x_2+5x_3=2\\\\\n",
    "2x_1-3x_2=3\\\\\n",
    "x_2+x_3=4\\end{align}\n",
    "and know that it has no **exact** solutions. In this part of the lab, we study the least square solution to it."
   ]
  },
  {
   "cell_type": "code",
   "execution_count": 2,
   "metadata": {},
   "outputs": [],
   "source": [
    "# define coefficient matrix and right hand side\n",
    "\n",
    "B = np.array([[3,2,1],[-1,1,5],[2,-3,0],[0,1,1]])\n",
    "b = np.array([[1],[2],[3],[4]])\n",
    "\n",
    "# type B and b to print the above variables\n"
   ]
  },
  {
   "cell_type": "markdown",
   "metadata": {},
   "source": [
    "The python command x = np.linalg.lstsq(B,b) computes the least square solution of the system $Bx=b$. Bye that we mean the $x$ such that the difference $Bx-b$ is the smallest in some sense (the 2-norm). "
   ]
  },
  {
   "cell_type": "code",
   "execution_count": 3,
   "metadata": {},
   "outputs": [],
   "source": [
    "# type in the command x = np.linalg.lstsq(B,b) and then type x to see the output\n"
   ]
  },
  {
   "cell_type": "markdown",
   "metadata": {},
   "source": [
    "You probably have noticed that the x has several components, not all are of them are $x$ as mentioned above. Below, type x[0], x[1], x[2], and x[3] and see what you get."
   ]
  },
  {
   "cell_type": "code",
   "execution_count": 4,
   "metadata": {},
   "outputs": [],
   "source": [
    "# type x[0]-x[3], then type in r = np.dot(B,x[0])-b. Type r and see what you get; \n",
    "# then type in rankB = np.linalg.matrix_rank(B) and see what you get"
   ]
  },
  {
   "cell_type": "markdown",
   "metadata": {},
   "source": [
    "# In class, we have discussed two systems being equivalent. This part solve the two systems and show you get the same solutions. \n",
    "\n",
    "In class, we have discussed the two systems \n",
    "\\begin{align}\n",
    "5x_1+10x_2-5x_3=5\\\\\n",
    "2x_1-x_2+x_3=3\\\\\n",
    "-x_1+2x_2+3x_3=7\\end{align}\n",
    "\n",
    "and \n",
    "\n",
    "\\begin{align}\n",
    "x_1+2x_2-x_3=1\\\\\n",
    "4x_2+2x_3=8\\\\\n",
    "-5x_2+3x_3=1\\end{align}\n",
    "\n",
    "Now we will solve them with np.linalg.solve\n"
   ]
  },
  {
   "cell_type": "code",
   "execution_count": 5,
   "metadata": {},
   "outputs": [],
   "source": [
    "# run the following code and read the output. Explain the meaning of C, c, D, and d.\n",
    "\n",
    "C = np.array([[5,-10,5],[2,-1,1],[-1,2,3]])\n",
    "c = np.array([[5],[3],[7]])\n",
    "solc = np.linalg.solve(C,c)\n",
    "\n",
    "D = np.array([[1,2,-1],[0,4,2],[0,-5,3]])\n",
    "d = np.array([[1],[8],[1]])\n",
    "sold = np.linalg.solve(D,d)"
   ]
  },
  {
   "cell_type": "markdown",
   "metadata": {},
   "source": [
    "# In class, we discussed the geometric meaning of $2\\times 2$ systems. In this part, we will look at the geometric meaning of $3\\times 3$ systems.\n",
    "\n",
    "Consider the two linear equation $x_1- 2x_2 + x_3 = 0$ and $2x_2 - 8x_3 = 8$. We know they represent planes in 3D space. Run the following code."
   ]
  },
  {
   "cell_type": "code",
   "execution_count": null,
   "metadata": {},
   "outputs": [],
   "source": [
    "# run the following code, comment what they mean after a \"#\" symbol\n",
    "# Update: if you have not taken tmath126 yet, you do not need to worry about this portion\n",
    "\n",
    "# p1 = np.array([0,0,0])\n",
    "n1 = np.array([1,-2,1])\n",
    "\n",
    "# p2 = np.array([0,4,0])\n",
    "n2 = np.array([0,2,-8])\n",
    "\n",
    "d1 = 0 # -np.dot(p1,n1)\n",
    "d2 = -8 # -np.dot(p2,n2)\n",
    "\n",
    "xx, yy = np.meshgrid(range(20),range(20))\n",
    "\n",
    "z1 = (-n1[0]*xx - n1[1]*yy-d1)*1./n1[2]\n",
    "z2 = (-n2[0]*xx - n2[1]*yy-d2)*1./n2[2]\n",
    "\n",
    "# visualized\n",
    "plt3d = plt.figure().gca(projection = '3d')\n",
    "plt3d.plot_surface(xx,yy,z1,color = 'blue')\n",
    "plt3d.plot_surface(xx,yy,z2,color = 'yellow')\n",
    "plt.show()\n"
   ]
  },
  {
   "cell_type": "markdown",
   "metadata": {},
   "source": [
    "# Generate a random matrix $A$ of $4\\times 4$ and a vector $y$ of length 4. Solve the system $Az=y$."
   ]
  },
  {
   "cell_type": "code",
   "execution_count": null,
   "metadata": {},
   "outputs": [],
   "source": [
    "# type in your codes here"
   ]
  }
 ],
 "metadata": {
  "kernelspec": {
   "display_name": "Python 3",
   "language": "python",
   "name": "python3"
  },
  "language_info": {
   "codemirror_mode": {
    "name": "ipython",
    "version": 3
   },
   "file_extension": ".py",
   "mimetype": "text/x-python",
   "name": "python",
   "nbconvert_exporter": "python",
   "pygments_lexer": "ipython3",
   "version": "3.6.8"
  }
 },
 "nbformat": 4,
 "nbformat_minor": 2
}
