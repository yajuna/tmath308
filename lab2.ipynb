{
 "cells": [
  {
   "cell_type": "markdown",
   "metadata": {},
   "source": [
    "# In this lab, we investiagte several application of matrix computations. Complete the assignment by running existing code, typing your own code, or commenting on the code."
   ]
  },
  {
   "cell_type": "code",
   "execution_count": 39,
   "metadata": {},
   "outputs": [],
   "source": [
    "# import libraries\n",
    "import numpy as np\n",
    "from scipy.ndimage import gaussian_filter\n",
    "import sympy\n",
    "import matplotlib.pyplot as plt\n",
    "from PIL import Image\n",
    "\n"
   ]
  },
  {
   "cell_type": "markdown",
   "metadata": {},
   "source": [
    "## We will look at some applications in computer vision of linear algebra."
   ]
  },
  {
   "cell_type": "code",
   "execution_count": 40,
   "metadata": {},
   "outputs": [],
   "source": [
    "# import image\n",
    "\n",
    "face = Image.open(\"pexels_face.jpeg\")\n",
    "\n",
    "# show image\n",
    "\n",
    "face.show()\n"
   ]
  },
  {
   "cell_type": "markdown",
   "metadata": {},
   "source": [
    "Process image to get numpy arrays."
   ]
  },
  {
   "cell_type": "code",
   "execution_count": null,
   "metadata": {},
   "outputs": [],
   "source": [
    "# color to grayscale\n",
    "faceGray = face.convert('L')\n",
    "\n",
    "# convert image file to array\n",
    "faceArray = np.asarray(faceGray)\n",
    "\n",
    "# check data size\n",
    "faceShape = np.shape(faceArray)\n",
    "\n",
    "print(faceShape) # check images size"
   ]
  },
  {
   "cell_type": "markdown",
   "metadata": {},
   "source": [
    "We cut the matrix into top and bottom half. Here we handle the image files using what we learned in block matrices."
   ]
  },
  {
   "cell_type": "code",
   "execution_count": 42,
   "metadata": {},
   "outputs": [],
   "source": [
    "topface = faceArray[0:375,]\n",
    "bottomface = faceArray[375:,]"
   ]
  },
  {
   "cell_type": "code",
   "execution_count": 43,
   "metadata": {},
   "outputs": [],
   "source": [
    "# show images of top and bottom face\n",
    "\n",
    "top = Image.fromarray(topface, 'L')\n",
    "top.show()\n",
    "\n",
    "bottom = Image.fromarray(bottomface, 'L')\n",
    "bottom.show()"
   ]
  },
  {
   "cell_type": "markdown",
   "metadata": {},
   "source": [
    "Put the top and bottom images side by side. ($A|B$)"
   ]
  },
  {
   "cell_type": "code",
   "execution_count": 44,
   "metadata": {},
   "outputs": [],
   "source": [
    "face2 = np.hstack((top,bottom))\n",
    "\n",
    "face22 = Image.fromarray(face2, 'L')\n",
    "face22.show()"
   ]
  },
  {
   "cell_type": "markdown",
   "metadata": {},
   "source": [
    "In the following, insert cells. Type in your own code to cut the image vertically in two equal portions(call them, say leftface and rightface), then put them together in reverse order. Your new image should look like (rightface,leftface)."
   ]
  },
  {
   "cell_type": "code",
   "execution_count": 45,
   "metadata": {},
   "outputs": [],
   "source": [
    "# insert your own code here"
   ]
  },
  {
   "cell_type": "markdown",
   "metadata": {},
   "source": [
    "Check out this article on image classification: https://tinyurl.com/y4qommvo In the following, we will alter a single pixel in the face image."
   ]
  },
  {
   "cell_type": "code",
   "execution_count": null,
   "metadata": {},
   "outputs": [],
   "source": [
    "# alter pixel value at (300, 250)\n",
    "\n",
    "# make a copy temp, who is not read-only file\n",
    "temp = faceArray.copy()\n",
    "\n",
    "print(temp[300,250])\n",
    "\n",
    "temp[300,250] = 0\n",
    "temp = Image.fromarray(temp,'L')\n",
    "temp.show()"
   ]
  },
  {
   "cell_type": "markdown",
   "metadata": {},
   "source": [
    "You probably didn't see a difference in the image--this is a HD image, which means it has a lot of pixels. Changing one is hard to see. In the following, insert your own code to set a block of the image value to 0. Start off by making a copy of the faceArray datum so you can modify the image."
   ]
  },
  {
   "cell_type": "code",
   "execution_count": 47,
   "metadata": {},
   "outputs": [],
   "source": [
    "# insert your code here"
   ]
  },
  {
   "cell_type": "markdown",
   "metadata": {},
   "source": [
    "Image blurring is also done with matrix multiplication. It uses something called convolution. (see Kernel on Wikipedia). In the following, you will see an example of blur"
   ]
  },
  {
   "cell_type": "code",
   "execution_count": 50,
   "metadata": {},
   "outputs": [],
   "source": [
    "temp1 = faceArray.copy()\n",
    "a = np.arange(50, step=2).reshape((5,5))\n",
    "face_filter = gaussian_filter(a, sigma=1)\n",
    "result = gaussian_filter(temp1, sigma=5)\n",
    "temp1 = Image.fromarray(temp1,'L')\n",
    "result = Image.fromarray(result,'L')\n",
    "temp1.show()\n",
    "result.show()\n"
   ]
  },
  {
   "cell_type": "markdown",
   "metadata": {},
   "source": [
    "Insert your own code to blur topface. Change the blur so the image is less blurry as the previous output."
   ]
  },
  {
   "cell_type": "code",
   "execution_count": null,
   "metadata": {},
   "outputs": [],
   "source": []
  },
  {
   "cell_type": "markdown",
   "metadata": {},
   "source": [
    "## In the following, we investigate block matrices in matrix computations."
   ]
  },
  {
   "cell_type": "code",
   "execution_count": null,
   "metadata": {},
   "outputs": [],
   "source": [
    "# generate two integer valued matrices. Specify the values of m, n, and r. Then run the code\n",
    "\n",
    "A = np.random.randint(5,size = (m,n))\n",
    "B = np.random.randint(8,size = (n,r))\n",
    "\n",
    "print(A,B)"
   ]
  },
  {
   "cell_type": "code",
   "execution_count": null,
   "metadata": {},
   "outputs": [],
   "source": [
    "# Do matrix computation with the full matrix. Read the product matrix.\n",
    "\n",
    "product = np.dot(A,B)\n",
    "product"
   ]
  },
  {
   "cell_type": "code",
   "execution_count": null,
   "metadata": {},
   "outputs": [],
   "source": [
    "# Compute the product of A and the firts column of B. Run the code and read the result.\n",
    "\n",
    "product1 = np.dot(A,B[:,0])\n",
    "product1"
   ]
  },
  {
   "cell_type": "markdown",
   "metadata": {},
   "source": [
    "Compare the first column of product and product1. Type in your own code to compute their difference."
   ]
  },
  {
   "cell_type": "code",
   "execution_count": null,
   "metadata": {},
   "outputs": [],
   "source": []
  }
 ],
 "metadata": {
  "kernelspec": {
   "display_name": "Python 3",
   "language": "python",
   "name": "python3"
  },
  "language_info": {
   "codemirror_mode": {
    "name": "ipython",
    "version": 3
   },
   "file_extension": ".py",
   "mimetype": "text/x-python",
   "name": "python",
   "nbconvert_exporter": "python",
   "pygments_lexer": "ipython3",
   "version": "3.6.8"
  }
 },
 "nbformat": 4,
 "nbformat_minor": 2
}
