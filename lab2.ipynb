{
  "cells": [
    {
      "cell_type": "markdown",
      "metadata": {
        "id": "view-in-github",
        "colab_type": "text"
      },
      "source": [
        "<a href=\"https://colab.research.google.com/github/yajuna/tmath308/blob/master/lab2.ipynb\" target=\"_parent\"><img src=\"https://colab.research.google.com/assets/colab-badge.svg\" alt=\"Open In Colab\"/></a>"
      ]
    },
    {
      "cell_type": "markdown",
      "metadata": {
        "id": "ZTTHGTznujtG"
      },
      "source": [
        "# In this lab, we investiagte several application of matrix computations. Complete the assignment by running existing code, typing your own code, or commenting on the code."
      ]
    },
    {
      "cell_type": "code",
      "execution_count": null,
      "metadata": {
        "id": "5wwr77rfujtK"
      },
      "outputs": [],
      "source": [
        "# import libraries\n",
        "import numpy as np\n",
        "from scipy.ndimage import gaussian_filter\n",
        "from scipy.sparse import diags\n",
        "\n",
        "import matplotlib.pyplot as plt\n",
        "from PIL import Image"
      ]
    },
    {
      "cell_type": "markdown",
      "metadata": {
        "id": "Yo4aZFX0ujtL"
      },
      "source": [
        "## We will look at some applications in computer vision of linear algebra."
      ]
    },
    {
      "cell_type": "code",
      "execution_count": null,
      "metadata": {
        "id": "_tRZpHjmujtM"
      },
      "outputs": [],
      "source": [
        "import requests\n",
        "from io import BytesIO\n",
        "\n",
        "url_face = 'https://raw.githubusercontent.com/yajuna/tmath308/master/pexels_face.jpeg'\n",
        "page_face = requests.get(url_face)\n",
        "face = Image.open(BytesIO(page_face.content))"
      ]
    },
    {
      "cell_type": "code",
      "execution_count": null,
      "metadata": {
        "id": "P5BFM8FiujtM"
      },
      "outputs": [],
      "source": [
        "# ### DO NOT RUN\n",
        "# ########### Can use this code to load image if using Binder\n",
        "# # import image\n",
        "\n",
        "# face = Image.open(\"pexels_face.jpeg\")\n",
        "\n",
        "# # show image\n",
        "\n",
        "# plt.imshow(face)"
      ]
    },
    {
      "cell_type": "markdown",
      "metadata": {
        "id": "xO1Got5GujtN"
      },
      "source": [
        "Process image to get numpy arrays."
      ]
    },
    {
      "cell_type": "code",
      "execution_count": null,
      "metadata": {
        "id": "RxND3bHGujtN"
      },
      "outputs": [],
      "source": [
        "# color to grayscale\n",
        "faceGray = face.convert('L')\n",
        "\n",
        "plt.imshow(faceGray)\n",
        "\n",
        "# convert image file to array\n",
        "faceArray = np.asarray(faceGray)\n",
        "\n",
        "# check data size\n",
        "faceShape = np.shape(faceArray)\n",
        "\n",
        "print(\"The dimensions of the image is (row, column) =\",faceShape) # check images size"
      ]
    },
    {
      "cell_type": "markdown",
      "metadata": {
        "id": "X6YBtK5GujtN"
      },
      "source": [
        "We cut the matrix into top and bottom half. Here we handle the image files using what we learned in block matrices."
      ]
    },
    {
      "cell_type": "code",
      "execution_count": null,
      "metadata": {
        "id": "A6CdHQI9ujtO"
      },
      "outputs": [],
      "source": [
        "topface = faceArray[0:375,:]\n",
        "bottomface = faceArray[375:,:]"
      ]
    },
    {
      "cell_type": "code",
      "execution_count": null,
      "metadata": {
        "id": "J87JTVewujtO"
      },
      "outputs": [],
      "source": [
        "# show images of top and bottom face\n",
        "\n",
        "top = Image.fromarray(topface, 'L')\n",
        "\n",
        "bottom = Image.fromarray(bottomface, 'L')\n",
        "\n",
        "plt.figure()\n",
        "# subplot(r,c) #provide the no. of rows and columns\n",
        "f, top_bottom = plt.subplots(2,1)\n",
        "\n",
        "# use the created array to output your multiple images. In this case we have four images horizontally\n",
        "top_bottom[0].imshow(top)\n",
        "top_bottom[1].imshow(bottom)\n",
        "plt.show()"
      ]
    },
    {
      "cell_type": "markdown",
      "metadata": {
        "id": "-JPkk883ujtP"
      },
      "source": [
        "Put the top and bottom images side by side. ($A|B$)"
      ]
    },
    {
      "cell_type": "code",
      "execution_count": null,
      "metadata": {
        "id": "hrNeYTbvujtP"
      },
      "outputs": [],
      "source": [
        "face2 = np.hstack((top,bottom))\n",
        "\n",
        "face22 = Image.fromarray(face2, 'L')\n",
        "plt.imshow(face22)"
      ]
    },
    {
      "cell_type": "markdown",
      "metadata": {
        "id": "ztes9-nuujtP"
      },
      "source": [
        "In the following, insert cells. Type in your own code to cut the image vertically in two equal portions(call them, say leftface and rightface), then put them together in reverse order. Your new image should look like (rightface,leftface)."
      ]
    },
    {
      "cell_type": "code",
      "execution_count": null,
      "metadata": {
        "id": "FWe1bLWBujtP"
      },
      "outputs": [],
      "source": [
        "leftface = faceArray[:,0:250]\n",
        "\n",
        "# insert your own code below to define right hand side of face\n",
        "# rightface ="
      ]
    },
    {
      "cell_type": "markdown",
      "metadata": {
        "id": "7w1oO76sujtP"
      },
      "source": [
        "Check out this article on image classification: https://tinyurl.com/y4qommvo It seems like every single pixel counts in image recognition! In the following, we will alter a single pixel in the face image."
      ]
    },
    {
      "cell_type": "code",
      "execution_count": null,
      "metadata": {
        "id": "veCyCrYWujtP"
      },
      "outputs": [],
      "source": [
        "# alter pixel value at (300, 250)\n",
        "\n",
        "# make a copy temp, who is not read-only file\n",
        "alter_one_point = faceArray.copy()\n",
        "\n",
        "print(\"Value at the pixel to alter: \", alter_one_point[300,250])\n",
        "\n",
        "# replace the value at (300,250) by 0 by running this code below\n",
        "\n",
        "alter_one_point[300,250] = 0\n",
        "alter_one_point = Image.fromarray(alter_one_point,'L')\n",
        "plt.imshow(alter_one_point)"
      ]
    },
    {
      "cell_type": "markdown",
      "metadata": {
        "id": "uA0Pocp3ujtP"
      },
      "source": [
        "You probably didn't see a difference in the image--this is a HD image, which means it has a lot of pixels. Changing one is hard to see. In the following, insert your own code to set a block of the image value to 0. Start off by making a copy of the faceArray datum so you can modify the image."
      ]
    },
    {
      "cell_type": "code",
      "execution_count": null,
      "metadata": {
        "id": "udmtoKY5ujtQ"
      },
      "outputs": [],
      "source": [
        "# uncomment below to show the result if we change the pixel values of a block- feel free to play around and change\n",
        "# location that you change, and the pixel values that you assign.\n",
        "\n",
        "# alter_one_block = faceArray.copy()\n",
        "\n",
        "# block = alter_one_block[300:350,250: 375]\n",
        "\n",
        "# alter_one_block[300:350,250: 375] = np.zeros(block.shape)\n",
        "# alter_one_block = Image.fromarray(alter_one_block,'L')\n",
        "# plt.imshow(alter_one_block)"
      ]
    },
    {
      "cell_type": "markdown",
      "metadata": {
        "id": "MuIRzFwoujtQ"
      },
      "source": [
        "Image blurring is also done with matrix multiplication. It uses something called convolution. (see Kernel on Wikipedia). In the following, you will see an example of blur"
      ]
    },
    {
      "cell_type": "code",
      "execution_count": null,
      "metadata": {
        "id": "iPnq5RmWujtQ"
      },
      "outputs": [],
      "source": [
        "original_face = faceArray.copy()\n",
        "\n",
        "blurryface = gaussian_filter(original_face, sigma=5)\n",
        "original_face = Image.fromarray(original_face,'L')\n",
        "blurryface = Image.fromarray(blurryface,'L')\n",
        "\n",
        "plt.figure()\n",
        "# subplot(r,c) #provide the no. of rows and columns\n",
        "f, blur = plt.subplots(1,2)\n",
        "\n",
        "# use the created array to output your multiple images. In this case we have four images horizontally\n",
        "blur[0].imshow(blurryface)\n",
        "blur[1].imshow(original_face)\n",
        "plt.show()\n"
      ]
    },
    {
      "cell_type": "markdown",
      "metadata": {
        "id": "g-7cRlK4ujtQ"
      },
      "source": [
        "Insert your own code to blur topface. Change the blur so the image is less blurry (smaller sigma value) as the previous output."
      ]
    },
    {
      "cell_type": "code",
      "execution_count": null,
      "metadata": {
        "id": "vXmQjl4gujtQ"
      },
      "outputs": [],
      "source": [
        "less_blurryface = gaussian_filter(original_face, sigma=2.5)\n",
        "less_blurryface = Image.fromarray(less_blurryface,'L')\n",
        "\n",
        "plt.figure()\n",
        "# subplot(r,c) #provide the no. of rows and columns\n",
        "f, blur = plt.subplots(1,2)\n",
        "\n",
        "# use the created array to output your multiple images. In this case we have four images horizontally\n",
        "blur[0].imshow(blurryface)\n",
        "blur[1].imshow(less_blurryface)\n",
        "plt.show()"
      ]
    },
    {
      "cell_type": "markdown",
      "metadata": {
        "id": "W-v3aXz8ujtQ"
      },
      "source": [
        "## In the following, we investigate block matrices in matrix computations."
      ]
    },
    {
      "cell_type": "code",
      "execution_count": null,
      "metadata": {
        "id": "63LULmn_ujtQ"
      },
      "outputs": [],
      "source": [
        "# generate two integer valued matrices. Specify the values of m, n, and r. Then run the code\n",
        "\n",
        "m = 3\n",
        "n = 2\n",
        "r = 1\n",
        "\n",
        "A = np.random.randint(5,size = (m,n))\n",
        "B = np.random.randint(8,size = (n,r))\n",
        "\n",
        "print(A,B)"
      ]
    },
    {
      "cell_type": "code",
      "execution_count": null,
      "metadata": {
        "id": "bo_GK7TVujtQ"
      },
      "outputs": [],
      "source": [
        "# Do matrix computation with the full matrix. Read the product matrix. Uncomment to print\n",
        "\n",
        "product = np.dot(A,B)\n",
        "# print(product)"
      ]
    },
    {
      "cell_type": "code",
      "execution_count": null,
      "metadata": {
        "id": "F4LlsXWhujtQ"
      },
      "outputs": [],
      "source": [
        "# Compute the product of A and the firts column of B. Run the code and read the result. Uncomment to print\n",
        "\n",
        "product1 = np.dot(A,B[:,0])\n",
        "# print(product1)"
      ]
    },
    {
      "cell_type": "markdown",
      "metadata": {
        "id": "XEnygDCfujtQ"
      },
      "source": [
        "Compare the first column of product and product1. Type in your own code to compute their difference."
      ]
    },
    {
      "cell_type": "markdown",
      "metadata": {
        "id": "EEQ1q6JlujtR"
      },
      "source": [
        "## In the following, we will study matrix division (or the more fancy name, inverse matrices)."
      ]
    },
    {
      "cell_type": "markdown",
      "metadata": {
        "id": "DnFOgpaUujtR"
      },
      "source": [
        "A lot of physical phenomena can be modeled by partial differential equation, then solved by numerical methods, very often by solving linear systems. Parabolic equations (describes heat diffusion) for example, are often tridiagonal systems."
      ]
    },
    {
      "cell_type": "code",
      "execution_count": null,
      "metadata": {
        "id": "_uJsXau2ujtR"
      },
      "outputs": [],
      "source": [
        "# run the code and print coeff\n",
        "coeff = diags([1, -2, 1], [-1, 0, 1], shape=(7, 7)).toarray()\n",
        "print(coeff)"
      ]
    },
    {
      "cell_type": "markdown",
      "metadata": {
        "id": "T8EcSjwMujtR"
      },
      "source": [
        "You will see that most of the elements in your matrix are 0's. We call this type of matrix *sparse*. This particular matrix coeff has an inverse, we will compute the inverse below."
      ]
    },
    {
      "cell_type": "code",
      "execution_count": null,
      "metadata": {
        "id": "x5mcJa6OujtR"
      },
      "outputs": [],
      "source": [
        "coeff_inv = np.linalg.inv(coeff)\n",
        "# print(coeff_inv)"
      ]
    },
    {
      "cell_type": "markdown",
      "metadata": {
        "id": "-504lsxgujtR"
      },
      "source": [
        "Is the inverse matrix coeff_inv still sparse, i.e., does it have a lot of zeros? Ans:\n",
        "\n",
        "In practice, when solving a system like $A\\mathbf{x}=\\mathbf{b}$ when $A$ is sparse, we often do not use $\\mathbf{x}=A^{-1}\\mathbf{b}$, as the computation is massive."
      ]
    },
    {
      "cell_type": "markdown",
      "metadata": {
        "id": "eOcaTgLuujtR"
      },
      "source": [
        "In the following, we show an example for the claim *If $A$ is symmetric and invertible, then $A^{-1}$ is also symmetric*."
      ]
    },
    {
      "cell_type": "code",
      "execution_count": null,
      "metadata": {
        "id": "9UMqFpDoujtR"
      },
      "outputs": [],
      "source": [
        "# generate a random symmetric matrix with integer entries\n",
        "Agen = np.random.randint(9,size = (8,8))\n",
        "Asy = (Agen + Agen.T)/2"
      ]
    },
    {
      "cell_type": "code",
      "execution_count": null,
      "metadata": {
        "id": "MavRTyROujtR"
      },
      "outputs": [],
      "source": [
        "print(Asy)"
      ]
    },
    {
      "cell_type": "code",
      "execution_count": null,
      "metadata": {
        "id": "rjMeIS9qujtR"
      },
      "outputs": [],
      "source": [
        "# Check if the matrix is invertible by running the code. rA computes the rank of matrix A, we will soon learn about it.\n",
        "# If rA = order of matrix (for us, the order is 8), then the matrix is invertible; if rA < 8, generate another one.\n",
        "\n",
        "rA = np.linalg.matrix_rank(Asy)\n",
        "print(rA)"
      ]
    },
    {
      "cell_type": "code",
      "execution_count": null,
      "metadata": {
        "id": "HbFhZeveujtR"
      },
      "outputs": [],
      "source": [
        "# When your Asymmetric is invertible, run the following code to compute the inverse.\n",
        "Asyinv = np.linalg.inv(Asy)\n"
      ]
    },
    {
      "cell_type": "markdown",
      "metadata": {
        "id": "nkGqGewmujtS"
      },
      "source": [
        "In the following cell, type your own code to justify *$A^{-1}$ is also symmetric*. If you are having trouble, uncomment the code below and think what it does."
      ]
    },
    {
      "cell_type": "code",
      "execution_count": null,
      "metadata": {
        "id": "ak3NulOZujtW"
      },
      "outputs": [],
      "source": [
        "# type your own code- Compute Asyinv - Asyinv.T and see that the difference is around e-16 (machine epsilon)\n",
        "\n",
        "\n",
        "\n",
        "\n",
        "# Agen = np.random.randint(9,size = (8,8))\n",
        "# Asy = (Agen + Agen.T)/2\n",
        "# rB = np.linalg.matrix_rank(Asy)\n",
        "# print(rB)\n",
        "# Asyinv = np.linalg.inv(Asy)"
      ]
    },
    {
      "cell_type": "markdown",
      "metadata": {
        "id": "OaynTHX0ujtW"
      },
      "source": [
        "## We will play with generating block matrices and the identity matrices in this part"
      ]
    },
    {
      "cell_type": "markdown",
      "metadata": {
        "id": "GljzbgKBujtX"
      },
      "source": [
        "The command np.eye(n) generates the identity matrix of order n."
      ]
    },
    {
      "cell_type": "code",
      "execution_count": null,
      "metadata": {
        "id": "dpw-1rWTujtX"
      },
      "outputs": [],
      "source": [
        "# define a 4 by 4 identity matrix. Run the code to print the matrix\n",
        "\n",
        "B = np.eye(4)\n",
        "\n",
        "print(B)"
      ]
    },
    {
      "cell_type": "code",
      "execution_count": null,
      "metadata": {
        "id": "h04FIOvkujtX"
      },
      "outputs": [],
      "source": [
        "# build a block matrix with B. We have seen np.zeros((m,n)), which generates a m by n zero matrix.\n",
        "\n",
        "M = np.block([[np.zeros((4,4)),B], [B, np.zeros((4,4))]])\n",
        "\n",
        "print(M)"
      ]
    },
    {
      "cell_type": "code",
      "execution_count": null,
      "metadata": {
        "id": "0C8r8QEGujtX"
      },
      "outputs": [],
      "source": [
        "# Type your own code to compute the inverse of M.\n",
        "\n"
      ]
    },
    {
      "cell_type": "code",
      "execution_count": null,
      "metadata": {
        "id": "idUTYTTGujtX"
      },
      "outputs": [],
      "source": [
        "# build a block matrix with B and a random matrix.\n",
        "\n",
        "N = np.block([[B, np.zeros((4,4))], [np.random.randint(7,size = (4,4)), B]])\n",
        "\n",
        "print(N)"
      ]
    },
    {
      "cell_type": "code",
      "execution_count": null,
      "metadata": {
        "id": "NmlhUhZgujtX"
      },
      "outputs": [],
      "source": [
        "Ninv = np.linalg.inv(N)\n",
        "print(Ninv)"
      ]
    }
  ],
  "metadata": {
    "kernelspec": {
      "display_name": "Python 3",
      "language": "python",
      "name": "python3"
    },
    "language_info": {
      "codemirror_mode": {
        "name": "ipython",
        "version": 3
      },
      "file_extension": ".py",
      "mimetype": "text/x-python",
      "name": "python",
      "nbconvert_exporter": "python",
      "pygments_lexer": "ipython3",
      "version": "3.7.4"
    },
    "colab": {
      "provenance": [],
      "include_colab_link": true
    }
  },
  "nbformat": 4,
  "nbformat_minor": 0
}