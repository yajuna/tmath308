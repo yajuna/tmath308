{
 "cells": [
  {
   "cell_type": "markdown",
   "metadata": {},
   "source": [
    "# In this lab, we investiagte several application of matrix computations. Complete the assignment by running existing code, typing your own code, or commenting on the code."
   ]
  },
  {
   "cell_type": "code",
   "execution_count": 16,
   "metadata": {},
   "outputs": [],
   "source": [
    "# import libraries\n",
    "import numpy as np\n",
    "from scipy.ndimage import gaussian_filter\n",
    "from scipy.sparse import diags\n",
    "\n",
    "import matplotlib.pyplot as plt\n",
    "from PIL import Image\n",
    "\n"
   ]
  },
  {
   "cell_type": "markdown",
   "metadata": {},
   "source": [
    "## We will look at some applications in computer vision of linear algebra."
   ]
  },
  {
   "cell_type": "code",
   "execution_count": 2,
   "metadata": {},
   "outputs": [],
   "source": [
    "# import image\n",
    "\n",
    "face = Image.open(\"pexels_face.jpeg\")\n",
    "\n",
    "# show image\n",
    "\n",
    "face.show()\n"
   ]
  },
  {
   "cell_type": "markdown",
   "metadata": {},
   "source": [
    "Process image to get numpy arrays."
   ]
  },
  {
   "cell_type": "code",
   "execution_count": 3,
   "metadata": {},
   "outputs": [
    {
     "name": "stdout",
     "output_type": "stream",
     "text": [
      "(750, 500)\n"
     ]
    }
   ],
   "source": [
    "# color to grayscale\n",
    "faceGray = face.convert('L')\n",
    "\n",
    "# convert image file to array\n",
    "faceArray = np.asarray(faceGray)\n",
    "\n",
    "# check data size\n",
    "faceShape = np.shape(faceArray)\n",
    "\n",
    "print(faceShape) # check images size"
   ]
  },
  {
   "cell_type": "markdown",
   "metadata": {},
   "source": [
    "We cut the matrix into top and bottom half. Here we handle the image files using what we learned in block matrices."
   ]
  },
  {
   "cell_type": "code",
   "execution_count": 4,
   "metadata": {},
   "outputs": [],
   "source": [
    "topface = faceArray[0:375,]\n",
    "bottomface = faceArray[375:,]"
   ]
  },
  {
   "cell_type": "code",
   "execution_count": 5,
   "metadata": {},
   "outputs": [],
   "source": [
    "# show images of top and bottom face\n",
    "\n",
    "top = Image.fromarray(topface, 'L')\n",
    "top.show()\n",
    "\n",
    "bottom = Image.fromarray(bottomface, 'L')\n",
    "bottom.show()"
   ]
  },
  {
   "cell_type": "markdown",
   "metadata": {},
   "source": [
    "Put the top and bottom images side by side. ($A|B$)"
   ]
  },
  {
   "cell_type": "code",
   "execution_count": 6,
   "metadata": {},
   "outputs": [],
   "source": [
    "face2 = np.hstack((top,bottom))\n",
    "\n",
    "face22 = Image.fromarray(face2, 'L')\n",
    "face22.show()"
   ]
  },
  {
   "cell_type": "markdown",
   "metadata": {},
   "source": [
    "In the following, insert cells. Type in your own code to cut the image vertically in two equal portions(call them, say leftface and rightface), then put them together in reverse order. Your new image should look like (rightface,leftface)."
   ]
  },
  {
   "cell_type": "code",
   "execution_count": 7,
   "metadata": {},
   "outputs": [],
   "source": [
    "# insert your own code here"
   ]
  },
  {
   "cell_type": "markdown",
   "metadata": {},
   "source": [
    "Check out this article on image classification: https://tinyurl.com/y4qommvo It seems like every single pixel counts in image recognition! In the following, we will alter a single pixel in the face image."
   ]
  },
  {
   "cell_type": "code",
   "execution_count": null,
   "metadata": {},
   "outputs": [],
   "source": [
    "# alter pixel value at (300, 250)\n",
    "\n",
    "# make a copy temp, who is not read-only file\n",
    "temp = faceArray.copy()\n",
    "\n",
    "print(temp[300,250])\n",
    "\n",
    "# replace the value at (300,250) by 0\n",
    "\n",
    "temp[300,250] = 0\n",
    "temp = Image.fromarray(temp,'L')\n",
    "temp.show()"
   ]
  },
  {
   "cell_type": "markdown",
   "metadata": {},
   "source": [
    "You probably didn't see a difference in the image--this is a HD image, which means it has a lot of pixels. Changing one is hard to see. In the following, insert your own code to set a block of the image value to 0. Start off by making a copy of the faceArray datum so you can modify the image."
   ]
  },
  {
   "cell_type": "code",
   "execution_count": 10,
   "metadata": {},
   "outputs": [],
   "source": [
    "# insert your code here"
   ]
  },
  {
   "cell_type": "markdown",
   "metadata": {},
   "source": [
    "Image blurring is also done with matrix multiplication. It uses something called convolution. (see Kernel on Wikipedia). In the following, you will see an example of blur"
   ]
  },
  {
   "cell_type": "code",
   "execution_count": 14,
   "metadata": {},
   "outputs": [],
   "source": [
    "temp1 = faceArray.copy()\n",
    "a = np.arange(50, step=2).reshape((5,5))\n",
    "face_filter = gaussian_filter(a, sigma=1)\n",
    "result = gaussian_filter(temp1, sigma=5)\n",
    "temp1 = Image.fromarray(temp1,'L')\n",
    "result = Image.fromarray(result,'L')\n",
    "temp1.show()\n",
    "result.show()\n"
   ]
  },
  {
   "cell_type": "markdown",
   "metadata": {},
   "source": [
    "Insert your own code to blur topface. Change the blur so the image is less blurry as the previous output."
   ]
  },
  {
   "cell_type": "code",
   "execution_count": null,
   "metadata": {},
   "outputs": [],
   "source": []
  },
  {
   "cell_type": "markdown",
   "metadata": {},
   "source": [
    "## In the following, we investigate block matrices in matrix computations."
   ]
  },
  {
   "cell_type": "code",
   "execution_count": null,
   "metadata": {},
   "outputs": [],
   "source": [
    "# generate two integer valued matrices. Specify the values of m, n, and r. Then run the code\n",
    "\n",
    "A = np.random.randint(5,size = (m,n))\n",
    "B = np.random.randint(8,size = (n,r))\n",
    "\n",
    "print(A,B)"
   ]
  },
  {
   "cell_type": "code",
   "execution_count": null,
   "metadata": {},
   "outputs": [],
   "source": [
    "# Do matrix computation with the full matrix. Read the product matrix.\n",
    "\n",
    "product = np.dot(A,B)\n",
    "product"
   ]
  },
  {
   "cell_type": "code",
   "execution_count": null,
   "metadata": {},
   "outputs": [],
   "source": [
    "# Compute the product of A and the firts column of B. Run the code and read the result.\n",
    "\n",
    "product1 = np.dot(A,B[:,0])\n",
    "product1"
   ]
  },
  {
   "cell_type": "markdown",
   "metadata": {},
   "source": [
    "Compare the first column of product and product1. Type in your own code to compute their difference."
   ]
  },
  {
   "cell_type": "markdown",
   "metadata": {},
   "source": [
    "## In the following, we will study matrix division (or the more fancy name, inverse matrices). "
   ]
  },
  {
   "cell_type": "markdown",
   "metadata": {},
   "source": [
    "A lot of physical phenomena can be modeled by partial differential equation, then solved by numerical methods, very often by solving linear systems. Parabolic equations (describes heat diffusion) for example, are often tridiagonal systems. "
   ]
  },
  {
   "cell_type": "code",
   "execution_count": null,
   "metadata": {},
   "outputs": [],
   "source": [
    "# run the code and print coeff\n",
    "coeff = diags([1, -2, 1], [-1, 0, 1], shape=(7, 7)).toarray()\n",
    "print(coeff)"
   ]
  },
  {
   "cell_type": "markdown",
   "metadata": {},
   "source": [
    "You will see that most of the elements in your matrix are 0's. We call this type of matrix *sparse*. This particular matrix coeff has an inverse, we will compute the inverse below."
   ]
  },
  {
   "cell_type": "code",
   "execution_count": null,
   "metadata": {},
   "outputs": [],
   "source": [
    "coeff_inv = np.linalg.inv(coeff)\n",
    "coeff_inv"
   ]
  },
  {
   "cell_type": "markdown",
   "metadata": {},
   "source": [
    "Is the inverse matrix coeff_inv still sparse, i.e., does it have a lot of zeros? Ans:\n",
    "\n",
    "In practice, when solving a system like $A\\mathbf{x}=\\mathbf{b}$ when $A$ is sparse, we often do not use $\\mathbf{x}=A^{-1}\\mathbf{b}$, as the computation is massive. "
   ]
  },
  {
   "cell_type": "markdown",
   "metadata": {},
   "source": [
    "In the following, we show an example for the claim *If $A$ is symmetric and invertible, then $A^{-1}$ is also symmetric*. "
   ]
  },
  {
   "cell_type": "code",
   "execution_count": 22,
   "metadata": {},
   "outputs": [],
   "source": [
    "# generate a random symmetric matrix with integer entries\n",
    "Agen = np.random.randint(9,size = (8,8))\n",
    "Asy = (Agen + Agen.T)/2"
   ]
  },
  {
   "cell_type": "code",
   "execution_count": null,
   "metadata": {},
   "outputs": [],
   "source": [
    "print(Asy)"
   ]
  },
  {
   "cell_type": "code",
   "execution_count": 24,
   "metadata": {},
   "outputs": [],
   "source": [
    "# Check if the matrix is invertible by running the code. rA computes the rank of matrix A, we will soon learn about it.\n",
    "# If rA = order of matrix (for us, the order is 8), then the matrix is invertible; if rA < 8, generate another one.\n",
    "\n",
    "rA = np.linalg.matrix_rank(Asy)\n",
    "print(rA)"
   ]
  },
  {
   "cell_type": "code",
   "execution_count": null,
   "metadata": {},
   "outputs": [],
   "source": [
    "# When your Asymmetric is invertible, run the following code to compute the inverse. \n",
    "Asyinv = np.linalg.inv(Asy)\n"
   ]
  },
  {
   "cell_type": "markdown",
   "metadata": {},
   "source": [
    "In the following cell, type your own code to justify *$A^{-1}$ is also symmetric*."
   ]
  },
  {
   "cell_type": "code",
   "execution_count": 26,
   "metadata": {},
   "outputs": [],
   "source": [
    "# type your own code"
   ]
  },
  {
   "cell_type": "markdown",
   "metadata": {},
   "source": [
    "## We will play with generating block matrices and the identity matrices in this part"
   ]
  },
  {
   "cell_type": "markdown",
   "metadata": {},
   "source": [
    "The command np.eye(n) generates the identity matrix of order n."
   ]
  },
  {
   "cell_type": "code",
   "execution_count": null,
   "metadata": {},
   "outputs": [],
   "source": [
    "# define a 4 by 4 identity matrix. Run the code to print the matrix\n",
    "\n",
    "B = np.eye(4)\n",
    "\n",
    "print(B)"
   ]
  },
  {
   "cell_type": "code",
   "execution_count": null,
   "metadata": {},
   "outputs": [],
   "source": [
    "# build a block matrix with B. We have seen np.zeros((m,n)), which generates a m by n zero matrix.\n",
    "\n",
    "M = np.block([[np.zeros((4,4)),B], [B, np.zeros((4,4))]])\n",
    "\n",
    "print(M)"
   ]
  },
  {
   "cell_type": "code",
   "execution_count": null,
   "metadata": {},
   "outputs": [],
   "source": [
    "# Type your own code to compute the inverse of M. \n",
    "\n"
   ]
  },
  {
   "cell_type": "code",
   "execution_count": null,
   "metadata": {},
   "outputs": [],
   "source": [
    "# build a block matrix with B and a random matrix. \n",
    "\n",
    "N = np.block([[B, np.zeros((4,4))], [np.random.randint(7,size = (4,4)), B]])\n",
    "\n",
    "print(N)"
   ]
  },
  {
   "cell_type": "code",
   "execution_count": 41,
   "metadata": {},
   "outputs": [],
   "source": [
    "Ninv = np.linalg.inv(N)\n",
    "print(Ninv)"
   ]
  },
  {
   "cell_type": "code",
   "execution_count": null,
   "metadata": {},
   "outputs": [],
   "source": []
  }
 ],
 "metadata": {
  "kernelspec": {
   "display_name": "Python 3",
   "language": "python",
   "name": "python3"
  },
  "language_info": {
   "codemirror_mode": {
    "name": "ipython",
    "version": 3
   },
   "file_extension": ".py",
   "mimetype": "text/x-python",
   "name": "python",
   "nbconvert_exporter": "python",
   "pygments_lexer": "ipython3",
   "version": "3.6.8"
  }
 },
 "nbformat": 4,
 "nbformat_minor": 2
}
